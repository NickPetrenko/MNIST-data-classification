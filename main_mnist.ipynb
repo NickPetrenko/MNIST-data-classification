{
 "cells": [
  {
   "cell_type": "markdown",
   "id": "d0fe272c-6bbc-4487-8046-f260a18e422b",
   "metadata": {
    "tags": []
   },
   "source": [
    "# Лабораторна робота №3\n",
    "# 31 варіант\n",
    "## з дисципліни ІСППР\n",
    "### виконав студент 3 курсу, групи КА-95, Петренко Микола¶"
   ]
  },
  {
   "cell_type": "code",
   "execution_count": 1,
   "id": "bc5c8777-987e-4828-83c8-f9c2d096d7eb",
   "metadata": {},
   "outputs": [
    {
     "name": "stdout",
     "output_type": "stream",
     "text": [
      "WARNING:tensorflow:From C:\\Users\\Админ\\Python310\\lib\\site-packages\\tensorflow\\python\\compat\\v2_compat.py:107: disable_resource_variables (from tensorflow.python.ops.variable_scope) is deprecated and will be removed in a future version.\n",
      "Instructions for updating:\n",
      "non-resource variables are not supported in the long term\n"
     ]
    }
   ],
   "source": [
    "#importing libraries\n",
    "import os\n",
    "import shutil\n",
    "import random\n",
    "import numpy as np\n",
    "import pandas as pd\n",
    "import tensorflow.compat.v1 as tf\n",
    "tf.disable_v2_behavior()\n",
    "from matplotlib import pyplot as plt\n",
    "from matplotlib import image\n",
    "from sklearn.model_selection import train_test_split\n",
    "from sklearn.metrics import f1_score\n",
    "from sklearn.metrics import roc_auc_score\n",
    "from keras.datasets import mnist\n",
    "import warnings\n",
    "from tqdm.notebook import tqdm, trange #progress bars\n",
    "import cv2\n",
    "%load_ext tensorboard\n",
    "\n",
    "warnings.filterwarnings('ignore')"
   ]
  },
  {
   "cell_type": "code",
   "execution_count": 2,
   "id": "6ec0c76d-bf11-4415-be32-5decb1e45f98",
   "metadata": {},
   "outputs": [],
   "source": [
    "#loading data\n",
    "(train_X, train_y), (X_test, y_test) = mnist.load_data()"
   ]
  },
  {
   "cell_type": "code",
   "execution_count": 3,
   "id": "8f0d2dde-23bc-4107-9a7c-c9ba623ad36f",
   "metadata": {},
   "outputs": [
    {
     "data": {
      "image/png": "[encoded data removed]",
      "text/plain": [
       "<Figure size 432x288 with 9 Axes>"
      ]
     },
     "metadata": {
      "needs_background": "light"
     },
     "output_type": "display_data"
    }
   ],
   "source": [
    "#some visualization\n",
    "for i in range(9):  \n",
    "    plt.subplot(330 + 1 + i)\n",
    "    plt.imshow(train_X[i], cmap = plt.get_cmap('gray'))\n",
    "plt.show()"
   ]
  },
  {
   "cell_type": "code",
   "execution_count": 4,
   "id": "aa174ba3-592e-4a52-82fc-3c7fcfed2e6b",
   "metadata": {},
   "outputs": [],
   "source": [
    "#splitting initial training data into new train and validating datasets\n",
    "X_train, X_valid, y_train, y_valid = train_test_split(train_X, train_y, test_size = 0.2)"
   ]
  },
  {
   "cell_type": "code",
   "execution_count": 5,
   "id": "ccb71543-de4d-41e6-9144-cec06f72d7eb",
   "metadata": {},
   "outputs": [],
   "source": [
    "#reshaping our data in 2d array, each data point corresponds to 'brightness' of pixel on initial 28x28 image\n",
    "X_train = X_train.reshape(len(X_train), 784) #784 = 28*28\n",
    "X_valid = X_valid.reshape(len(X_valid), 784)\n",
    "X_test = X_test.reshape(len(X_test), 784)"
   ]
  },
  {
   "cell_type": "code",
   "execution_count": 6,
   "id": "99a1384a-ff7a-48d2-bf1f-99f42ccac59b",
   "metadata": {},
   "outputs": [],
   "source": [
    "#normalising data (to range (0, 1)) for easier training\n",
    "max_val = 255 #255 corresponds to 'brightest' pixel (white) so there is no value higher\n",
    "\n",
    "X_train = X_train.astype('float64')\n",
    "X_valid = X_valid.astype('float64')\n",
    "X_test = X_test.astype('float64')\n",
    "\n",
    "X_train /= max_val\n",
    "X_valid /= max_val\n",
    "X_test /= max_val"
   ]
  },
  {
   "cell_type": "code",
   "execution_count": 7,
   "id": "7e8388b8-751b-49af-b78b-cbf8fe749b7e",
   "metadata": {},
   "outputs": [],
   "source": [
    "#converting labels to set of arrays with only zeroes and ones each of them corresponding to number from 0 to 9\n",
    "num_classes = 10 #amount of numbers from 0 to 9\n",
    "\n",
    "y_train = tf.keras.utils.to_categorical(y_train, num_classes)\n",
    "y_valid = tf.keras.utils.to_categorical(y_valid, num_classes)\n",
    "y_test = tf.keras.utils.to_categorical(y_test, num_classes)\n",
    "\n",
    "# y_valid = np.argmax(y_valid, axis = 0)"
   ]
  },
  {
   "cell_type": "code",
   "execution_count": 8,
   "id": "4aaf8444-190c-4d56-9ffa-498535f9b0e2",
   "metadata": {},
   "outputs": [
    {
     "data": {
      "text/plain": [
       "array([0., 1.], dtype=float32)"
      ]
     },
     "execution_count": 8,
     "metadata": {},
     "output_type": "execute_result"
    }
   ],
   "source": [
    "np.unique(y_valid)"
   ]
  },
  {
   "cell_type": "code",
   "execution_count": 9,
   "id": "0fb37e1a-206c-42fb-b660-a65893b57652",
   "metadata": {},
   "outputs": [
    {
     "data": {
      "text/plain": [
       "array([0., 0., 1., 0., 0., 0., 0., 0., 0., 0.], dtype=float32)"
      ]
     },
     "execution_count": 9,
     "metadata": {},
     "output_type": "execute_result"
    }
   ],
   "source": [
    "#example\n",
    "y_train[0] #as we can see this array corresponds to 3 because it has 1 in fourth place"
   ]
  },
  {
   "cell_type": "code",
   "execution_count": 10,
   "id": "a17d35b8-487d-4945-b07f-d907289db4a6",
   "metadata": {},
   "outputs": [],
   "source": [
    "#model imputs\n",
    "X = tf.placeholder(tf.float32, shape = [None, 784], name='x-input')\n",
    "Y = tf.placeholder(tf.float32, shape = [None, 10], name='y-input')"
   ]
  },
  {
   "cell_type": "code",
   "execution_count": 11,
   "id": "74bb4b95-026f-40d4-901d-8ac555dfd236",
   "metadata": {},
   "outputs": [],
   "source": [
    "#creating basic one layer model\n",
    "def basic(x):\n",
    "    logits = tf.compat.v1.layers.dense(inputs = x, units = 10, kernel_initializer = tf.random.normal)\n",
    "    \n",
    "    return logits"
   ]
  },
  {
   "cell_type": "code",
   "execution_count": 12,
   "id": "a9801be6-7d0c-4276-82cf-62d7bb206441",
   "metadata": {},
   "outputs": [],
   "source": [
    "#creating deep model with multiple relu layers\n",
    "def deep_relu(x):\n",
    "    \n",
    "    w1 = tf.compat.v1.get_variable(name = 'w1_relu', shape = [784, 256], initializer = tf.compat.v1.initializers.he_normal())\n",
    "    b1 = tf.Variable(tf.zeros([256]))\n",
    "    h1_ = tf.nn.relu(tf.matmul(x, w1) + b1)\n",
    "    h1 = tf.compat.v1.layers.dropout(h1_, rate = 0.1)\n",
    "    \n",
    "    w2 = tf.compat.v1.get_variable(name = 'w2_relu', shape = [256, 128], initializer = tf.compat.v1.initializers.he_normal())\n",
    "    b2 = tf.Variable(tf.zeros([128]))\n",
    "    h2_ = tf.nn.relu(tf.matmul(h1, w2) + b2)\n",
    "    h2 = tf.compat.v1.layers.dropout(h2_, rate = 0.1)\n",
    "\n",
    "    w3 = tf.compat.v1.get_variable(name = 'w3_relu', shape = [128, 10], initializer = tf.compat.v1.initializers.he_normal())\n",
    "    b3 = tf.Variable(tf.zeros([10]))\n",
    "    logits_ = tf.matmul(h2, w3) + b3\n",
    "    logits = tf.compat.v1.layers.dropout(logits_, rate = 0.1)\n",
    "    \n",
    "    return logits"
   ]
  },
  {
   "cell_type": "code",
   "execution_count": 13,
   "id": "6049880e-564e-4dad-a11e-21ab686fe830",
   "metadata": {},
   "outputs": [],
   "source": [
    "#creating deep model with multiple tanh layers\n",
    "def deep_tanh(x):\n",
    "    \n",
    "    w1 = tf.compat.v1.get_variable(name = 'w1_tanh', shape = [784, 256], initializer = tf.compat.v1.keras.initializers.glorot_normal(), regularizer = tf.keras.regularizers.L1())\n",
    "    b1 = tf.Variable(tf.zeros([256]))\n",
    "    h1 = tf.nn.tanh(tf.matmul(x, w1) + b1)\n",
    "    \n",
    "    w2 = tf.compat.v1.get_variable(name = 'w2_tanh', shape = [256, 128], initializer = tf.compat.v1.keras.initializers.glorot_normal(), regularizer = tf.keras.regularizers.L1())\n",
    "    b2 = tf.Variable(tf.zeros([128]))\n",
    "    h2 = tf.nn.tanh(tf.matmul(h1, w2) + b2)\n",
    "    \n",
    "    w3 = tf.compat.v1.get_variable(name = 'w3_tanh', shape = [128, 10], initializer = tf.compat.v1.keras.initializers.glorot_normal(), regularizer = tf.keras.regularizers.L1())\n",
    "    b3 = tf.Variable(tf.zeros([10]))\n",
    "    logits= tf.matmul(h2, w3) + b3\n",
    "    \n",
    "    return logits"
   ]
  },
  {
   "cell_type": "code",
   "execution_count": 14,
   "id": "246aa4f5-ce1c-4ed5-b10c-37eed25e519f",
   "metadata": {},
   "outputs": [],
   "source": [
    "#creating deep model with leaky_relu & elu layers\n",
    "def relu_var(x):\n",
    "    \n",
    "    w1 = tf.compat.v1.get_variable(name = 'w1_var_relu', shape = [784, 256], initializer = tf.compat.v1.initializers.he_normal(), regularizer = tf.keras.regularizers.L1())\n",
    "    b1 = tf.Variable(tf.zeros([256]))\n",
    "    h1 = tf.nn.leaky_relu(tf.matmul(x, w1) + b1)\n",
    "    \n",
    "    w2 = tf.compat.v1.get_variable(name = 'w2_var_relu', shape = [256, 128], initializer = tf.compat.v1.initializers.he_normal(), regularizer = tf.keras.regularizers.L1())\n",
    "    b2 = tf.Variable(tf.zeros([128]))\n",
    "    h2 = tf.nn.elu(tf.matmul(h1, w2) + b2)\n",
    "    \n",
    "    w3 = tf.compat.v1.get_variable(name = 'w3_var_relu', shape = [128, 10], initializer = tf.compat.v1.initializers.he_normal(), regularizer = tf.keras.regularizers.L1())\n",
    "    b3 = tf.Variable(tf.zeros([10]))\n",
    "    logits= tf.matmul(h2, w3) + b3\n",
    "    \n",
    "    return logits"
   ]
  },
  {
   "cell_type": "code",
   "execution_count": 15,
   "id": "31db92bd-b8f4-49e6-8b5d-22457eab1183",
   "metadata": {},
   "outputs": [],
   "source": [
    "#creating deep model with multiple tanh layers & batch normalization\n",
    "def deep_tanh_norm(x):\n",
    "    \n",
    "    bn0 = tf.compat.v1.layers.BatchNormalization()\n",
    "    x = bn0.apply(x)\n",
    "    \n",
    "    bn1 = tf.compat.v1.layers.BatchNormalization()\n",
    "    w1 = tf.compat.v1.get_variable(name = 'w1_tanh_norm', shape = [784, 256], initializer = tf.compat.v1.keras.initializers.glorot_normal())\n",
    "    b1 = tf.Variable(tf.zeros([256]))\n",
    "    h1_ = tf.nn.tanh(tf.matmul(x, w1) + b1)\n",
    "    h1 = bn1.apply(h1_)\n",
    "    \n",
    "    bn2 = tf.compat.v1.layers.BatchNormalization()\n",
    "    w2 = tf.compat.v1.get_variable(name = 'w2_tanh_norm', shape = [256, 128], initializer = tf.compat.v1.keras.initializers.glorot_normal())\n",
    "    b2 = tf.Variable(tf.zeros([128]))\n",
    "    h2_ = tf.nn.tanh(tf.matmul(h1, w2) + b2)\n",
    "    h2 = bn2.apply(h2_)\n",
    "    \n",
    "    bn3 = tf.compat.v1.layers.BatchNormalization()\n",
    "    w3 = tf.compat.v1.get_variable(name = 'w3_tanh_norm', shape = [128, 10], initializer = tf.compat.v1.keras.initializers.glorot_normal())\n",
    "    b3 = tf.Variable(tf.zeros([10]))\n",
    "    logits_ = tf.matmul(h2, w3) + b3\n",
    "    logits = bn3.apply(logits_)\n",
    "    \n",
    "    return logits"
   ]
  },
  {
   "cell_type": "code",
   "execution_count": 16,
   "id": "9bc9175d-4c9c-412c-ae56-c9e18a63dea7",
   "metadata": {},
   "outputs": [],
   "source": [
    "#getting logits\n",
    "model1 = basic(X)"
   ]
  },
  {
   "cell_type": "code",
   "execution_count": 17,
   "id": "1f09b051-bfd8-4595-b33b-a0a8a69dfdae",
   "metadata": {},
   "outputs": [],
   "source": [
    "#getting logits\n",
    "model2 = deep_relu(X)"
   ]
  },
  {
   "cell_type": "code",
   "execution_count": 18,
   "id": "c6ebcf11-77ee-46f0-9d82-7421170ff7c5",
   "metadata": {},
   "outputs": [],
   "source": [
    "#getting logits\n",
    "model3 = deep_tanh(X)"
   ]
  },
  {
   "cell_type": "code",
   "execution_count": 19,
   "id": "168bd278-7013-45ca-a8c7-e0b180b11947",
   "metadata": {},
   "outputs": [],
   "source": [
    "#getting logits\n",
    "model4 = relu_var(X)"
   ]
  },
  {
   "cell_type": "code",
   "execution_count": 20,
   "id": "e11ad2d9-b540-4494-811b-250ba6103a71",
   "metadata": {},
   "outputs": [],
   "source": [
    "#getting logits\n",
    "model5 = deep_tanh_norm(X)"
   ]
  },
  {
   "cell_type": "code",
   "execution_count": 21,
   "id": "912bb2f9-f04c-45aa-8718-661542e46cc6",
   "metadata": {},
   "outputs": [],
   "source": [
    "#defining hyperparameters\n",
    "learning_rate_list = [0.01, 0.02, 0.03, 0.04, 0.05]\n",
    "epoch = 50\n",
    "batch_size = 1000\n",
    "iteration = len(X_train) // batch_size"
   ]
  },
  {
   "cell_type": "code",
   "execution_count": 22,
   "id": "b8c87ab3-d986-4779-a679-68861a7e5959",
   "metadata": {},
   "outputs": [],
   "source": [
    "saver = tf.train.Saver()\n",
    "\n",
    "correct_prediction1 = tf.equal(tf.argmax(tf.nn.softmax(model1), 1), tf.argmax(Y, 1))\n",
    "correct_prediction2 = tf.equal(tf.argmax(tf.nn.softmax(model2), 1), tf.argmax(Y, 1))\n",
    "correct_prediction3 = tf.equal(tf.argmax(tf.nn.softmax(model3), 1), tf.argmax(Y, 1))\n",
    "correct_prediction4 = tf.equal(tf.argmax(tf.nn.softmax(model4), 1), tf.argmax(Y, 1))\n",
    "correct_prediction5 = tf.equal(tf.argmax(tf.nn.softmax(model5), 1), tf.argmax(Y, 1))\n",
    "\n",
    "accuracy1 = tf.reduce_mean(tf.cast(correct_prediction1, \"float\"))\n",
    "accuracy2 = tf.reduce_mean(tf.cast(correct_prediction2, \"float\"))\n",
    "accuracy3 = tf.reduce_mean(tf.cast(correct_prediction3, \"float\"))\n",
    "accuracy4 = tf.reduce_mean(tf.cast(correct_prediction4, \"float\"))\n",
    "accuracy5 = tf.reduce_mean(tf.cast(correct_prediction5, \"float\"))"
   ]
  },
  {
   "cell_type": "code",
   "execution_count": 23,
   "id": "fc5e4a25-958e-4e10-b293-8462527ddad6",
   "metadata": {},
   "outputs": [],
   "source": [
    "# creating dataframes to save training records\n",
    "training_log11 = pd.DataFrame(index = ['Accuracy on validation data', 'Average loss', 'Learning rate'])\n",
    "training_log12 = pd.DataFrame(index = ['Accuracy on validation data', 'Average loss', 'Learning rate'])\n",
    "training_log13 = pd.DataFrame(index = ['Accuracy on validation data', 'Average loss', 'Learning rate'])\n",
    "training_log14 = pd.DataFrame(index = ['Accuracy on validation data', 'Average loss', 'Learning rate'])\n",
    "\n",
    "training_log21 = pd.DataFrame(index = ['Accuracy on validation data', 'Average loss', 'Learning rate'])\n",
    "training_log22 = pd.DataFrame(index = ['Accuracy on validation data', 'Average loss', 'Learning rate'])\n",
    "training_log23 = pd.DataFrame(index = ['Accuracy on validation data', 'Average loss', 'Learning rate'])\n",
    "training_log24 = pd.DataFrame(index = ['Accuracy on validation data', 'Average loss', 'Learning rate'])\n",
    "\n",
    "training_log31 = pd.DataFrame(index = ['Accuracy on validation data', 'Average loss', 'Learning rate'])\n",
    "training_log32 = pd.DataFrame(index = ['Accuracy on validation data', 'Average loss', 'Learning rate'])\n",
    "training_log33 = pd.DataFrame(index = ['Accuracy on validation data', 'Average loss', 'Learning rate'])\n",
    "training_log34 = pd.DataFrame(index = ['Accuracy on validation data', 'Average loss', 'Learning rate'])\n",
    "\n",
    "training_log41 = pd.DataFrame(index = ['Accuracy on validation data', 'Average loss', 'Learning rate'])\n",
    "training_log42 = pd.DataFrame(index = ['Accuracy on validation data', 'Average loss', 'Learning rate'])\n",
    "training_log43 = pd.DataFrame(index = ['Accuracy on validation data', 'Average loss', 'Learning rate'])\n",
    "training_log44 = pd.DataFrame(index = ['Accuracy on validation data', 'Average loss', 'Learning rate'])\n",
    "\n",
    "training_log51 = pd.DataFrame(index = ['Accuracy on validation data', 'Average loss', 'Learning rate'])\n",
    "training_log52 = pd.DataFrame(index = ['Accuracy on validation data', 'Average loss', 'Learning rate'])\n",
    "training_log53 = pd.DataFrame(index = ['Accuracy on validation data', 'Average loss', 'Learning rate'])\n",
    "training_log54 = pd.DataFrame(index = ['Accuracy on validation data', 'Average loss', 'Learning rate'])\n",
    "\n",
    "scores = pd.DataFrame(index = ['F1', 'AUC', 'Validation accuracy'])"
   ]
  },
  {
   "cell_type": "code",
   "execution_count": 24,
   "id": "39afb936-fb4e-48a5-948d-ad92b5f4d31e",
   "metadata": {},
   "outputs": [],
   "source": [
    "# #cleaning directory with previous tensorboard logs\n",
    "# tbdir = './tblogs'\n",
    "\n",
    "# for filename in os.listdir(tbdir):\n",
    "#     file_path = os.path.join(tbdir, filename)\n",
    "#     try:\n",
    "#         if os.path.isfile(file_path) or os.path.islink(file_path):\n",
    "#             os.unlink(file_path)\n",
    "#         elif os.path.isdir(file_path):\n",
    "#             shutil.rmtree(file_path)\n",
    "#     except Exception as e:\n",
    "#         print('Failed to delete %s. Reason: %s' % (file_path, e))"
   ]
  },
  {
   "cell_type": "code",
   "execution_count": 25,
   "id": "3c66b887-105d-4219-b0ef-635c634fbd0a",
   "metadata": {
    "tags": []
   },
   "outputs": [
    {
     "name": "stdout",
     "output_type": "stream",
     "text": [
      "Training model. Current learning rate: 0.01\n"
     ]
    },
    {
     "data": {
      "application/vnd.jupyter.widget-view+json": {
       "model_id": "1f5dd2d363b64de69ffa3b3b8a24e508",
       "version_major": 2,
       "version_minor": 0
      },
      "text/plain": [
       "Epoch progress:   0%|          | 0/50 [00:00<?, ?it/s]"
      ]
     },
     "metadata": {},
     "output_type": "display_data"
    },
    {
     "name": "stdout",
     "output_type": "stream",
     "text": [
      "Training model. Current learning rate: 0.02\n"
     ]
    },
    {
     "data": {
      "application/vnd.jupyter.widget-view+json": {
       "model_id": "c92a57b682ac4c2ebec5652423bbc4ea",
       "version_major": 2,
       "version_minor": 0
      },
      "text/plain": [
       "Epoch progress:   0%|          | 0/50 [00:00<?, ?it/s]"
      ]
     },
     "metadata": {},
     "output_type": "display_data"
    },
    {
     "name": "stdout",
     "output_type": "stream",
     "text": [
      "Training model. Current learning rate: 0.03\n"
     ]
    },
    {
     "data": {
      "application/vnd.jupyter.widget-view+json": {
       "model_id": "aa8a57e3c2cb494eb1a85098f465c79d",
       "version_major": 2,
       "version_minor": 0
      },
      "text/plain": [
       "Epoch progress:   0%|          | 0/50 [00:00<?, ?it/s]"
      ]
     },
     "metadata": {},
     "output_type": "display_data"
    },
    {
     "name": "stdout",
     "output_type": "stream",
     "text": [
      "Training model. Current learning rate: 0.04\n"
     ]
    },
    {
     "data": {
      "application/vnd.jupyter.widget-view+json": {
       "model_id": "373cda53cea54a2fb1d794abe910f8ba",
       "version_major": 2,
       "version_minor": 0
      },
      "text/plain": [
       "Epoch progress:   0%|          | 0/50 [00:00<?, ?it/s]"
      ]
     },
     "metadata": {},
     "output_type": "display_data"
    },
    {
     "name": "stdout",
     "output_type": "stream",
     "text": [
      "Training model. Current learning rate: 0.05\n"
     ]
    },
    {
     "data": {
      "application/vnd.jupyter.widget-view+json": {
       "model_id": "1ce572a16cb341099abdcb6c5e7e97c3",
       "version_major": 2,
       "version_minor": 0
      },
      "text/plain": [
       "Epoch progress:   0%|          | 0/50 [00:00<?, ?it/s]"
      ]
     },
     "metadata": {},
     "output_type": "display_data"
    }
   ],
   "source": [
    "# training model1 with Adam optimizer & MSE cost\n",
    "j = 1\n",
    "\n",
    "acc_summary = tf.summary.scalar('Accuracy_summary_for_model1_with_Adam_optimizer_and_MSE_cost', accuracy1)\n",
    "cost = tf.reduce_mean(tf.square(model1 - Y))\n",
    "loss_summary = tf.summary.scalar('Loss_summary_for_model1_with_Adam_optimizer_and_MSE_cost', cost)\n",
    "merged = tf.summary.merge([acc_summary, loss_summary])\n",
    "\n",
    "for lr in learning_rate_list:\n",
    "    optimizer = tf.compat.v1.train.AdamOptimizer(lr).minimize(cost)    \n",
    "    init = tf.global_variables_initializer()\n",
    "    \n",
    "    print('Training model. Current learning rate: {:.2f}'.format(lr))\n",
    "    \n",
    "    outer_lvl = list(range(epoch))\n",
    "     \n",
    "    with tf.Session() as sess:\n",
    "        \n",
    "        writer1 = tf.summary.FileWriter('tblogs/model1/adam-mse/lr0.01', sess.graph)\n",
    "        writer2 = tf.summary.FileWriter('tblogs/model1/adam-mse/lr0.02', sess.graph)\n",
    "        writer3 = tf.summary.FileWriter('tblogs/model1/adam-mse/lr0.03', sess.graph)\n",
    "        writer4 = tf.summary.FileWriter('tblogs/model1/adam-mse/lr0.04', sess.graph)\n",
    "        writer5 = tf.summary.FileWriter('tblogs/model1/adam-mse/lr0.05', sess.graph)\n",
    "        \n",
    "        sess.run(init)\n",
    "        for k in tqdm(outer_lvl, desc = 'Epoch progress'):\n",
    "            avg_loss = 0.\n",
    "            start = 0; end = batch_size\n",
    "        \n",
    "            for i in range(iteration):\n",
    "                _, loss, summary = sess.run([optimizer, cost, merged], feed_dict={X: X_train[start: end], Y: y_train[start: end]})\n",
    "                start += batch_size; end += batch_size\n",
    "                avg_loss += loss / iteration\n",
    "                \n",
    "            # # save_path   = saver.save(sess, 'model1-adam-mse-lr{}'.format(lr), write_meta_graph = False, write_state = False)                                \n",
    "            cur_val_acc, summary = sess.run([accuracy1, merged], feed_dict = {X: X_valid, Y: y_valid})\n",
    "            \n",
    "            if lr == 0.01:\n",
    "                writer1.add_summary(summary, k)\n",
    "            elif lr == 0.02:\n",
    "                writer2.add_summary(summary, k)\n",
    "            elif lr == 0.03:\n",
    "                writer3.add_summary(summary, k)\n",
    "            elif lr == 0.04:\n",
    "                writer4.add_summary(summary, k)\n",
    "            else:\n",
    "                writer5.add_summary(summary, k)\n",
    "            \n",
    "        training_log11['Fit №' + str(learning_rate_list.index(lr) + 1)] = [cur_val_acc, avg_loss, lr]\n",
    "        \n",
    "        j += 1"
   ]
  },
  {
   "cell_type": "code",
   "execution_count": 26,
   "id": "809986b4-4ffa-42c4-8aab-11bc055a5888",
   "metadata": {},
   "outputs": [],
   "source": [
    "#results\n",
    "# training_log11"
   ]
  },
  {
   "cell_type": "code",
   "execution_count": 27,
   "id": "3d9a9f86-1edf-4639-bb94-1ae6ae0c78df",
   "metadata": {},
   "outputs": [
    {
     "name": "stdout",
     "output_type": "stream",
     "text": [
      "INFO:tensorflow:Restoring parameters from model1-adam-mse-lr0.02\n"
     ]
    }
   ],
   "source": [
    "with tf.Session() as sess:\n",
    "    saver.restore(sess, 'model1-adam-mse-lr0.02')\n",
    "    preds = tf.nn.softmax(model1)\n",
    "    preds_val = preds.eval({X: X_valid, Y: y_valid})\n",
    "    for i in range(len(preds_val)):\n",
    "        preds_val[i] = np.where(preds_val[i] < max(preds_val[i]), 0, 1)\n",
    "    scores['model1-adam-mse'] = [f1_score(y_valid, preds_val, average = 'macro'), roc_auc_score(y_valid, preds_val, multi_class = 'ovr', average = 'macro'), accuracy1.eval({X: X_valid, Y: y_valid})]"
   ]
  },
  {
   "cell_type": "code",
   "execution_count": 28,
   "id": "dc61ba47-c4c6-459a-9c01-6ac1e073c25d",
   "metadata": {
    "tags": []
   },
   "outputs": [
    {
     "name": "stdout",
     "output_type": "stream",
     "text": [
      "Training model. Current learning rate: 0.01\n"
     ]
    },
    {
     "data": {
      "application/vnd.jupyter.widget-view+json": {
       "model_id": "c23e3662c770457d9586a6fcc66335b5",
       "version_major": 2,
       "version_minor": 0
      },
      "text/plain": [
       "Epoch progress:   0%|          | 0/50 [00:00<?, ?it/s]"
      ]
     },
     "metadata": {},
     "output_type": "display_data"
    },
    {
     "name": "stdout",
     "output_type": "stream",
     "text": [
      "Training model. Current learning rate: 0.02\n"
     ]
    },
    {
     "data": {
      "application/vnd.jupyter.widget-view+json": {
       "model_id": "3de745085d824313bb778ffe81f9d21e",
       "version_major": 2,
       "version_minor": 0
      },
      "text/plain": [
       "Epoch progress:   0%|          | 0/50 [00:00<?, ?it/s]"
      ]
     },
     "metadata": {},
     "output_type": "display_data"
    },
    {
     "name": "stdout",
     "output_type": "stream",
     "text": [
      "Training model. Current learning rate: 0.03\n"
     ]
    },
    {
     "data": {
      "application/vnd.jupyter.widget-view+json": {
       "model_id": "96f8b5c7796046f2a319cfc08c3e40fa",
       "version_major": 2,
       "version_minor": 0
      },
      "text/plain": [
       "Epoch progress:   0%|          | 0/50 [00:00<?, ?it/s]"
      ]
     },
     "metadata": {},
     "output_type": "display_data"
    },
    {
     "name": "stdout",
     "output_type": "stream",
     "text": [
      "Training model. Current learning rate: 0.04\n"
     ]
    },
    {
     "data": {
      "application/vnd.jupyter.widget-view+json": {
       "model_id": "bee52f5bcc0a4977ab90e1ae076ad48b",
       "version_major": 2,
       "version_minor": 0
      },
      "text/plain": [
       "Epoch progress:   0%|          | 0/50 [00:00<?, ?it/s]"
      ]
     },
     "metadata": {},
     "output_type": "display_data"
    },
    {
     "name": "stdout",
     "output_type": "stream",
     "text": [
      "Training model. Current learning rate: 0.05\n"
     ]
    },
    {
     "data": {
      "application/vnd.jupyter.widget-view+json": {
       "model_id": "15068bdda0ab463baa2e1d1e5be67f3b",
       "version_major": 2,
       "version_minor": 0
      },
      "text/plain": [
       "Epoch progress:   0%|          | 0/50 [00:00<?, ?it/s]"
      ]
     },
     "metadata": {},
     "output_type": "display_data"
    }
   ],
   "source": [
    "# training model1 with gradient descent optimizer & MSE cost\n",
    "j = 1\n",
    "\n",
    "acc_summary = tf.summary.scalar('Accuracy_summary_for_model1_with_Gradient_Descent_optimizer_and_MSE_cost', accuracy1)\n",
    "cost = tf.reduce_mean(tf.square(model1 - Y))\n",
    "loss_summary = tf.summary.scalar('Loss_summary_for_model1_with_Gradient_Descent_optimizer_and_MSE_cost', cost)\n",
    "merged = tf.summary.merge([acc_summary, loss_summary])\n",
    "\n",
    "for lr in learning_rate_list:\n",
    "    optimizer = tf.compat.v1.train.GradientDescentOptimizer(lr).minimize(cost)    \n",
    "    init = tf.global_variables_initializer()\n",
    "    print('Training model. Current learning rate: {:.2f}'.format(lr))\n",
    "    \n",
    "    outer_lvl = list(range(epoch))\n",
    "    \n",
    "    with tf.Session() as sess:\n",
    "        \n",
    "        writer1 = tf.summary.FileWriter('tblogs/model1/graddesc-mse/lr0.01', sess.graph)\n",
    "        writer2 = tf.summary.FileWriter('tblogs/model1/graddesc-mse/lr0.02', sess.graph)\n",
    "        writer3 = tf.summary.FileWriter('tblogs/model1/graddesc-mse/lr0.03', sess.graph)\n",
    "        writer4 = tf.summary.FileWriter('tblogs/model1/graddesc-mse/lr0.04', sess.graph)\n",
    "        writer5 = tf.summary.FileWriter('tblogs/model1/graddesc-mse/lr0.05', sess.graph)\n",
    "        \n",
    "        sess.run(init)\n",
    "        for k in tqdm(outer_lvl, desc = 'Epoch progress'):\n",
    "            avg_loss = 0.\n",
    "            start = 0; end = batch_size\n",
    "        \n",
    "            for i in range(iteration):\n",
    "                _, loss, summary = sess.run([optimizer, cost, merged], feed_dict={X: X_train[start: end], Y: y_train[start: end]})\n",
    "                start += batch_size; end += batch_size\n",
    "                avg_loss += loss / iteration\n",
    "            \n",
    "            # save_path  = saver.save(sess, 'model1-graddesc-mse-lr{}'.format(lr), write_meta_graph = False, write_state = False)                            \n",
    "            cur_val_acc, summary = sess.run([accuracy1, merged], feed_dict = {X: X_valid, Y: y_valid})\n",
    "            \n",
    "            if lr == 0.01:\n",
    "                writer1.add_summary(summary, k)\n",
    "            elif lr == 0.02:\n",
    "                writer2.add_summary(summary, k)\n",
    "            elif lr == 0.03:\n",
    "                writer3.add_summary(summary, k)\n",
    "            elif lr == 0.04:\n",
    "                writer4.add_summary(summary, k)\n",
    "            else:\n",
    "                writer5.add_summary(summary, k)\n",
    "                \n",
    "        training_log12['Fit №' + str(learning_rate_list.index(lr) + 1)] = [cur_val_acc, avg_loss, lr]\n",
    "\n",
    "        j += 1"
   ]
  },
  {
   "cell_type": "code",
   "execution_count": 29,
   "id": "e04a2aa7-fe30-4402-8e7a-8eb0e5487473",
   "metadata": {},
   "outputs": [],
   "source": [
    "#results\n",
    "# training_log12"
   ]
  },
  {
   "cell_type": "code",
   "execution_count": 30,
   "id": "5b289e2d-fad2-4ba5-b33e-3b818c521797",
   "metadata": {},
   "outputs": [
    {
     "name": "stdout",
     "output_type": "stream",
     "text": [
      "INFO:tensorflow:Restoring parameters from model1-graddesc-mse-lr0.05\n"
     ]
    }
   ],
   "source": [
    "with tf.Session() as sess:\n",
    "    saver.restore(sess, 'model1-graddesc-mse-lr0.05')\n",
    "    preds = tf.nn.softmax(model1)\n",
    "    preds_val = preds.eval({X: X_valid, Y: y_valid})\n",
    "    for i in range(len(preds_val)):\n",
    "        preds_val[i] = np.where(preds_val[i] < max(preds_val[i]), 0, 1)\n",
    "    scores['model1-graddesc-mse'] = [f1_score(y_valid, preds_val, average = 'macro'), roc_auc_score(y_valid, preds_val, multi_class = 'ovr', average = 'macro'), accuracy1.eval({X: X_valid, Y: y_valid})]"
   ]
  },
  {
   "cell_type": "code",
   "execution_count": 31,
   "id": "b2921391-bb66-40cc-a6fa-0f28a0284f7c",
   "metadata": {
    "tags": []
   },
   "outputs": [
    {
     "name": "stdout",
     "output_type": "stream",
     "text": [
      "Training model. Current learning rate: 0.01\n"
     ]
    },
    {
     "data": {
      "application/vnd.jupyter.widget-view+json": {
       "model_id": "a94c84afbfd2483da3c697c76ed927d6",
       "version_major": 2,
       "version_minor": 0
      },
      "text/plain": [
       "Epoch progress:   0%|          | 0/50 [00:00<?, ?it/s]"
      ]
     },
     "metadata": {},
     "output_type": "display_data"
    },
    {
     "name": "stdout",
     "output_type": "stream",
     "text": [
      "Training model. Current learning rate: 0.02\n"
     ]
    },
    {
     "data": {
      "application/vnd.jupyter.widget-view+json": {
       "model_id": "fce7616db3704b74b68042d7ce16c0bd",
       "version_major": 2,
       "version_minor": 0
      },
      "text/plain": [
       "Epoch progress:   0%|          | 0/50 [00:00<?, ?it/s]"
      ]
     },
     "metadata": {},
     "output_type": "display_data"
    },
    {
     "name": "stdout",
     "output_type": "stream",
     "text": [
      "Training model. Current learning rate: 0.03\n"
     ]
    },
    {
     "data": {
      "application/vnd.jupyter.widget-view+json": {
       "model_id": "4106d22fb334476fbea54f0aeae69fa2",
       "version_major": 2,
       "version_minor": 0
      },
      "text/plain": [
       "Epoch progress:   0%|          | 0/50 [00:00<?, ?it/s]"
      ]
     },
     "metadata": {},
     "output_type": "display_data"
    },
    {
     "name": "stdout",
     "output_type": "stream",
     "text": [
      "Training model. Current learning rate: 0.04\n"
     ]
    },
    {
     "data": {
      "application/vnd.jupyter.widget-view+json": {
       "model_id": "41ca8bc24e884584a3ef9c4c42e44874",
       "version_major": 2,
       "version_minor": 0
      },
      "text/plain": [
       "Epoch progress:   0%|          | 0/50 [00:00<?, ?it/s]"
      ]
     },
     "metadata": {},
     "output_type": "display_data"
    },
    {
     "name": "stdout",
     "output_type": "stream",
     "text": [
      "Training model. Current learning rate: 0.05\n"
     ]
    },
    {
     "data": {
      "application/vnd.jupyter.widget-view+json": {
       "model_id": "bb8d8cb6ce54480ca8701e8399a39e4d",
       "version_major": 2,
       "version_minor": 0
      },
      "text/plain": [
       "Epoch progress:   0%|          | 0/50 [00:00<?, ?it/s]"
      ]
     },
     "metadata": {},
     "output_type": "display_data"
    }
   ],
   "source": [
    "# training model1 with gradient descent optimizer & cross entropy cost\n",
    "j = 1\n",
    "\n",
    "acc_summary = tf.summary.scalar('Accuracy_summary_for_model1_with_Gradient_Descent_optimizer_and_Cross_entropy_cost', accuracy1)\n",
    "cost = tf.reduce_mean(tf.nn.softmax_cross_entropy_with_logits_v2(logits = model1, labels = Y))\n",
    "loss_summary = tf.summary.scalar('Loss_summary_for_model1_with_Gradient_Descent_optimizer_and_Cross_entropy_cost', cost)\n",
    "merged = tf.summary.merge([acc_summary, loss_summary])\n",
    "\n",
    "for lr in learning_rate_list:\n",
    "    optimizer = tf.compat.v1.train.GradientDescentOptimizer(lr).minimize(cost)    \n",
    "    init = tf.global_variables_initializer()\n",
    "    \n",
    "    print('Training model. Current learning rate: {:.2f}'.format(lr))\n",
    "    \n",
    "    outer_lvl = list(range(epoch))\n",
    "    \n",
    "    with tf.Session() as sess:\n",
    "        \n",
    "        writer1 = tf.summary.FileWriter('tblogs/model1/graddesc-crossentr/lr0.01', sess.graph)\n",
    "        writer2 = tf.summary.FileWriter('tblogs/model1/graddesc-crossentr/lr0.02', sess.graph)\n",
    "        writer3 = tf.summary.FileWriter('tblogs/model1/graddesc-crossentr/lr0.03', sess.graph)\n",
    "        writer4 = tf.summary.FileWriter('tblogs/model1/graddesc-crossentr/lr0.04', sess.graph)\n",
    "        writer5 = tf.summary.FileWriter('tblogs/model1/graddesc-crossentr/lr0.05', sess.graph)\n",
    "        \n",
    "        sess.run(init)\n",
    "        for k in tqdm(outer_lvl, desc = 'Epoch progress'):\n",
    "            avg_loss = 0.\n",
    "            start = 0; end = batch_size\n",
    "        \n",
    "            for i in range(iteration):\n",
    "                _, loss, summary = sess.run([optimizer, cost, merged], feed_dict={X: X_train[start: end], Y: y_train[start: end]})\n",
    "                start += batch_size; end += batch_size\n",
    "                avg_loss += loss / iteration\n",
    "            \n",
    "            # save_path  = saver.save(sess, 'model1-graddesc-crossentr-lr{}'.format(lr), write_meta_graph = False, write_state = False)                            \n",
    "            cur_val_acc, summary = sess.run([accuracy1, merged], feed_dict = {X: X_valid, Y: y_valid})\n",
    "            \n",
    "            if lr == 0.01:\n",
    "                writer1.add_summary(summary, k)\n",
    "            elif lr == 0.02:\n",
    "                writer2.add_summary(summary, k)\n",
    "            elif lr == 0.03:\n",
    "                writer3.add_summary(summary, k)\n",
    "            elif lr == 0.04:\n",
    "                writer4.add_summary(summary, k)\n",
    "            else:\n",
    "                writer5.add_summary(summary, k)\n",
    "        \n",
    "        training_log13['Fit №' + str(learning_rate_list.index(lr) + 1)] = [cur_val_acc, avg_loss, lr]\n",
    "        j += 1"
   ]
  },
  {
   "cell_type": "code",
   "execution_count": 32,
   "id": "cb888eb1-31e9-4f92-847a-e63717817432",
   "metadata": {},
   "outputs": [],
   "source": [
    "#results\n",
    "# training_log13"
   ]
  },
  {
   "cell_type": "code",
   "execution_count": 33,
   "id": "37e14ff8-4417-46a7-83f3-e53d25e19429",
   "metadata": {},
   "outputs": [
    {
     "name": "stdout",
     "output_type": "stream",
     "text": [
      "INFO:tensorflow:Restoring parameters from model1-graddesc-crossentr-lr0.05\n"
     ]
    }
   ],
   "source": [
    "with tf.Session() as sess:\n",
    "    saver.restore(sess, 'model1-graddesc-crossentr-lr0.05')\n",
    "    preds = tf.nn.softmax(model1)\n",
    "    preds_val = preds.eval({X: X_valid, Y: y_valid})\n",
    "    for i in range(len(preds_val)):\n",
    "        preds_val[i] = np.where(preds_val[i] < max(preds_val[i]), 0, 1)\n",
    "    scores['model1-graddesc-crossentr'] = [f1_score(y_valid, preds_val, average = 'macro'), roc_auc_score(y_valid, preds_val, multi_class = 'ovr', average = 'macro'), accuracy1.eval({X: X_valid, Y: y_valid})]"
   ]
  },
  {
   "cell_type": "code",
   "execution_count": 34,
   "id": "4ab38898-4ae2-46d4-bcef-32cb2e201097",
   "metadata": {
    "tags": []
   },
   "outputs": [
    {
     "name": "stdout",
     "output_type": "stream",
     "text": [
      "Training model. Current learning rate: 0.01\n"
     ]
    },
    {
     "data": {
      "application/vnd.jupyter.widget-view+json": {
       "model_id": "505967028ed94044916a94209bac3199",
       "version_major": 2,
       "version_minor": 0
      },
      "text/plain": [
       "Epoch progress:   0%|          | 0/50 [00:00<?, ?it/s]"
      ]
     },
     "metadata": {},
     "output_type": "display_data"
    },
    {
     "name": "stdout",
     "output_type": "stream",
     "text": [
      "Training model. Current learning rate: 0.02\n"
     ]
    },
    {
     "data": {
      "application/vnd.jupyter.widget-view+json": {
       "model_id": "6feb0efd273d402c88102ad02922ff87",
       "version_major": 2,
       "version_minor": 0
      },
      "text/plain": [
       "Epoch progress:   0%|          | 0/50 [00:00<?, ?it/s]"
      ]
     },
     "metadata": {},
     "output_type": "display_data"
    },
    {
     "name": "stdout",
     "output_type": "stream",
     "text": [
      "Training model. Current learning rate: 0.03\n"
     ]
    },
    {
     "data": {
      "application/vnd.jupyter.widget-view+json": {
       "model_id": "8145f61ba3e642f1a6595810dead8966",
       "version_major": 2,
       "version_minor": 0
      },
      "text/plain": [
       "Epoch progress:   0%|          | 0/50 [00:00<?, ?it/s]"
      ]
     },
     "metadata": {},
     "output_type": "display_data"
    },
    {
     "name": "stdout",
     "output_type": "stream",
     "text": [
      "Training model. Current learning rate: 0.04\n"
     ]
    },
    {
     "data": {
      "application/vnd.jupyter.widget-view+json": {
       "model_id": "21e883a28fb34b878837b68ccf987ae3",
       "version_major": 2,
       "version_minor": 0
      },
      "text/plain": [
       "Epoch progress:   0%|          | 0/50 [00:00<?, ?it/s]"
      ]
     },
     "metadata": {},
     "output_type": "display_data"
    },
    {
     "name": "stdout",
     "output_type": "stream",
     "text": [
      "Training model. Current learning rate: 0.05\n"
     ]
    },
    {
     "data": {
      "application/vnd.jupyter.widget-view+json": {
       "model_id": "3f3c437939f04c5b9d34ae000a5c1cbd",
       "version_major": 2,
       "version_minor": 0
      },
      "text/plain": [
       "Epoch progress:   0%|          | 0/50 [00:00<?, ?it/s]"
      ]
     },
     "metadata": {},
     "output_type": "display_data"
    }
   ],
   "source": [
    "# training model1 with Adam optimizer & cross entropy cost\n",
    "j = 1\n",
    "\n",
    "acc_summary = tf.summary.scalar('Accuracy_summary_for_model1_with_Adam_optimizer_and_Cross_entropy_cost', accuracy1)\n",
    "cost = tf.reduce_mean(tf.nn.softmax_cross_entropy_with_logits_v2(logits = model1, labels = Y))\n",
    "loss_summary = tf.summary.scalar('Loss_summary_for_model1_with_Adam_optimizer_and_Cross_entropy_cost', cost)\n",
    "merged = tf.summary.merge([acc_summary, loss_summary])\n",
    "\n",
    "for lr in learning_rate_list:\n",
    "    optimizer = tf.compat.v1.train.AdamOptimizer(lr).minimize(cost)    \n",
    "    init = tf.global_variables_initializer()\n",
    "    \n",
    "    print('Training model. Current learning rate: {:.2f}'.format(lr))\n",
    "    \n",
    "    outer_lvl = list(range(epoch))\n",
    "    \n",
    "    with tf.Session() as sess:\n",
    "        \n",
    "        writer1 = tf.summary.FileWriter('tblogs/model1/adam-crossentr/lr0.01', sess.graph)\n",
    "        writer2 = tf.summary.FileWriter('tblogs/model1/adam-crossentr/lr0.02', sess.graph)\n",
    "        writer3 = tf.summary.FileWriter('tblogs/model1/adam-crossentr/lr0.03', sess.graph)\n",
    "        writer4 = tf.summary.FileWriter('tblogs/model1/adam-crossentr/lr0.04', sess.graph)\n",
    "        writer5 = tf.summary.FileWriter('tblogs/model1/adam-crossentr/lr0.05', sess.graph)\n",
    "        \n",
    "        sess.run(init)\n",
    "        for k in tqdm(outer_lvl, desc = 'Epoch progress'):\n",
    "            avg_loss = 0.\n",
    "            start = 0; end = batch_size\n",
    "        \n",
    "            for i in range(iteration):\n",
    "                _, loss, summary = sess.run([optimizer, cost, merged], feed_dict={X: X_train[start: end], Y: y_train[start: end]})\n",
    "                start += batch_size; end += batch_size\n",
    "                avg_loss += loss / iteration\n",
    "                \n",
    "            # save_path  = saver.save(sess, 'model1-adam-crossentr-lr{}'.format(lr), write_meta_graph = False, write_state = False)                            \n",
    "            cur_val_acc, summary = sess.run([accuracy1, merged], feed_dict = {X: X_valid, Y: y_valid})\n",
    "            \n",
    "            if lr == 0.01:\n",
    "                writer1.add_summary(summary, k)\n",
    "            elif lr == 0.02:\n",
    "                writer2.add_summary(summary, k)\n",
    "            elif lr == 0.03:\n",
    "                writer3.add_summary(summary, k)\n",
    "            elif lr == 0.04:\n",
    "                writer4.add_summary(summary, k)\n",
    "            else:\n",
    "                writer5.add_summary(summary, k)\n",
    "                \n",
    "        training_log14['Fit №' + str(learning_rate_list.index(lr) + 1)] = [cur_val_acc, avg_loss, lr]\n",
    "        j += 1"
   ]
  },
  {
   "cell_type": "code",
   "execution_count": 35,
   "id": "41557271-1b93-4e9f-a94a-3436a2f44ecb",
   "metadata": {},
   "outputs": [],
   "source": [
    "#results\n",
    "# training_log14"
   ]
  },
  {
   "cell_type": "code",
   "execution_count": 36,
   "id": "cb8b9d7a-ff8b-49a5-a136-96638955fc9c",
   "metadata": {},
   "outputs": [
    {
     "name": "stdout",
     "output_type": "stream",
     "text": [
      "INFO:tensorflow:Restoring parameters from model1-adam-crossentr-lr0.02\n"
     ]
    }
   ],
   "source": [
    "with tf.Session() as sess:\n",
    "    saver.restore(sess, 'model1-adam-crossentr-lr0.02')\n",
    "    preds = tf.nn.softmax(model1)\n",
    "    preds_val = preds.eval({X: X_valid, Y: y_valid})\n",
    "    for i in range(len(preds_val)):\n",
    "        preds_val[i] = np.where(preds_val[i] < max(preds_val[i]), 0, 1)\n",
    "    scores['model1-adam-crossentr'] = [f1_score(y_valid, preds_val, average = 'macro'), roc_auc_score(y_valid, preds_val, multi_class = 'ovr', average = 'macro'), accuracy1.eval({X: X_valid, Y: y_valid})]"
   ]
  },
  {
   "cell_type": "code",
   "execution_count": 37,
   "id": "b02bf865-42ce-4684-9d3c-ce9412b31767",
   "metadata": {
    "tags": []
   },
   "outputs": [
    {
     "name": "stdout",
     "output_type": "stream",
     "text": [
      "Training model. Current learning rate: 0.01\n"
     ]
    },
    {
     "data": {
      "application/vnd.jupyter.widget-view+json": {
       "model_id": "4da4aae188f646819a4880dd10c50dd1",
       "version_major": 2,
       "version_minor": 0
      },
      "text/plain": [
       "Epoch progress:   0%|          | 0/50 [00:00<?, ?it/s]"
      ]
     },
     "metadata": {},
     "output_type": "display_data"
    },
    {
     "name": "stdout",
     "output_type": "stream",
     "text": [
      "Training model. Current learning rate: 0.02\n"
     ]
    },
    {
     "data": {
      "application/vnd.jupyter.widget-view+json": {
       "model_id": "e61e7554456741c0aba413a05c64bcaa",
       "version_major": 2,
       "version_minor": 0
      },
      "text/plain": [
       "Epoch progress:   0%|          | 0/50 [00:00<?, ?it/s]"
      ]
     },
     "metadata": {},
     "output_type": "display_data"
    },
    {
     "name": "stdout",
     "output_type": "stream",
     "text": [
      "Training model. Current learning rate: 0.03\n"
     ]
    },
    {
     "data": {
      "application/vnd.jupyter.widget-view+json": {
       "model_id": "d2a565ae102e4a21874906c18ad156d8",
       "version_major": 2,
       "version_minor": 0
      },
      "text/plain": [
       "Epoch progress:   0%|          | 0/50 [00:00<?, ?it/s]"
      ]
     },
     "metadata": {},
     "output_type": "display_data"
    },
    {
     "name": "stdout",
     "output_type": "stream",
     "text": [
      "Training model. Current learning rate: 0.04\n"
     ]
    },
    {
     "data": {
      "application/vnd.jupyter.widget-view+json": {
       "model_id": "7a56f11139d14fa6bb8527d671761317",
       "version_major": 2,
       "version_minor": 0
      },
      "text/plain": [
       "Epoch progress:   0%|          | 0/50 [00:00<?, ?it/s]"
      ]
     },
     "metadata": {},
     "output_type": "display_data"
    },
    {
     "name": "stdout",
     "output_type": "stream",
     "text": [
      "Training model. Current learning rate: 0.05\n"
     ]
    },
    {
     "data": {
      "application/vnd.jupyter.widget-view+json": {
       "model_id": "61b8b433f8a14b3e992442f3739e9cd2",
       "version_major": 2,
       "version_minor": 0
      },
      "text/plain": [
       "Epoch progress:   0%|          | 0/50 [00:00<?, ?it/s]"
      ]
     },
     "metadata": {},
     "output_type": "display_data"
    }
   ],
   "source": [
    "# training model2 with Adam optimizer & MSE cost\n",
    "best_params21 = pd.DataFrame(index = ['Accuracy on validation data', 'Average loss', 'Learning rate', 'Optimizer', 'Cost function'])\n",
    "j = 1\n",
    "\n",
    "acc_summary = tf.summary.scalar('Accuracy_summary_for_model2_with_Adam_optimizer_and_MSE_cost', accuracy2)\n",
    "cost = tf.reduce_mean(tf.square(model2 - Y))\n",
    "loss_summary = tf.summary.scalar('Loss_summary_for_model2_with_Adam_optimizer_and_MSE_cost', cost)\n",
    "merged = tf.summary.merge([acc_summary, loss_summary])\n",
    "\n",
    "for lr in learning_rate_list:\n",
    "    optimizer = tf.compat.v1.train.AdamOptimizer(lr).minimize(cost)    \n",
    "    init = tf.global_variables_initializer()\n",
    "    \n",
    "    print('Training model. Current learning rate: {:.2f}'.format(lr))\n",
    "    \n",
    "    outer_lvl = list(range(epoch))\n",
    "     \n",
    "    with tf.Session() as sess:\n",
    "        \n",
    "        writer1 = tf.summary.FileWriter('tblogs/model2/adam-mse/lr0.01', sess.graph)\n",
    "        writer2 = tf.summary.FileWriter('tblogs/model2/adam-mse/lr0.02', sess.graph)\n",
    "        writer3 = tf.summary.FileWriter('tblogs/model2/adam-mse/lr0.03', sess.graph)\n",
    "        writer4 = tf.summary.FileWriter('tblogs/model2/adam-mse/lr0.04', sess.graph)\n",
    "        writer5 = tf.summary.FileWriter('tblogs/model2/adam-mse/lr0.05', sess.graph)\n",
    "        \n",
    "        sess.run(init)\n",
    "        for k in tqdm(outer_lvl, desc = 'Epoch progress'):\n",
    "            avg_loss = 0.\n",
    "            start = 0; end = batch_size\n",
    "        \n",
    "            for i in range(iteration):\n",
    "                _, loss, summary = sess.run([optimizer, cost, merged], feed_dict={X: X_train[start: end], Y: y_train[start: end]})\n",
    "                start += batch_size; end += batch_size\n",
    "                avg_loss += loss / iteration\n",
    "                            \n",
    "            # save_path  = saver.save(sess, 'model2-adam-mse-lr{}'.format(lr), write_meta_graph = False, write_state = False)                            \n",
    "            cur_val_acc, summary = sess.run([accuracy2, merged], feed_dict = {X: X_valid, Y: y_valid})\n",
    "            \n",
    "            if lr == 0.01:\n",
    "                writer1.add_summary(summary, k)\n",
    "            elif lr == 0.02:\n",
    "                writer2.add_summary(summary, k)\n",
    "            elif lr == 0.03:\n",
    "                writer3.add_summary(summary, k)\n",
    "            elif lr == 0.04:\n",
    "                writer4.add_summary(summary, k)\n",
    "            else:\n",
    "                writer5.add_summary(summary, k)\n",
    "                \n",
    "        training_log21['Fit №' + str(learning_rate_list.index(lr) + 1)] = [cur_val_acc, avg_loss, lr]\n",
    "        j += 1\n",
    "           \n",
    "for col in training_log21.columns:\n",
    "    if training_log21[col].loc['Average loss'] == training_log21.loc['Average loss'].values.min():\n",
    "        best_params21['Model 2'] = [training_log21[col].values[0], training_log21[col].values[1], training_log21[col].values[2], 'Adam', 'MSE']"
   ]
  },
  {
   "cell_type": "code",
   "execution_count": 38,
   "id": "09648bea-ca3c-413f-8aac-24c6fa03a7c6",
   "metadata": {},
   "outputs": [],
   "source": [
    "#results\n",
    "# training_log21"
   ]
  },
  {
   "cell_type": "code",
   "execution_count": 39,
   "id": "3b313644-4904-4b1f-acf5-73d06f3766ed",
   "metadata": {},
   "outputs": [
    {
     "name": "stdout",
     "output_type": "stream",
     "text": [
      "INFO:tensorflow:Restoring parameters from model2-adam-mse-lr0.01\n"
     ]
    }
   ],
   "source": [
    "with tf.Session() as sess:\n",
    "    saver.restore(sess, 'model2-adam-mse-lr0.01')\n",
    "    preds = tf.nn.softmax(model2)\n",
    "    preds_val = preds.eval({X: X_valid, Y: y_valid})\n",
    "    for i in range(len(preds_val)):\n",
    "        preds_val[i] = np.where(preds_val[i] < max(preds_val[i]), 0, 1)\n",
    "    scores['model2-adam-mse'] = [f1_score(y_valid, preds_val, average = 'macro'), roc_auc_score(y_valid, preds_val, multi_class = 'ovr', average = 'macro'), accuracy2.eval({X: X_valid, Y: y_valid})]"
   ]
  },
  {
   "cell_type": "code",
   "execution_count": 40,
   "id": "e2436d06-91ac-4ba3-97ca-9a51bdd99e7e",
   "metadata": {
    "tags": []
   },
   "outputs": [
    {
     "name": "stdout",
     "output_type": "stream",
     "text": [
      "Training model. Current learning rate: 0.01\n"
     ]
    },
    {
     "data": {
      "application/vnd.jupyter.widget-view+json": {
       "model_id": "8b9860b6cdeb482390e2f4cb2170dd4f",
       "version_major": 2,
       "version_minor": 0
      },
      "text/plain": [
       "Epoch progress:   0%|          | 0/50 [00:00<?, ?it/s]"
      ]
     },
     "metadata": {},
     "output_type": "display_data"
    },
    {
     "name": "stdout",
     "output_type": "stream",
     "text": [
      "Training model. Current learning rate: 0.02\n"
     ]
    },
    {
     "data": {
      "application/vnd.jupyter.widget-view+json": {
       "model_id": "1532b094d5ed4ac2b47c0d418a1e027b",
       "version_major": 2,
       "version_minor": 0
      },
      "text/plain": [
       "Epoch progress:   0%|          | 0/50 [00:00<?, ?it/s]"
      ]
     },
     "metadata": {},
     "output_type": "display_data"
    },
    {
     "name": "stdout",
     "output_type": "stream",
     "text": [
      "Training model. Current learning rate: 0.03\n"
     ]
    },
    {
     "data": {
      "application/vnd.jupyter.widget-view+json": {
       "model_id": "9264923951c44b6d824c5bb1390aa5c9",
       "version_major": 2,
       "version_minor": 0
      },
      "text/plain": [
       "Epoch progress:   0%|          | 0/50 [00:00<?, ?it/s]"
      ]
     },
     "metadata": {},
     "output_type": "display_data"
    },
    {
     "name": "stdout",
     "output_type": "stream",
     "text": [
      "Training model. Current learning rate: 0.04\n"
     ]
    },
    {
     "data": {
      "application/vnd.jupyter.widget-view+json": {
       "model_id": "d76f2f2a6724460697a15dde047bfca2",
       "version_major": 2,
       "version_minor": 0
      },
      "text/plain": [
       "Epoch progress:   0%|          | 0/50 [00:00<?, ?it/s]"
      ]
     },
     "metadata": {},
     "output_type": "display_data"
    },
    {
     "name": "stdout",
     "output_type": "stream",
     "text": [
      "Training model. Current learning rate: 0.05\n"
     ]
    },
    {
     "data": {
      "application/vnd.jupyter.widget-view+json": {
       "model_id": "4d6ebdb096be46c2b3476508b68a1c29",
       "version_major": 2,
       "version_minor": 0
      },
      "text/plain": [
       "Epoch progress:   0%|          | 0/50 [00:00<?, ?it/s]"
      ]
     },
     "metadata": {},
     "output_type": "display_data"
    }
   ],
   "source": [
    "# training model2 with gradient descent optimizer & MSE cost\n",
    "j = 1\n",
    "\n",
    "acc_summary = tf.summary.scalar('Accuracy_summary_for_model2_with_Gradient_Descent_optimizer_and_MSE_cost', accuracy2)\n",
    "cost = tf.reduce_mean(tf.square(model2 - Y))\n",
    "loss_summary = tf.summary.scalar('Loss_summary_for_model2_with_Gradient_Descent_optimizer_and_MSE_cost', cost)\n",
    "merged = tf.summary.merge([acc_summary, loss_summary])\n",
    "\n",
    "for lr in learning_rate_list:\n",
    "    optimizer = tf.compat.v1.train.GradientDescentOptimizer(lr).minimize(cost)    \n",
    "    init = tf.global_variables_initializer()\n",
    "    print('Training model. Current learning rate: {:.2f}'.format(lr))\n",
    "    \n",
    "    outer_lvl = list(range(epoch))\n",
    "    \n",
    "    with tf.Session() as sess:\n",
    "        \n",
    "        writer1 = tf.summary.FileWriter('tblogs/model2/graddesc-mse/lr0.01', sess.graph)\n",
    "        writer2 = tf.summary.FileWriter('tblogs/model2/graddesc-mse/lr0.02', sess.graph)\n",
    "        writer3 = tf.summary.FileWriter('tblogs/model2/graddesc-mse/lr0.03', sess.graph)\n",
    "        writer4 = tf.summary.FileWriter('tblogs/model2/graddesc-mse/lr0.04', sess.graph)\n",
    "        writer5 = tf.summary.FileWriter('tblogs/model2/graddesc-mse/lr0.05', sess.graph)\n",
    "        \n",
    "        sess.run(init)\n",
    "        for k in tqdm(outer_lvl, desc = 'Epoch progress'):\n",
    "            avg_loss = 0.\n",
    "            start = 0; end = batch_size\n",
    "        \n",
    "            for i in range(iteration):\n",
    "                _, loss, summary = sess.run([optimizer, cost, merged], feed_dict={X: X_train[start: end], Y: y_train[start: end]})\n",
    "                start += batch_size; end += batch_size\n",
    "                avg_loss += loss / iteration\n",
    "            \n",
    "            # save_path  = saver.save(sess, 'model2-graddesc-mse-lr{}'.format(lr), write_meta_graph = False, write_state = False)                            \n",
    "            cur_val_acc, summary = sess.run([accuracy2, merged], feed_dict = {X: X_valid, Y: y_valid})\n",
    "            \n",
    "            if lr == 0.01:\n",
    "                writer1.add_summary(summary, k)\n",
    "            elif lr == 0.02:\n",
    "                writer2.add_summary(summary, k)\n",
    "            elif lr == 0.03:\n",
    "                writer3.add_summary(summary, k)\n",
    "            elif lr == 0.04:\n",
    "                writer4.add_summary(summary, k)\n",
    "            else:\n",
    "                writer5.add_summary(summary, k)   \n",
    "                \n",
    "        training_log22['Fit №' + str(learning_rate_list.index(lr) + 1)] = [cur_val_acc, avg_loss, lr]\n",
    "        j += 1"
   ]
  },
  {
   "cell_type": "code",
   "execution_count": 41,
   "id": "51a6e517-60b2-4a28-b292-a1b0d6e4635c",
   "metadata": {},
   "outputs": [],
   "source": [
    "#results\n",
    "# training_log22"
   ]
  },
  {
   "cell_type": "code",
   "execution_count": 42,
   "id": "024101a9-b29b-4f87-a5d6-979e30fb6846",
   "metadata": {},
   "outputs": [
    {
     "name": "stdout",
     "output_type": "stream",
     "text": [
      "INFO:tensorflow:Restoring parameters from model2-graddesc-mse-lr0.05\n"
     ]
    }
   ],
   "source": [
    "with tf.Session() as sess:\n",
    "    saver.restore(sess, 'model2-graddesc-mse-lr0.05')\n",
    "    preds = tf.nn.softmax(model2)\n",
    "    preds_val = preds.eval({X: X_valid, Y: y_valid})\n",
    "    for i in range(len(preds_val)):\n",
    "        preds_val[i] = np.where(preds_val[i] < max(preds_val[i]), 0, 1)\n",
    "    scores['model2-graddesc-mse'] = [f1_score(y_valid, preds_val, average = 'macro'), roc_auc_score(y_valid, preds_val, multi_class = 'ovr', average = 'macro'), accuracy2.eval({X: X_valid, Y: y_valid})]"
   ]
  },
  {
   "cell_type": "code",
   "execution_count": 43,
   "id": "98a2ea18-816b-408e-893b-25924fdf8d71",
   "metadata": {},
   "outputs": [
    {
     "name": "stdout",
     "output_type": "stream",
     "text": [
      "Training model. Current learning rate: 0.01\n"
     ]
    },
    {
     "data": {
      "application/vnd.jupyter.widget-view+json": {
       "model_id": "7adb92732b1a4e98b0fc45fc7b1b3842",
       "version_major": 2,
       "version_minor": 0
      },
      "text/plain": [
       "Epoch progress:   0%|          | 0/50 [00:00<?, ?it/s]"
      ]
     },
     "metadata": {},
     "output_type": "display_data"
    },
    {
     "name": "stdout",
     "output_type": "stream",
     "text": [
      "Training model. Current learning rate: 0.02\n"
     ]
    },
    {
     "data": {
      "application/vnd.jupyter.widget-view+json": {
       "model_id": "8d31aa2442b94971a70294aa91d39edb",
       "version_major": 2,
       "version_minor": 0
      },
      "text/plain": [
       "Epoch progress:   0%|          | 0/50 [00:00<?, ?it/s]"
      ]
     },
     "metadata": {},
     "output_type": "display_data"
    },
    {
     "name": "stdout",
     "output_type": "stream",
     "text": [
      "Training model. Current learning rate: 0.03\n"
     ]
    },
    {
     "data": {
      "application/vnd.jupyter.widget-view+json": {
       "model_id": "a0bfe8032c7744de936cc203156e680b",
       "version_major": 2,
       "version_minor": 0
      },
      "text/plain": [
       "Epoch progress:   0%|          | 0/50 [00:00<?, ?it/s]"
      ]
     },
     "metadata": {},
     "output_type": "display_data"
    },
    {
     "name": "stdout",
     "output_type": "stream",
     "text": [
      "Training model. Current learning rate: 0.04\n"
     ]
    },
    {
     "data": {
      "application/vnd.jupyter.widget-view+json": {
       "model_id": "cd2d39609b8d47838cc1863179d9b6d7",
       "version_major": 2,
       "version_minor": 0
      },
      "text/plain": [
       "Epoch progress:   0%|          | 0/50 [00:00<?, ?it/s]"
      ]
     },
     "metadata": {},
     "output_type": "display_data"
    },
    {
     "name": "stdout",
     "output_type": "stream",
     "text": [
      "Training model. Current learning rate: 0.05\n"
     ]
    },
    {
     "data": {
      "application/vnd.jupyter.widget-view+json": {
       "model_id": "92e6cc550ca44edca559f1fd22bf104a",
       "version_major": 2,
       "version_minor": 0
      },
      "text/plain": [
       "Epoch progress:   0%|          | 0/50 [00:00<?, ?it/s]"
      ]
     },
     "metadata": {},
     "output_type": "display_data"
    }
   ],
   "source": [
    "# training model1 with gradient descent optimizer & cross entropy cost\n",
    "j = 1\n",
    "\n",
    "acc_summary = tf.summary.scalar('Accuracy_summary_for_model2_with_Gradient_Descent_optimizer_and_Cross_entropy_cost', accuracy2)\n",
    "cost = tf.reduce_mean(tf.nn.softmax_cross_entropy_with_logits_v2(logits = model2, labels = Y))\n",
    "loss_summary = tf.summary.scalar('Loss_summary_for_model2_with_Gradient_Descent_optimizer_and_Cross_entropy_cost', cost)\n",
    "merged = tf.summary.merge([acc_summary, loss_summary])\n",
    "\n",
    "for lr in learning_rate_list:\n",
    "    optimizer = tf.compat.v1.train.GradientDescentOptimizer(lr).minimize(cost)    \n",
    "    init = tf.global_variables_initializer()\n",
    "    \n",
    "    print('Training model. Current learning rate: {:.2f}'.format(lr))\n",
    "    \n",
    "    outer_lvl = list(range(epoch))\n",
    "    \n",
    "    with tf.Session() as sess:\n",
    "        \n",
    "        writer1 = tf.summary.FileWriter('tblogs/model2/graddesc-crossentr/lr0.01', sess.graph)\n",
    "        writer2 = tf.summary.FileWriter('tblogs/model2/graddesc-crossentr/lr0.02', sess.graph)\n",
    "        writer3 = tf.summary.FileWriter('tblogs/model2/graddesc-crossentr/lr0.03', sess.graph)\n",
    "        writer4 = tf.summary.FileWriter('tblogs/model2/graddesc-crossentr/lr0.04', sess.graph)\n",
    "        writer5 = tf.summary.FileWriter('tblogs/model2/graddesc-crossentr/lr0.05', sess.graph)\n",
    "        \n",
    "        sess.run(init)\n",
    "        for k in tqdm(outer_lvl, desc = 'Epoch progress'):\n",
    "            avg_loss = 0.\n",
    "            start = 0; end = batch_size\n",
    "        \n",
    "            for i in range(iteration):\n",
    "                _, loss, summary = sess.run([optimizer, cost, merged], feed_dict={X: X_train[start: end], Y: y_train[start: end]})\n",
    "                start += batch_size; end += batch_size\n",
    "                avg_loss += loss / iteration\n",
    "            \n",
    "            # save_path  = saver.save(sess, 'model2-graddesc-crossentr-lr{}'.format(lr), write_meta_graph = False, write_state = False)                            \n",
    "            cur_val_acc, summary = sess.run([accuracy2, merged], feed_dict = {X: X_valid, Y: y_valid})\n",
    "            \n",
    "            if lr == 0.01:\n",
    "                writer1.add_summary(summary, k)\n",
    "            elif lr == 0.02:\n",
    "                writer2.add_summary(summary, k)\n",
    "            elif lr == 0.03:\n",
    "                writer3.add_summary(summary, k)\n",
    "            elif lr == 0.04:\n",
    "                writer4.add_summary(summary, k)\n",
    "            else:\n",
    "                writer5.add_summary(summary, k)\n",
    "                \n",
    "        training_log23['Fit №' + str(learning_rate_list.index(lr) + 1)] = [cur_val_acc, avg_loss, lr]\n",
    "        j += 1"
   ]
  },
  {
   "cell_type": "code",
   "execution_count": 44,
   "id": "24124026-166b-4979-b248-3ff96b5b8261",
   "metadata": {},
   "outputs": [],
   "source": [
    "#results\n",
    "# training_log23"
   ]
  },
  {
   "cell_type": "code",
   "execution_count": 45,
   "id": "7334b851-5107-4372-adb9-255ae6af4938",
   "metadata": {},
   "outputs": [
    {
     "name": "stdout",
     "output_type": "stream",
     "text": [
      "INFO:tensorflow:Restoring parameters from model2-graddesc-crossentr-lr0.05\n"
     ]
    }
   ],
   "source": [
    "with tf.Session() as sess:\n",
    "    saver.restore(sess, 'model2-graddesc-crossentr-lr0.05')\n",
    "    preds = tf.nn.softmax(model2)\n",
    "    preds_val = preds.eval({X: X_valid, Y: y_valid})\n",
    "    for i in range(len(preds_val)):\n",
    "        preds_val[i] = np.where(preds_val[i] < max(preds_val[i]), 0, 1)\n",
    "    scores['model2-graddesc-crossentr'] = [f1_score(y_valid, preds_val, average = 'macro'), roc_auc_score(y_valid, preds_val, multi_class = 'ovr', average = 'macro'), accuracy2.eval({X: X_valid, Y: y_valid})]"
   ]
  },
  {
   "cell_type": "code",
   "execution_count": 46,
   "id": "3e251f5a-dd7f-41c6-b288-34235d9682ee",
   "metadata": {},
   "outputs": [
    {
     "name": "stdout",
     "output_type": "stream",
     "text": [
      "Training model. Current learning rate: 0.01\n"
     ]
    },
    {
     "data": {
      "application/vnd.jupyter.widget-view+json": {
       "model_id": "690abafe882944a4aa354f7172a97738",
       "version_major": 2,
       "version_minor": 0
      },
      "text/plain": [
       "Epoch progress:   0%|          | 0/50 [00:00<?, ?it/s]"
      ]
     },
     "metadata": {},
     "output_type": "display_data"
    },
    {
     "name": "stdout",
     "output_type": "stream",
     "text": [
      "Training model. Current learning rate: 0.02\n"
     ]
    },
    {
     "data": {
      "application/vnd.jupyter.widget-view+json": {
       "model_id": "78076ebaf490458aa72f1ada1246bc26",
       "version_major": 2,
       "version_minor": 0
      },
      "text/plain": [
       "Epoch progress:   0%|          | 0/50 [00:00<?, ?it/s]"
      ]
     },
     "metadata": {},
     "output_type": "display_data"
    },
    {
     "name": "stdout",
     "output_type": "stream",
     "text": [
      "Training model. Current learning rate: 0.03\n"
     ]
    },
    {
     "data": {
      "application/vnd.jupyter.widget-view+json": {
       "model_id": "fa9c3d4f4b124df38da00caec1cfc68c",
       "version_major": 2,
       "version_minor": 0
      },
      "text/plain": [
       "Epoch progress:   0%|          | 0/50 [00:00<?, ?it/s]"
      ]
     },
     "metadata": {},
     "output_type": "display_data"
    },
    {
     "name": "stdout",
     "output_type": "stream",
     "text": [
      "Training model. Current learning rate: 0.04\n"
     ]
    },
    {
     "data": {
      "application/vnd.jupyter.widget-view+json": {
       "model_id": "22c5f6284dfc421391283a7ac925dd25",
       "version_major": 2,
       "version_minor": 0
      },
      "text/plain": [
       "Epoch progress:   0%|          | 0/50 [00:00<?, ?it/s]"
      ]
     },
     "metadata": {},
     "output_type": "display_data"
    },
    {
     "name": "stdout",
     "output_type": "stream",
     "text": [
      "Training model. Current learning rate: 0.05\n"
     ]
    },
    {
     "data": {
      "application/vnd.jupyter.widget-view+json": {
       "model_id": "8210aa4686204936872a53ecaeb7c340",
       "version_major": 2,
       "version_minor": 0
      },
      "text/plain": [
       "Epoch progress:   0%|          | 0/50 [00:00<?, ?it/s]"
      ]
     },
     "metadata": {},
     "output_type": "display_data"
    }
   ],
   "source": [
    "# training model2 with Adam optimizer & cross entropy cost\n",
    "j = 1\n",
    "\n",
    "acc_summary = tf.summary.scalar('Accuracy_summary_for_model2_with_Adam_optimizer_and_Cross_entropy_cost', accuracy2)\n",
    "cost = tf.reduce_mean(tf.nn.softmax_cross_entropy_with_logits_v2(logits = model2, labels = Y))\n",
    "loss_summary = tf.summary.scalar('Loss_summary_for_model2_with_Adam_optimizer_and_Cross_entropy_cost', cost)\n",
    "merged = tf.summary.merge([acc_summary, loss_summary])\n",
    "\n",
    "for lr in learning_rate_list:\n",
    "    optimizer = tf.compat.v1.train.AdamOptimizer(lr).minimize(cost)    \n",
    "    init = tf.global_variables_initializer()\n",
    "    \n",
    "    print('Training model. Current learning rate: {:.2f}'.format(lr))\n",
    "    \n",
    "    outer_lvl = list(range(epoch))\n",
    "    \n",
    "    with tf.Session() as sess:\n",
    "        \n",
    "        writer1 = tf.summary.FileWriter('tblogs/model2/adam-crossentr/lr0.01', sess.graph)\n",
    "        writer2 = tf.summary.FileWriter('tblogs/model2/adam-crossentr/lr0.02', sess.graph)\n",
    "        writer3 = tf.summary.FileWriter('tblogs/model2/adam-crossentr/lr0.03', sess.graph)\n",
    "        writer4 = tf.summary.FileWriter('tblogs/model2/adam-crossentr/lr0.04', sess.graph)\n",
    "        writer5 = tf.summary.FileWriter('tblogs/model2/adam-crossentr/lr0.05', sess.graph)\n",
    "        \n",
    "        sess.run(init)\n",
    "        for k in tqdm(outer_lvl, desc = 'Epoch progress'):\n",
    "            avg_loss = 0.\n",
    "            start = 0; end = batch_size\n",
    "        \n",
    "            for i in range(iteration):\n",
    "                _, loss, summary = sess.run([optimizer, cost, merged], feed_dict={X: X_train[start: end], Y: y_train[start: end]})\n",
    "                start += batch_size; end += batch_size\n",
    "                avg_loss += loss / iteration\n",
    "                \n",
    "            # save_path  = saver.save(sess, 'model2-adam-crossentr-lr{}'.format(lr), write_meta_graph = False, write_state = False)                            \n",
    "            cur_val_acc, summary = sess.run([accuracy2, merged], feed_dict = {X: X_valid, Y: y_valid})\n",
    "            \n",
    "            if lr == 0.01:\n",
    "                writer1.add_summary(summary, k)\n",
    "            elif lr == 0.02:\n",
    "                writer2.add_summary(summary, k)\n",
    "            elif lr == 0.03:\n",
    "                writer3.add_summary(summary, k)\n",
    "            elif lr == 0.04:\n",
    "                writer4.add_summary(summary, k)\n",
    "            else:\n",
    "                writer5.add_summary(summary, k)\n",
    "                \n",
    "        training_log24['Fit №' + str(learning_rate_list.index(lr) + 1)] = [cur_val_acc, avg_loss, lr]\n",
    "        j += 1"
   ]
  },
  {
   "cell_type": "code",
   "execution_count": 47,
   "id": "cf8b4145-6b85-4fb9-987c-54c7fc5a2ade",
   "metadata": {},
   "outputs": [],
   "source": [
    "#results\n",
    "# training_log24"
   ]
  },
  {
   "cell_type": "code",
   "execution_count": 48,
   "id": "0b5188ff-db46-4686-8a04-ba3f555e7875",
   "metadata": {},
   "outputs": [
    {
     "name": "stdout",
     "output_type": "stream",
     "text": [
      "INFO:tensorflow:Restoring parameters from model2-adam-crossentr-lr0.01\n"
     ]
    }
   ],
   "source": [
    "with tf.Session() as sess:\n",
    "    saver.restore(sess, 'model2-adam-crossentr-lr0.01')\n",
    "    preds = tf.nn.softmax(model2)\n",
    "    preds_val = preds.eval({X: X_valid, Y: y_valid})\n",
    "    for i in range(len(preds_val)):\n",
    "        preds_val[i] = np.where(preds_val[i] < max(preds_val[i]), 0, 1)\n",
    "    scores['model2-adam-crossentr'] = [f1_score(y_valid, preds_val, average = 'macro'), roc_auc_score(y_valid, preds_val, multi_class = 'ovr', average = 'macro'), accuracy2.eval({X: X_valid, Y: y_valid})]"
   ]
  },
  {
   "cell_type": "code",
   "execution_count": 53,
   "id": "8b5db155-da80-4316-a9d8-af7ead4e70f0",
   "metadata": {},
   "outputs": [
    {
     "name": "stdout",
     "output_type": "stream",
     "text": [
      "Training model. Current learning rate: 0.01\n"
     ]
    },
    {
     "data": {
      "application/vnd.jupyter.widget-view+json": {
       "model_id": "94521206138545f5a8ea8d552056164d",
       "version_major": 2,
       "version_minor": 0
      },
      "text/plain": [
       "Epoch progress:   0%|          | 0/50 [00:00<?, ?it/s]"
      ]
     },
     "metadata": {},
     "output_type": "display_data"
    },
    {
     "name": "stdout",
     "output_type": "stream",
     "text": [
      "INFO:tensorflow:model3-adam-mse-lr0.01.data-00000-of-00001\n",
      "INFO:tensorflow:3800\n",
      "INFO:tensorflow:model3-adam-mse-lr0.01.data-00000-of-00001.tempstate6923177340213921996\n",
      "INFO:tensorflow:7600\n",
      "INFO:tensorflow:model3-adam-mse-lr0.01.index\n",
      "INFO:tensorflow:7600\n",
      "INFO:tensorflow:model3-adam-mse-lr0.01.data-00000-of-00001\n",
      "INFO:tensorflow:3800\n",
      "INFO:tensorflow:model3-adam-mse-lr0.01.data-00000-of-00001.tempstate6923177340213921996\n",
      "INFO:tensorflow:7600\n",
      "INFO:tensorflow:model3-adam-mse-lr0.01.index\n",
      "INFO:tensorflow:7600\n",
      "INFO:tensorflow:model3-adam-mse-lr0.01.data-00000-of-00001\n",
      "INFO:tensorflow:3800\n",
      "INFO:tensorflow:model3-adam-mse-lr0.01.data-00000-of-00001.tempstate6923177340213921996\n",
      "INFO:tensorflow:7600\n",
      "INFO:tensorflow:model3-adam-mse-lr0.01.index\n",
      "INFO:tensorflow:7600\n",
      "INFO:tensorflow:model3-adam-mse-lr0.01.data-00000-of-00001\n",
      "INFO:tensorflow:3800\n",
      "INFO:tensorflow:model3-adam-mse-lr0.01.data-00000-of-00001.tempstate6923177340213921996\n",
      "INFO:tensorflow:7600\n",
      "INFO:tensorflow:model3-adam-mse-lr0.01.index\n",
      "INFO:tensorflow:7600\n",
      "INFO:tensorflow:model3-adam-mse-lr0.01.data-00000-of-00001\n",
      "INFO:tensorflow:3800\n",
      "INFO:tensorflow:model3-adam-mse-lr0.01.data-00000-of-00001.tempstate6923177340213921996\n",
      "INFO:tensorflow:7600\n",
      "INFO:tensorflow:model3-adam-mse-lr0.01.index\n",
      "INFO:tensorflow:7600\n",
      "INFO:tensorflow:model3-adam-mse-lr0.01.data-00000-of-00001\n",
      "INFO:tensorflow:3800\n",
      "INFO:tensorflow:model3-adam-mse-lr0.01.data-00000-of-00001.tempstate6923177340213921996\n",
      "INFO:tensorflow:7600\n",
      "INFO:tensorflow:model3-adam-mse-lr0.01.index\n",
      "INFO:tensorflow:7600\n",
      "INFO:tensorflow:model3-adam-mse-lr0.01.data-00000-of-00001\n",
      "INFO:tensorflow:3800\n",
      "INFO:tensorflow:model3-adam-mse-lr0.01.data-00000-of-00001.tempstate6923177340213921996\n",
      "INFO:tensorflow:7600\n",
      "INFO:tensorflow:model3-adam-mse-lr0.01.index\n",
      "INFO:tensorflow:7600\n",
      "INFO:tensorflow:model3-adam-mse-lr0.01.data-00000-of-00001\n",
      "INFO:tensorflow:3800\n",
      "INFO:tensorflow:model3-adam-mse-lr0.01.data-00000-of-00001.tempstate6923177340213921996\n",
      "INFO:tensorflow:7600\n",
      "INFO:tensorflow:model3-adam-mse-lr0.01.index\n",
      "INFO:tensorflow:7600\n",
      "INFO:tensorflow:model3-adam-mse-lr0.01.data-00000-of-00001\n",
      "INFO:tensorflow:3800\n",
      "INFO:tensorflow:model3-adam-mse-lr0.01.data-00000-of-00001.tempstate6923177340213921996\n",
      "INFO:tensorflow:7600\n",
      "INFO:tensorflow:model3-adam-mse-lr0.01.index\n",
      "INFO:tensorflow:7600\n",
      "INFO:tensorflow:model3-adam-mse-lr0.01.data-00000-of-00001\n",
      "INFO:tensorflow:3800\n",
      "INFO:tensorflow:model3-adam-mse-lr0.01.data-00000-of-00001.tempstate6923177340213921996\n",
      "INFO:tensorflow:7600\n",
      "INFO:tensorflow:model3-adam-mse-lr0.01.index\n",
      "INFO:tensorflow:7600\n",
      "INFO:tensorflow:model3-adam-mse-lr0.01.data-00000-of-00001\n",
      "INFO:tensorflow:3800\n",
      "INFO:tensorflow:model3-adam-mse-lr0.01.data-00000-of-00001.tempstate6923177340213921996\n",
      "INFO:tensorflow:7600\n",
      "INFO:tensorflow:model3-adam-mse-lr0.01.index\n",
      "INFO:tensorflow:7600\n",
      "INFO:tensorflow:model3-adam-mse-lr0.01.data-00000-of-00001\n",
      "INFO:tensorflow:3800\n",
      "INFO:tensorflow:model3-adam-mse-lr0.01.data-00000-of-00001.tempstate6923177340213921996\n",
      "INFO:tensorflow:7600\n",
      "INFO:tensorflow:model3-adam-mse-lr0.01.index\n",
      "INFO:tensorflow:7600\n",
      "INFO:tensorflow:model3-adam-mse-lr0.01.data-00000-of-00001\n",
      "INFO:tensorflow:3800\n",
      "INFO:tensorflow:model3-adam-mse-lr0.01.data-00000-of-00001.tempstate6923177340213921996\n",
      "INFO:tensorflow:7600\n",
      "INFO:tensorflow:model3-adam-mse-lr0.01.index\n",
      "INFO:tensorflow:7600\n",
      "INFO:tensorflow:model3-adam-mse-lr0.01.data-00000-of-00001\n",
      "INFO:tensorflow:3800\n",
      "INFO:tensorflow:model3-adam-mse-lr0.01.data-00000-of-00001.tempstate6923177340213921996\n",
      "INFO:tensorflow:7600\n",
      "INFO:tensorflow:model3-adam-mse-lr0.01.index\n",
      "INFO:tensorflow:7600\n",
      "INFO:tensorflow:model3-adam-mse-lr0.01.data-00000-of-00001\n",
      "INFO:tensorflow:3800\n",
      "INFO:tensorflow:model3-adam-mse-lr0.01.data-00000-of-00001.tempstate6923177340213921996\n",
      "INFO:tensorflow:7600\n",
      "INFO:tensorflow:model3-adam-mse-lr0.01.index\n",
      "INFO:tensorflow:7600\n",
      "INFO:tensorflow:model3-adam-mse-lr0.01.data-00000-of-00001\n",
      "INFO:tensorflow:3800\n",
      "INFO:tensorflow:model3-adam-mse-lr0.01.data-00000-of-00001.tempstate6923177340213921996\n",
      "INFO:tensorflow:7600\n",
      "INFO:tensorflow:model3-adam-mse-lr0.01.index\n",
      "INFO:tensorflow:7600\n",
      "INFO:tensorflow:model3-adam-mse-lr0.01.data-00000-of-00001\n",
      "INFO:tensorflow:3800\n",
      "INFO:tensorflow:model3-adam-mse-lr0.01.data-00000-of-00001.tempstate6923177340213921996\n",
      "INFO:tensorflow:7600\n",
      "INFO:tensorflow:model3-adam-mse-lr0.01.index\n",
      "INFO:tensorflow:7600\n",
      "INFO:tensorflow:model3-adam-mse-lr0.01.data-00000-of-00001\n",
      "INFO:tensorflow:3800\n",
      "INFO:tensorflow:model3-adam-mse-lr0.01.data-00000-of-00001.tempstate6923177340213921996\n",
      "INFO:tensorflow:7600\n",
      "INFO:tensorflow:model3-adam-mse-lr0.01.index\n",
      "INFO:tensorflow:7600\n",
      "INFO:tensorflow:model3-adam-mse-lr0.01.data-00000-of-00001\n",
      "INFO:tensorflow:3800\n",
      "INFO:tensorflow:model3-adam-mse-lr0.01.data-00000-of-00001.tempstate6923177340213921996\n",
      "INFO:tensorflow:7600\n",
      "INFO:tensorflow:model3-adam-mse-lr0.01.index\n",
      "INFO:tensorflow:7600\n",
      "INFO:tensorflow:model3-adam-mse-lr0.01.data-00000-of-00001\n",
      "INFO:tensorflow:3800\n",
      "INFO:tensorflow:model3-adam-mse-lr0.01.data-00000-of-00001.tempstate6923177340213921996\n",
      "INFO:tensorflow:7600\n",
      "INFO:tensorflow:model3-adam-mse-lr0.01.index\n",
      "INFO:tensorflow:7600\n",
      "INFO:tensorflow:model3-adam-mse-lr0.01.data-00000-of-00001\n",
      "INFO:tensorflow:3800\n",
      "INFO:tensorflow:model3-adam-mse-lr0.01.data-00000-of-00001.tempstate6923177340213921996\n",
      "INFO:tensorflow:7600\n",
      "INFO:tensorflow:model3-adam-mse-lr0.01.index\n",
      "INFO:tensorflow:7600\n",
      "INFO:tensorflow:model3-adam-mse-lr0.01.data-00000-of-00001\n",
      "INFO:tensorflow:3800\n",
      "INFO:tensorflow:model3-adam-mse-lr0.01.data-00000-of-00001.tempstate6923177340213921996\n",
      "INFO:tensorflow:7600\n",
      "INFO:tensorflow:model3-adam-mse-lr0.01.index\n",
      "INFO:tensorflow:7600\n",
      "INFO:tensorflow:model3-adam-mse-lr0.01.data-00000-of-00001\n",
      "INFO:tensorflow:3800\n",
      "INFO:tensorflow:model3-adam-mse-lr0.01.data-00000-of-00001.tempstate6923177340213921996\n",
      "INFO:tensorflow:7600\n",
      "INFO:tensorflow:model3-adam-mse-lr0.01.index\n",
      "INFO:tensorflow:7600\n",
      "INFO:tensorflow:model3-adam-mse-lr0.01.data-00000-of-00001\n",
      "INFO:tensorflow:3800\n",
      "INFO:tensorflow:model3-adam-mse-lr0.01.data-00000-of-00001.tempstate6923177340213921996\n",
      "INFO:tensorflow:7600\n",
      "INFO:tensorflow:model3-adam-mse-lr0.01.index\n",
      "INFO:tensorflow:7600\n",
      "INFO:tensorflow:model3-adam-mse-lr0.01.data-00000-of-00001\n",
      "INFO:tensorflow:3800\n",
      "INFO:tensorflow:model3-adam-mse-lr0.01.data-00000-of-00001.tempstate6923177340213921996\n",
      "INFO:tensorflow:7600\n",
      "INFO:tensorflow:model3-adam-mse-lr0.01.index\n",
      "INFO:tensorflow:7600\n",
      "INFO:tensorflow:model3-adam-mse-lr0.01.data-00000-of-00001\n",
      "INFO:tensorflow:3800\n",
      "INFO:tensorflow:model3-adam-mse-lr0.01.data-00000-of-00001.tempstate6923177340213921996\n",
      "INFO:tensorflow:7600\n",
      "INFO:tensorflow:model3-adam-mse-lr0.01.index\n",
      "INFO:tensorflow:7600\n",
      "INFO:tensorflow:model3-adam-mse-lr0.01.data-00000-of-00001\n",
      "INFO:tensorflow:3800\n",
      "INFO:tensorflow:model3-adam-mse-lr0.01.data-00000-of-00001.tempstate6923177340213921996\n",
      "INFO:tensorflow:7600\n",
      "INFO:tensorflow:model3-adam-mse-lr0.01.index\n",
      "INFO:tensorflow:7600\n",
      "INFO:tensorflow:model3-adam-mse-lr0.01.data-00000-of-00001\n",
      "INFO:tensorflow:3800\n",
      "INFO:tensorflow:model3-adam-mse-lr0.01.data-00000-of-00001.tempstate6923177340213921996\n",
      "INFO:tensorflow:7600\n",
      "INFO:tensorflow:model3-adam-mse-lr0.01.index\n",
      "INFO:tensorflow:7600\n",
      "INFO:tensorflow:model3-adam-mse-lr0.01.data-00000-of-00001\n",
      "INFO:tensorflow:3800\n",
      "INFO:tensorflow:model3-adam-mse-lr0.01.data-00000-of-00001.tempstate6923177340213921996\n",
      "INFO:tensorflow:7600\n",
      "INFO:tensorflow:model3-adam-mse-lr0.01.index\n",
      "INFO:tensorflow:7600\n",
      "INFO:tensorflow:model3-adam-mse-lr0.01.data-00000-of-00001\n",
      "INFO:tensorflow:3800\n",
      "INFO:tensorflow:model3-adam-mse-lr0.01.data-00000-of-00001.tempstate6923177340213921996\n",
      "INFO:tensorflow:7600\n",
      "INFO:tensorflow:model3-adam-mse-lr0.01.index\n",
      "INFO:tensorflow:7600\n",
      "INFO:tensorflow:model3-adam-mse-lr0.01.data-00000-of-00001\n",
      "INFO:tensorflow:3800\n",
      "INFO:tensorflow:model3-adam-mse-lr0.01.data-00000-of-00001.tempstate6923177340213921996\n",
      "INFO:tensorflow:7600\n",
      "INFO:tensorflow:model3-adam-mse-lr0.01.index\n",
      "INFO:tensorflow:7600\n",
      "INFO:tensorflow:model3-adam-mse-lr0.01.data-00000-of-00001\n",
      "INFO:tensorflow:3800\n",
      "INFO:tensorflow:model3-adam-mse-lr0.01.data-00000-of-00001.tempstate6923177340213921996\n",
      "INFO:tensorflow:7600\n",
      "INFO:tensorflow:model3-adam-mse-lr0.01.index\n",
      "INFO:tensorflow:7600\n",
      "INFO:tensorflow:model3-adam-mse-lr0.01.data-00000-of-00001\n",
      "INFO:tensorflow:3800\n",
      "INFO:tensorflow:model3-adam-mse-lr0.01.data-00000-of-00001.tempstate6923177340213921996\n",
      "INFO:tensorflow:7600\n",
      "INFO:tensorflow:model3-adam-mse-lr0.01.index\n",
      "INFO:tensorflow:7600\n",
      "INFO:tensorflow:model3-adam-mse-lr0.01.data-00000-of-00001\n",
      "INFO:tensorflow:3800\n",
      "INFO:tensorflow:model3-adam-mse-lr0.01.data-00000-of-00001.tempstate6923177340213921996\n",
      "INFO:tensorflow:7600\n",
      "INFO:tensorflow:model3-adam-mse-lr0.01.index\n",
      "INFO:tensorflow:7600\n",
      "INFO:tensorflow:model3-adam-mse-lr0.01.data-00000-of-00001\n",
      "INFO:tensorflow:3800\n",
      "INFO:tensorflow:model3-adam-mse-lr0.01.data-00000-of-00001.tempstate6923177340213921996\n",
      "INFO:tensorflow:7600\n",
      "INFO:tensorflow:model3-adam-mse-lr0.01.index\n",
      "INFO:tensorflow:7600\n",
      "INFO:tensorflow:model3-adam-mse-lr0.01.data-00000-of-00001\n",
      "INFO:tensorflow:3800\n",
      "INFO:tensorflow:model3-adam-mse-lr0.01.data-00000-of-00001.tempstate6923177340213921996\n",
      "INFO:tensorflow:7600\n",
      "INFO:tensorflow:model3-adam-mse-lr0.01.index\n",
      "INFO:tensorflow:7600\n",
      "INFO:tensorflow:model3-adam-mse-lr0.01.data-00000-of-00001\n",
      "INFO:tensorflow:3800\n",
      "INFO:tensorflow:model3-adam-mse-lr0.01.data-00000-of-00001.tempstate6923177340213921996\n",
      "INFO:tensorflow:7600\n",
      "INFO:tensorflow:model3-adam-mse-lr0.01.index\n",
      "INFO:tensorflow:7600\n",
      "INFO:tensorflow:model3-adam-mse-lr0.01.data-00000-of-00001\n",
      "INFO:tensorflow:3800\n",
      "INFO:tensorflow:model3-adam-mse-lr0.01.data-00000-of-00001.tempstate6923177340213921996\n",
      "INFO:tensorflow:7600\n",
      "INFO:tensorflow:model3-adam-mse-lr0.01.index\n",
      "INFO:tensorflow:7600\n",
      "INFO:tensorflow:model3-adam-mse-lr0.01.data-00000-of-00001\n",
      "INFO:tensorflow:3800\n",
      "INFO:tensorflow:model3-adam-mse-lr0.01.data-00000-of-00001.tempstate6923177340213921996\n",
      "INFO:tensorflow:7600\n",
      "INFO:tensorflow:model3-adam-mse-lr0.01.index\n",
      "INFO:tensorflow:7600\n",
      "INFO:tensorflow:model3-adam-mse-lr0.01.data-00000-of-00001\n",
      "INFO:tensorflow:3800\n",
      "INFO:tensorflow:model3-adam-mse-lr0.01.data-00000-of-00001.tempstate6923177340213921996\n",
      "INFO:tensorflow:7600\n",
      "INFO:tensorflow:model3-adam-mse-lr0.01.index\n",
      "INFO:tensorflow:7600\n",
      "INFO:tensorflow:model3-adam-mse-lr0.01.data-00000-of-00001\n",
      "INFO:tensorflow:3800\n",
      "INFO:tensorflow:model3-adam-mse-lr0.01.data-00000-of-00001.tempstate6923177340213921996\n",
      "INFO:tensorflow:7600\n",
      "INFO:tensorflow:model3-adam-mse-lr0.01.index\n",
      "INFO:tensorflow:7600\n",
      "INFO:tensorflow:model3-adam-mse-lr0.01.data-00000-of-00001\n",
      "INFO:tensorflow:3800\n",
      "INFO:tensorflow:model3-adam-mse-lr0.01.data-00000-of-00001.tempstate6923177340213921996\n",
      "INFO:tensorflow:7600\n",
      "INFO:tensorflow:model3-adam-mse-lr0.01.index\n",
      "INFO:tensorflow:7600\n",
      "INFO:tensorflow:model3-adam-mse-lr0.01.data-00000-of-00001\n",
      "INFO:tensorflow:3800\n",
      "INFO:tensorflow:model3-adam-mse-lr0.01.data-00000-of-00001.tempstate6923177340213921996\n",
      "INFO:tensorflow:7600\n",
      "INFO:tensorflow:model3-adam-mse-lr0.01.index\n",
      "INFO:tensorflow:7600\n",
      "INFO:tensorflow:model3-adam-mse-lr0.01.data-00000-of-00001\n",
      "INFO:tensorflow:3800\n",
      "INFO:tensorflow:model3-adam-mse-lr0.01.data-00000-of-00001.tempstate6923177340213921996\n",
      "INFO:tensorflow:7600\n",
      "INFO:tensorflow:model3-adam-mse-lr0.01.index\n",
      "INFO:tensorflow:7600\n",
      "INFO:tensorflow:model3-adam-mse-lr0.01.data-00000-of-00001\n",
      "INFO:tensorflow:3800\n",
      "INFO:tensorflow:model3-adam-mse-lr0.01.data-00000-of-00001.tempstate6923177340213921996\n",
      "INFO:tensorflow:7600\n",
      "INFO:tensorflow:model3-adam-mse-lr0.01.index\n",
      "INFO:tensorflow:7600\n",
      "INFO:tensorflow:model3-adam-mse-lr0.01.data-00000-of-00001\n",
      "INFO:tensorflow:3800\n",
      "INFO:tensorflow:model3-adam-mse-lr0.01.data-00000-of-00001.tempstate6923177340213921996\n",
      "INFO:tensorflow:7600\n",
      "INFO:tensorflow:model3-adam-mse-lr0.01.index\n",
      "INFO:tensorflow:7600\n",
      "INFO:tensorflow:model3-adam-mse-lr0.01.data-00000-of-00001\n",
      "INFO:tensorflow:3800\n",
      "INFO:tensorflow:model3-adam-mse-lr0.01.data-00000-of-00001.tempstate6923177340213921996\n",
      "INFO:tensorflow:7600\n",
      "INFO:tensorflow:model3-adam-mse-lr0.01.index\n",
      "INFO:tensorflow:7600\n",
      "INFO:tensorflow:model3-adam-mse-lr0.01.data-00000-of-00001\n",
      "INFO:tensorflow:3800\n",
      "INFO:tensorflow:model3-adam-mse-lr0.01.data-00000-of-00001.tempstate6923177340213921996\n",
      "INFO:tensorflow:7600\n",
      "INFO:tensorflow:model3-adam-mse-lr0.01.index\n",
      "INFO:tensorflow:7600\n",
      "INFO:tensorflow:model3-adam-mse-lr0.01.data-00000-of-00001\n",
      "INFO:tensorflow:3800\n",
      "INFO:tensorflow:model3-adam-mse-lr0.01.data-00000-of-00001.tempstate6923177340213921996\n",
      "INFO:tensorflow:7600\n",
      "INFO:tensorflow:model3-adam-mse-lr0.01.index\n",
      "INFO:tensorflow:7600\n",
      "INFO:tensorflow:model3-adam-mse-lr0.01.data-00000-of-00001\n",
      "INFO:tensorflow:3800\n",
      "INFO:tensorflow:model3-adam-mse-lr0.01.data-00000-of-00001.tempstate6923177340213921996\n",
      "INFO:tensorflow:7600\n",
      "INFO:tensorflow:model3-adam-mse-lr0.01.index\n",
      "INFO:tensorflow:7600\n",
      "Training model. Current learning rate: 0.02\n"
     ]
    },
    {
     "data": {
      "application/vnd.jupyter.widget-view+json": {
       "model_id": "e1021a474bc44a4cb04036256947209c",
       "version_major": 2,
       "version_minor": 0
      },
      "text/plain": [
       "Epoch progress:   0%|          | 0/50 [00:00<?, ?it/s]"
      ]
     },
     "metadata": {},
     "output_type": "display_data"
    },
    {
     "name": "stdout",
     "output_type": "stream",
     "text": [
      "INFO:tensorflow:model3-adam-mse-lr0.02.data-00000-of-00001\n",
      "INFO:tensorflow:3800\n",
      "INFO:tensorflow:model3-adam-mse-lr0.02.index\n",
      "INFO:tensorflow:3800\n",
      "INFO:tensorflow:model3-adam-mse-lr0.02.data-00000-of-00001\n",
      "INFO:tensorflow:3800\n",
      "INFO:tensorflow:model3-adam-mse-lr0.02.index\n",
      "INFO:tensorflow:3800\n",
      "INFO:tensorflow:model3-adam-mse-lr0.02.data-00000-of-00001\n",
      "INFO:tensorflow:3800\n",
      "INFO:tensorflow:model3-adam-mse-lr0.02.index\n",
      "INFO:tensorflow:3800\n",
      "INFO:tensorflow:model3-adam-mse-lr0.02.data-00000-of-00001\n",
      "INFO:tensorflow:3800\n",
      "INFO:tensorflow:model3-adam-mse-lr0.02.index\n",
      "INFO:tensorflow:3800\n",
      "INFO:tensorflow:model3-adam-mse-lr0.02.data-00000-of-00001\n",
      "INFO:tensorflow:3800\n",
      "INFO:tensorflow:model3-adam-mse-lr0.02.index\n",
      "INFO:tensorflow:3800\n",
      "INFO:tensorflow:model3-adam-mse-lr0.02.data-00000-of-00001\n",
      "INFO:tensorflow:3800\n",
      "INFO:tensorflow:model3-adam-mse-lr0.02.index\n",
      "INFO:tensorflow:3800\n",
      "INFO:tensorflow:model3-adam-mse-lr0.02.data-00000-of-00001\n",
      "INFO:tensorflow:3800\n",
      "INFO:tensorflow:model3-adam-mse-lr0.02.index\n",
      "INFO:tensorflow:3800\n",
      "INFO:tensorflow:model3-adam-mse-lr0.02.data-00000-of-00001\n",
      "INFO:tensorflow:3800\n",
      "INFO:tensorflow:model3-adam-mse-lr0.02.index\n",
      "INFO:tensorflow:3800\n",
      "INFO:tensorflow:model3-adam-mse-lr0.02.data-00000-of-00001\n",
      "INFO:tensorflow:3800\n",
      "INFO:tensorflow:model3-adam-mse-lr0.02.index\n",
      "INFO:tensorflow:3800\n",
      "INFO:tensorflow:model3-adam-mse-lr0.02.data-00000-of-00001\n",
      "INFO:tensorflow:3800\n",
      "INFO:tensorflow:model3-adam-mse-lr0.02.index\n",
      "INFO:tensorflow:3800\n",
      "INFO:tensorflow:model3-adam-mse-lr0.02.data-00000-of-00001\n",
      "INFO:tensorflow:3800\n",
      "INFO:tensorflow:model3-adam-mse-lr0.02.index\n",
      "INFO:tensorflow:3800\n",
      "INFO:tensorflow:model3-adam-mse-lr0.02.data-00000-of-00001\n",
      "INFO:tensorflow:3800\n",
      "INFO:tensorflow:model3-adam-mse-lr0.02.index\n",
      "INFO:tensorflow:3800\n",
      "INFO:tensorflow:model3-adam-mse-lr0.02.data-00000-of-00001\n",
      "INFO:tensorflow:3800\n",
      "INFO:tensorflow:model3-adam-mse-lr0.02.index\n",
      "INFO:tensorflow:3800\n",
      "INFO:tensorflow:model3-adam-mse-lr0.02.data-00000-of-00001\n",
      "INFO:tensorflow:3800\n",
      "INFO:tensorflow:model3-adam-mse-lr0.02.index\n",
      "INFO:tensorflow:3800\n",
      "INFO:tensorflow:model3-adam-mse-lr0.02.data-00000-of-00001\n",
      "INFO:tensorflow:3800\n",
      "INFO:tensorflow:model3-adam-mse-lr0.02.index\n",
      "INFO:tensorflow:3800\n",
      "INFO:tensorflow:model3-adam-mse-lr0.02.data-00000-of-00001\n",
      "INFO:tensorflow:3800\n",
      "INFO:tensorflow:model3-adam-mse-lr0.02.index\n",
      "INFO:tensorflow:3800\n",
      "INFO:tensorflow:model3-adam-mse-lr0.02.data-00000-of-00001\n",
      "INFO:tensorflow:3800\n",
      "INFO:tensorflow:model3-adam-mse-lr0.02.index\n",
      "INFO:tensorflow:3800\n",
      "INFO:tensorflow:model3-adam-mse-lr0.02.data-00000-of-00001\n",
      "INFO:tensorflow:3800\n",
      "INFO:tensorflow:model3-adam-mse-lr0.02.index\n",
      "INFO:tensorflow:3800\n",
      "INFO:tensorflow:model3-adam-mse-lr0.02.data-00000-of-00001\n",
      "INFO:tensorflow:3800\n",
      "INFO:tensorflow:model3-adam-mse-lr0.02.index\n",
      "INFO:tensorflow:3800\n",
      "INFO:tensorflow:model3-adam-mse-lr0.02.data-00000-of-00001\n",
      "INFO:tensorflow:3800\n",
      "INFO:tensorflow:model3-adam-mse-lr0.02.index\n",
      "INFO:tensorflow:3800\n",
      "INFO:tensorflow:model3-adam-mse-lr0.02.data-00000-of-00001\n",
      "INFO:tensorflow:3800\n",
      "INFO:tensorflow:model3-adam-mse-lr0.02.index\n",
      "INFO:tensorflow:3800\n",
      "INFO:tensorflow:model3-adam-mse-lr0.02.data-00000-of-00001\n",
      "INFO:tensorflow:3800\n",
      "INFO:tensorflow:model3-adam-mse-lr0.02.index\n",
      "INFO:tensorflow:3800\n",
      "INFO:tensorflow:model3-adam-mse-lr0.02.data-00000-of-00001\n",
      "INFO:tensorflow:3800\n",
      "INFO:tensorflow:model3-adam-mse-lr0.02.index\n",
      "INFO:tensorflow:3800\n",
      "INFO:tensorflow:model3-adam-mse-lr0.02.data-00000-of-00001\n",
      "INFO:tensorflow:3800\n",
      "INFO:tensorflow:model3-adam-mse-lr0.02.index\n",
      "INFO:tensorflow:3800\n",
      "INFO:tensorflow:model3-adam-mse-lr0.02.data-00000-of-00001\n",
      "INFO:tensorflow:3800\n",
      "INFO:tensorflow:model3-adam-mse-lr0.02.index\n",
      "INFO:tensorflow:3800\n",
      "INFO:tensorflow:model3-adam-mse-lr0.02.data-00000-of-00001\n",
      "INFO:tensorflow:3800\n",
      "INFO:tensorflow:model3-adam-mse-lr0.02.index\n",
      "INFO:tensorflow:3800\n",
      "INFO:tensorflow:model3-adam-mse-lr0.02.data-00000-of-00001\n",
      "INFO:tensorflow:3800\n",
      "INFO:tensorflow:model3-adam-mse-lr0.02.index\n",
      "INFO:tensorflow:3800\n",
      "INFO:tensorflow:model3-adam-mse-lr0.02.data-00000-of-00001\n",
      "INFO:tensorflow:3800\n",
      "INFO:tensorflow:model3-adam-mse-lr0.02.index\n",
      "INFO:tensorflow:3800\n",
      "INFO:tensorflow:model3-adam-mse-lr0.02.data-00000-of-00001\n",
      "INFO:tensorflow:3800\n",
      "INFO:tensorflow:model3-adam-mse-lr0.02.index\n",
      "INFO:tensorflow:3800\n",
      "INFO:tensorflow:model3-adam-mse-lr0.02.data-00000-of-00001\n",
      "INFO:tensorflow:3800\n",
      "INFO:tensorflow:model3-adam-mse-lr0.02.index\n",
      "INFO:tensorflow:3800\n",
      "INFO:tensorflow:model3-adam-mse-lr0.02.data-00000-of-00001\n",
      "INFO:tensorflow:3800\n",
      "INFO:tensorflow:model3-adam-mse-lr0.02.index\n",
      "INFO:tensorflow:3800\n",
      "INFO:tensorflow:model3-adam-mse-lr0.02.data-00000-of-00001\n",
      "INFO:tensorflow:3800\n",
      "INFO:tensorflow:model3-adam-mse-lr0.02.index\n",
      "INFO:tensorflow:3800\n",
      "INFO:tensorflow:model3-adam-mse-lr0.02.data-00000-of-00001\n",
      "INFO:tensorflow:3800\n",
      "INFO:tensorflow:model3-adam-mse-lr0.02.index\n",
      "INFO:tensorflow:3800\n",
      "INFO:tensorflow:model3-adam-mse-lr0.02.data-00000-of-00001\n",
      "INFO:tensorflow:3800\n",
      "INFO:tensorflow:model3-adam-mse-lr0.02.index\n",
      "INFO:tensorflow:3800\n",
      "INFO:tensorflow:model3-adam-mse-lr0.02.data-00000-of-00001\n",
      "INFO:tensorflow:3800\n",
      "INFO:tensorflow:model3-adam-mse-lr0.02.index\n",
      "INFO:tensorflow:3800\n",
      "INFO:tensorflow:model3-adam-mse-lr0.02.data-00000-of-00001\n",
      "INFO:tensorflow:3800\n",
      "INFO:tensorflow:model3-adam-mse-lr0.02.index\n",
      "INFO:tensorflow:3800\n",
      "INFO:tensorflow:model3-adam-mse-lr0.02.data-00000-of-00001\n",
      "INFO:tensorflow:3800\n",
      "INFO:tensorflow:model3-adam-mse-lr0.02.index\n",
      "INFO:tensorflow:3800\n",
      "INFO:tensorflow:model3-adam-mse-lr0.02.data-00000-of-00001\n",
      "INFO:tensorflow:3800\n",
      "INFO:tensorflow:model3-adam-mse-lr0.02.index\n",
      "INFO:tensorflow:3800\n",
      "INFO:tensorflow:model3-adam-mse-lr0.02.data-00000-of-00001\n",
      "INFO:tensorflow:3800\n",
      "INFO:tensorflow:model3-adam-mse-lr0.02.index\n",
      "INFO:tensorflow:3800\n",
      "INFO:tensorflow:model3-adam-mse-lr0.02.data-00000-of-00001\n",
      "INFO:tensorflow:3800\n",
      "INFO:tensorflow:model3-adam-mse-lr0.02.index\n",
      "INFO:tensorflow:3800\n",
      "INFO:tensorflow:model3-adam-mse-lr0.02.data-00000-of-00001\n",
      "INFO:tensorflow:3800\n",
      "INFO:tensorflow:model3-adam-mse-lr0.02.index\n",
      "INFO:tensorflow:3800\n",
      "INFO:tensorflow:model3-adam-mse-lr0.02.data-00000-of-00001\n",
      "INFO:tensorflow:3800\n",
      "INFO:tensorflow:model3-adam-mse-lr0.02.index\n",
      "INFO:tensorflow:3800\n",
      "INFO:tensorflow:model3-adam-mse-lr0.02.data-00000-of-00001\n",
      "INFO:tensorflow:3800\n",
      "INFO:tensorflow:model3-adam-mse-lr0.02.index\n",
      "INFO:tensorflow:3800\n",
      "INFO:tensorflow:model3-adam-mse-lr0.02.data-00000-of-00001\n",
      "INFO:tensorflow:3800\n",
      "INFO:tensorflow:model3-adam-mse-lr0.02.index\n",
      "INFO:tensorflow:3800\n",
      "INFO:tensorflow:model3-adam-mse-lr0.02.data-00000-of-00001\n",
      "INFO:tensorflow:3800\n",
      "INFO:tensorflow:model3-adam-mse-lr0.02.index\n",
      "INFO:tensorflow:3800\n",
      "INFO:tensorflow:model3-adam-mse-lr0.02.data-00000-of-00001\n",
      "INFO:tensorflow:3800\n",
      "INFO:tensorflow:model3-adam-mse-lr0.02.index\n",
      "INFO:tensorflow:3800\n",
      "INFO:tensorflow:model3-adam-mse-lr0.02.data-00000-of-00001\n",
      "INFO:tensorflow:3800\n",
      "INFO:tensorflow:model3-adam-mse-lr0.02.index\n",
      "INFO:tensorflow:3800\n",
      "INFO:tensorflow:model3-adam-mse-lr0.02.data-00000-of-00001\n",
      "INFO:tensorflow:3800\n",
      "INFO:tensorflow:model3-adam-mse-lr0.02.index\n",
      "INFO:tensorflow:3800\n",
      "INFO:tensorflow:model3-adam-mse-lr0.02.data-00000-of-00001\n",
      "INFO:tensorflow:3800\n",
      "INFO:tensorflow:model3-adam-mse-lr0.02.index\n",
      "INFO:tensorflow:3800\n",
      "INFO:tensorflow:model3-adam-mse-lr0.02.data-00000-of-00001\n",
      "INFO:tensorflow:3800\n",
      "INFO:tensorflow:model3-adam-mse-lr0.02.index\n",
      "INFO:tensorflow:3800\n",
      "Training model. Current learning rate: 0.03\n"
     ]
    },
    {
     "data": {
      "application/vnd.jupyter.widget-view+json": {
       "model_id": "0a657b39bfe3412a9110609c68672ea7",
       "version_major": 2,
       "version_minor": 0
      },
      "text/plain": [
       "Epoch progress:   0%|          | 0/50 [00:00<?, ?it/s]"
      ]
     },
     "metadata": {},
     "output_type": "display_data"
    },
    {
     "name": "stdout",
     "output_type": "stream",
     "text": [
      "INFO:tensorflow:model3-adam-mse-lr0.03.data-00000-of-00001\n",
      "INFO:tensorflow:3800\n",
      "INFO:tensorflow:model3-adam-mse-lr0.03.index\n",
      "INFO:tensorflow:3800\n",
      "INFO:tensorflow:model3-adam-mse-lr0.03.data-00000-of-00001\n",
      "INFO:tensorflow:3800\n",
      "INFO:tensorflow:model3-adam-mse-lr0.03.index\n",
      "INFO:tensorflow:3800\n",
      "INFO:tensorflow:model3-adam-mse-lr0.03.data-00000-of-00001\n",
      "INFO:tensorflow:3800\n",
      "INFO:tensorflow:model3-adam-mse-lr0.03.index\n",
      "INFO:tensorflow:3800\n",
      "INFO:tensorflow:model3-adam-mse-lr0.03.data-00000-of-00001\n",
      "INFO:tensorflow:3800\n",
      "INFO:tensorflow:model3-adam-mse-lr0.03.index\n",
      "INFO:tensorflow:3800\n",
      "INFO:tensorflow:model3-adam-mse-lr0.03.data-00000-of-00001\n",
      "INFO:tensorflow:3800\n",
      "INFO:tensorflow:model3-adam-mse-lr0.03.index\n",
      "INFO:tensorflow:3800\n",
      "INFO:tensorflow:model3-adam-mse-lr0.03.data-00000-of-00001\n",
      "INFO:tensorflow:3800\n",
      "INFO:tensorflow:model3-adam-mse-lr0.03.index\n",
      "INFO:tensorflow:3800\n",
      "INFO:tensorflow:model3-adam-mse-lr0.03.data-00000-of-00001\n",
      "INFO:tensorflow:3800\n",
      "INFO:tensorflow:model3-adam-mse-lr0.03.index\n",
      "INFO:tensorflow:3800\n",
      "INFO:tensorflow:model3-adam-mse-lr0.03.data-00000-of-00001\n",
      "INFO:tensorflow:3800\n",
      "INFO:tensorflow:model3-adam-mse-lr0.03.index\n",
      "INFO:tensorflow:3800\n",
      "INFO:tensorflow:model3-adam-mse-lr0.03.data-00000-of-00001\n",
      "INFO:tensorflow:3800\n",
      "INFO:tensorflow:model3-adam-mse-lr0.03.index\n",
      "INFO:tensorflow:3800\n",
      "INFO:tensorflow:model3-adam-mse-lr0.03.data-00000-of-00001\n",
      "INFO:tensorflow:3800\n",
      "INFO:tensorflow:model3-adam-mse-lr0.03.index\n",
      "INFO:tensorflow:3800\n",
      "INFO:tensorflow:model3-adam-mse-lr0.03.data-00000-of-00001\n",
      "INFO:tensorflow:3800\n",
      "INFO:tensorflow:model3-adam-mse-lr0.03.index\n",
      "INFO:tensorflow:3800\n",
      "INFO:tensorflow:model3-adam-mse-lr0.03.data-00000-of-00001\n",
      "INFO:tensorflow:3800\n",
      "INFO:tensorflow:model3-adam-mse-lr0.03.index\n",
      "INFO:tensorflow:3800\n",
      "INFO:tensorflow:model3-adam-mse-lr0.03.data-00000-of-00001\n",
      "INFO:tensorflow:3800\n",
      "INFO:tensorflow:model3-adam-mse-lr0.03.index\n",
      "INFO:tensorflow:3800\n",
      "INFO:tensorflow:model3-adam-mse-lr0.03.data-00000-of-00001\n",
      "INFO:tensorflow:3800\n",
      "INFO:tensorflow:model3-adam-mse-lr0.03.index\n",
      "INFO:tensorflow:3800\n",
      "INFO:tensorflow:model3-adam-mse-lr0.03.data-00000-of-00001\n",
      "INFO:tensorflow:3800\n",
      "INFO:tensorflow:model3-adam-mse-lr0.03.index\n",
      "INFO:tensorflow:3800\n",
      "INFO:tensorflow:model3-adam-mse-lr0.03.data-00000-of-00001\n",
      "INFO:tensorflow:3800\n",
      "INFO:tensorflow:model3-adam-mse-lr0.03.index\n",
      "INFO:tensorflow:3800\n",
      "INFO:tensorflow:model3-adam-mse-lr0.03.data-00000-of-00001\n",
      "INFO:tensorflow:3800\n",
      "INFO:tensorflow:model3-adam-mse-lr0.03.index\n",
      "INFO:tensorflow:3800\n",
      "INFO:tensorflow:model3-adam-mse-lr0.03.data-00000-of-00001\n",
      "INFO:tensorflow:3800\n",
      "INFO:tensorflow:model3-adam-mse-lr0.03.index\n",
      "INFO:tensorflow:3800\n",
      "INFO:tensorflow:model3-adam-mse-lr0.03.data-00000-of-00001\n",
      "INFO:tensorflow:3800\n",
      "INFO:tensorflow:model3-adam-mse-lr0.03.index\n",
      "INFO:tensorflow:3800\n",
      "INFO:tensorflow:model3-adam-mse-lr0.03.data-00000-of-00001\n",
      "INFO:tensorflow:3800\n",
      "INFO:tensorflow:model3-adam-mse-lr0.03.index\n",
      "INFO:tensorflow:3800\n",
      "INFO:tensorflow:model3-adam-mse-lr0.03.data-00000-of-00001\n",
      "INFO:tensorflow:3800\n",
      "INFO:tensorflow:model3-adam-mse-lr0.03.index\n",
      "INFO:tensorflow:3800\n",
      "INFO:tensorflow:model3-adam-mse-lr0.03.data-00000-of-00001\n",
      "INFO:tensorflow:3800\n",
      "INFO:tensorflow:model3-adam-mse-lr0.03.index\n",
      "INFO:tensorflow:3800\n",
      "INFO:tensorflow:model3-adam-mse-lr0.03.data-00000-of-00001\n",
      "INFO:tensorflow:3800\n",
      "INFO:tensorflow:model3-adam-mse-lr0.03.index\n",
      "INFO:tensorflow:3800\n",
      "INFO:tensorflow:model3-adam-mse-lr0.03.data-00000-of-00001\n",
      "INFO:tensorflow:3800\n",
      "INFO:tensorflow:model3-adam-mse-lr0.03.index\n",
      "INFO:tensorflow:3800\n",
      "INFO:tensorflow:model3-adam-mse-lr0.03.data-00000-of-00001\n",
      "INFO:tensorflow:3800\n",
      "INFO:tensorflow:model3-adam-mse-lr0.03.index\n",
      "INFO:tensorflow:3800\n",
      "INFO:tensorflow:model3-adam-mse-lr0.03.data-00000-of-00001\n",
      "INFO:tensorflow:3800\n",
      "INFO:tensorflow:model3-adam-mse-lr0.03.index\n",
      "INFO:tensorflow:3800\n",
      "INFO:tensorflow:model3-adam-mse-lr0.03.data-00000-of-00001\n",
      "INFO:tensorflow:3800\n",
      "INFO:tensorflow:model3-adam-mse-lr0.03.index\n",
      "INFO:tensorflow:3800\n",
      "INFO:tensorflow:model3-adam-mse-lr0.03.data-00000-of-00001\n",
      "INFO:tensorflow:3800\n",
      "INFO:tensorflow:model3-adam-mse-lr0.03.index\n",
      "INFO:tensorflow:3800\n",
      "INFO:tensorflow:model3-adam-mse-lr0.03.data-00000-of-00001\n",
      "INFO:tensorflow:3800\n",
      "INFO:tensorflow:model3-adam-mse-lr0.03.index\n",
      "INFO:tensorflow:3800\n",
      "INFO:tensorflow:model3-adam-mse-lr0.03.data-00000-of-00001\n",
      "INFO:tensorflow:3800\n",
      "INFO:tensorflow:model3-adam-mse-lr0.03.index\n",
      "INFO:tensorflow:3800\n",
      "INFO:tensorflow:model3-adam-mse-lr0.03.data-00000-of-00001\n",
      "INFO:tensorflow:3800\n",
      "INFO:tensorflow:model3-adam-mse-lr0.03.index\n",
      "INFO:tensorflow:3800\n",
      "INFO:tensorflow:model3-adam-mse-lr0.03.data-00000-of-00001\n",
      "INFO:tensorflow:3800\n",
      "INFO:tensorflow:model3-adam-mse-lr0.03.index\n",
      "INFO:tensorflow:3800\n",
      "INFO:tensorflow:model3-adam-mse-lr0.03.data-00000-of-00001\n",
      "INFO:tensorflow:3800\n",
      "INFO:tensorflow:model3-adam-mse-lr0.03.index\n",
      "INFO:tensorflow:3800\n",
      "INFO:tensorflow:model3-adam-mse-lr0.03.data-00000-of-00001\n",
      "INFO:tensorflow:3800\n",
      "INFO:tensorflow:model3-adam-mse-lr0.03.index\n",
      "INFO:tensorflow:3800\n",
      "INFO:tensorflow:model3-adam-mse-lr0.03.data-00000-of-00001\n",
      "INFO:tensorflow:3800\n",
      "INFO:tensorflow:model3-adam-mse-lr0.03.index\n",
      "INFO:tensorflow:3800\n",
      "INFO:tensorflow:model3-adam-mse-lr0.03.data-00000-of-00001\n",
      "INFO:tensorflow:3800\n",
      "INFO:tensorflow:model3-adam-mse-lr0.03.index\n",
      "INFO:tensorflow:3800\n",
      "INFO:tensorflow:model3-adam-mse-lr0.03.data-00000-of-00001\n",
      "INFO:tensorflow:3800\n",
      "INFO:tensorflow:model3-adam-mse-lr0.03.index\n",
      "INFO:tensorflow:3800\n",
      "INFO:tensorflow:model3-adam-mse-lr0.03.data-00000-of-00001\n",
      "INFO:tensorflow:3800\n",
      "INFO:tensorflow:model3-adam-mse-lr0.03.index\n",
      "INFO:tensorflow:3800\n",
      "INFO:tensorflow:model3-adam-mse-lr0.03.data-00000-of-00001\n",
      "INFO:tensorflow:3800\n",
      "INFO:tensorflow:model3-adam-mse-lr0.03.index\n",
      "INFO:tensorflow:3800\n",
      "INFO:tensorflow:model3-adam-mse-lr0.03.data-00000-of-00001\n",
      "INFO:tensorflow:3800\n",
      "INFO:tensorflow:model3-adam-mse-lr0.03.index\n",
      "INFO:tensorflow:3800\n",
      "INFO:tensorflow:model3-adam-mse-lr0.03.data-00000-of-00001\n",
      "INFO:tensorflow:3800\n",
      "INFO:tensorflow:model3-adam-mse-lr0.03.index\n",
      "INFO:tensorflow:3800\n",
      "INFO:tensorflow:model3-adam-mse-lr0.03.data-00000-of-00001\n",
      "INFO:tensorflow:3800\n",
      "INFO:tensorflow:model3-adam-mse-lr0.03.index\n",
      "INFO:tensorflow:3800\n",
      "INFO:tensorflow:model3-adam-mse-lr0.03.data-00000-of-00001\n",
      "INFO:tensorflow:3800\n",
      "INFO:tensorflow:model3-adam-mse-lr0.03.index\n",
      "INFO:tensorflow:3800\n",
      "INFO:tensorflow:model3-adam-mse-lr0.03.data-00000-of-00001\n",
      "INFO:tensorflow:3800\n",
      "INFO:tensorflow:model3-adam-mse-lr0.03.index\n",
      "INFO:tensorflow:3800\n",
      "INFO:tensorflow:model3-adam-mse-lr0.03.data-00000-of-00001\n",
      "INFO:tensorflow:3800\n",
      "INFO:tensorflow:model3-adam-mse-lr0.03.index\n",
      "INFO:tensorflow:3800\n",
      "INFO:tensorflow:model3-adam-mse-lr0.03.data-00000-of-00001\n",
      "INFO:tensorflow:3800\n",
      "INFO:tensorflow:model3-adam-mse-lr0.03.index\n",
      "INFO:tensorflow:3800\n",
      "INFO:tensorflow:model3-adam-mse-lr0.03.data-00000-of-00001\n",
      "INFO:tensorflow:3800\n",
      "INFO:tensorflow:model3-adam-mse-lr0.03.index\n",
      "INFO:tensorflow:3800\n",
      "INFO:tensorflow:model3-adam-mse-lr0.03.data-00000-of-00001\n",
      "INFO:tensorflow:3800\n",
      "INFO:tensorflow:model3-adam-mse-lr0.03.index\n",
      "INFO:tensorflow:3800\n",
      "INFO:tensorflow:model3-adam-mse-lr0.03.data-00000-of-00001\n",
      "INFO:tensorflow:3800\n",
      "INFO:tensorflow:model3-adam-mse-lr0.03.index\n",
      "INFO:tensorflow:3800\n",
      "INFO:tensorflow:model3-adam-mse-lr0.03.data-00000-of-00001\n",
      "INFO:tensorflow:3800\n",
      "INFO:tensorflow:model3-adam-mse-lr0.03.index\n",
      "INFO:tensorflow:3800\n",
      "Training model. Current learning rate: 0.04\n"
     ]
    },
    {
     "data": {
      "application/vnd.jupyter.widget-view+json": {
       "model_id": "fba40eb42fa54215875de72e229466d6",
       "version_major": 2,
       "version_minor": 0
      },
      "text/plain": [
       "Epoch progress:   0%|          | 0/50 [00:00<?, ?it/s]"
      ]
     },
     "metadata": {},
     "output_type": "display_data"
    },
    {
     "name": "stdout",
     "output_type": "stream",
     "text": [
      "INFO:tensorflow:model3-adam-mse-lr0.04.data-00000-of-00001\n",
      "INFO:tensorflow:3800\n",
      "INFO:tensorflow:model3-adam-mse-lr0.04.index\n",
      "INFO:tensorflow:3800\n",
      "INFO:tensorflow:model3-adam-mse-lr0.04.data-00000-of-00001\n",
      "INFO:tensorflow:3800\n",
      "INFO:tensorflow:model3-adam-mse-lr0.04.index\n",
      "INFO:tensorflow:3800\n",
      "INFO:tensorflow:model3-adam-mse-lr0.04.data-00000-of-00001\n",
      "INFO:tensorflow:3800\n",
      "INFO:tensorflow:model3-adam-mse-lr0.04.index\n",
      "INFO:tensorflow:3800\n",
      "INFO:tensorflow:model3-adam-mse-lr0.04.data-00000-of-00001\n",
      "INFO:tensorflow:3800\n",
      "INFO:tensorflow:model3-adam-mse-lr0.04.index\n",
      "INFO:tensorflow:3800\n",
      "INFO:tensorflow:model3-adam-mse-lr0.04.data-00000-of-00001\n",
      "INFO:tensorflow:3800\n",
      "INFO:tensorflow:model3-adam-mse-lr0.04.index\n",
      "INFO:tensorflow:3800\n",
      "INFO:tensorflow:model3-adam-mse-lr0.04.data-00000-of-00001\n",
      "INFO:tensorflow:3800\n",
      "INFO:tensorflow:model3-adam-mse-lr0.04.index\n",
      "INFO:tensorflow:3800\n",
      "INFO:tensorflow:model3-adam-mse-lr0.04.data-00000-of-00001\n",
      "INFO:tensorflow:3800\n",
      "INFO:tensorflow:model3-adam-mse-lr0.04.index\n",
      "INFO:tensorflow:3800\n",
      "INFO:tensorflow:model3-adam-mse-lr0.04.data-00000-of-00001\n",
      "INFO:tensorflow:3800\n",
      "INFO:tensorflow:model3-adam-mse-lr0.04.index\n",
      "INFO:tensorflow:3800\n",
      "INFO:tensorflow:model3-adam-mse-lr0.04.data-00000-of-00001\n",
      "INFO:tensorflow:3800\n",
      "INFO:tensorflow:model3-adam-mse-lr0.04.index\n",
      "INFO:tensorflow:3800\n",
      "INFO:tensorflow:model3-adam-mse-lr0.04.data-00000-of-00001\n",
      "INFO:tensorflow:3800\n",
      "INFO:tensorflow:model3-adam-mse-lr0.04.index\n",
      "INFO:tensorflow:3800\n",
      "INFO:tensorflow:model3-adam-mse-lr0.04.data-00000-of-00001\n",
      "INFO:tensorflow:3800\n",
      "INFO:tensorflow:model3-adam-mse-lr0.04.index\n",
      "INFO:tensorflow:3800\n",
      "INFO:tensorflow:model3-adam-mse-lr0.04.data-00000-of-00001\n",
      "INFO:tensorflow:3800\n",
      "INFO:tensorflow:model3-adam-mse-lr0.04.index\n",
      "INFO:tensorflow:3800\n",
      "INFO:tensorflow:model3-adam-mse-lr0.04.data-00000-of-00001\n",
      "INFO:tensorflow:3800\n",
      "INFO:tensorflow:model3-adam-mse-lr0.04.index\n",
      "INFO:tensorflow:3800\n",
      "INFO:tensorflow:model3-adam-mse-lr0.04.data-00000-of-00001\n",
      "INFO:tensorflow:3800\n",
      "INFO:tensorflow:model3-adam-mse-lr0.04.index\n",
      "INFO:tensorflow:3800\n",
      "INFO:tensorflow:model3-adam-mse-lr0.04.data-00000-of-00001\n",
      "INFO:tensorflow:3800\n",
      "INFO:tensorflow:model3-adam-mse-lr0.04.index\n",
      "INFO:tensorflow:3800\n",
      "INFO:tensorflow:model3-adam-mse-lr0.04.data-00000-of-00001\n",
      "INFO:tensorflow:3800\n",
      "INFO:tensorflow:model3-adam-mse-lr0.04.index\n",
      "INFO:tensorflow:3800\n",
      "INFO:tensorflow:model3-adam-mse-lr0.04.data-00000-of-00001\n",
      "INFO:tensorflow:3800\n",
      "INFO:tensorflow:model3-adam-mse-lr0.04.index\n",
      "INFO:tensorflow:3800\n",
      "INFO:tensorflow:model3-adam-mse-lr0.04.data-00000-of-00001\n",
      "INFO:tensorflow:3800\n",
      "INFO:tensorflow:model3-adam-mse-lr0.04.index\n",
      "INFO:tensorflow:3800\n",
      "INFO:tensorflow:model3-adam-mse-lr0.04.data-00000-of-00001\n",
      "INFO:tensorflow:3800\n",
      "INFO:tensorflow:model3-adam-mse-lr0.04.index\n",
      "INFO:tensorflow:3800\n",
      "INFO:tensorflow:model3-adam-mse-lr0.04.data-00000-of-00001\n",
      "INFO:tensorflow:3800\n",
      "INFO:tensorflow:model3-adam-mse-lr0.04.index\n",
      "INFO:tensorflow:3800\n",
      "INFO:tensorflow:model3-adam-mse-lr0.04.data-00000-of-00001\n",
      "INFO:tensorflow:3800\n",
      "INFO:tensorflow:model3-adam-mse-lr0.04.index\n",
      "INFO:tensorflow:3800\n",
      "INFO:tensorflow:model3-adam-mse-lr0.04.data-00000-of-00001\n",
      "INFO:tensorflow:3800\n",
      "INFO:tensorflow:model3-adam-mse-lr0.04.index\n",
      "INFO:tensorflow:3800\n",
      "INFO:tensorflow:model3-adam-mse-lr0.04.data-00000-of-00001\n",
      "INFO:tensorflow:3800\n",
      "INFO:tensorflow:model3-adam-mse-lr0.04.index\n",
      "INFO:tensorflow:3800\n",
      "INFO:tensorflow:model3-adam-mse-lr0.04.data-00000-of-00001\n",
      "INFO:tensorflow:3800\n",
      "INFO:tensorflow:model3-adam-mse-lr0.04.index\n",
      "INFO:tensorflow:3800\n",
      "INFO:tensorflow:model3-adam-mse-lr0.04.data-00000-of-00001\n",
      "INFO:tensorflow:3800\n",
      "INFO:tensorflow:model3-adam-mse-lr0.04.index\n",
      "INFO:tensorflow:3800\n",
      "INFO:tensorflow:model3-adam-mse-lr0.04.data-00000-of-00001\n",
      "INFO:tensorflow:3800\n",
      "INFO:tensorflow:model3-adam-mse-lr0.04.index\n",
      "INFO:tensorflow:3800\n",
      "INFO:tensorflow:model3-adam-mse-lr0.04.data-00000-of-00001\n",
      "INFO:tensorflow:3800\n",
      "INFO:tensorflow:model3-adam-mse-lr0.04.index\n",
      "INFO:tensorflow:3800\n",
      "INFO:tensorflow:model3-adam-mse-lr0.04.data-00000-of-00001\n",
      "INFO:tensorflow:3800\n",
      "INFO:tensorflow:model3-adam-mse-lr0.04.index\n",
      "INFO:tensorflow:3800\n",
      "INFO:tensorflow:model3-adam-mse-lr0.04.data-00000-of-00001\n",
      "INFO:tensorflow:3800\n",
      "INFO:tensorflow:model3-adam-mse-lr0.04.index\n",
      "INFO:tensorflow:3800\n",
      "INFO:tensorflow:model3-adam-mse-lr0.04.data-00000-of-00001\n",
      "INFO:tensorflow:3800\n",
      "INFO:tensorflow:model3-adam-mse-lr0.04.index\n",
      "INFO:tensorflow:3800\n",
      "INFO:tensorflow:model3-adam-mse-lr0.04.data-00000-of-00001\n",
      "INFO:tensorflow:3800\n",
      "INFO:tensorflow:model3-adam-mse-lr0.04.index\n",
      "INFO:tensorflow:3800\n",
      "INFO:tensorflow:model3-adam-mse-lr0.04.data-00000-of-00001\n",
      "INFO:tensorflow:3800\n",
      "INFO:tensorflow:model3-adam-mse-lr0.04.index\n",
      "INFO:tensorflow:3800\n",
      "INFO:tensorflow:model3-adam-mse-lr0.04.data-00000-of-00001\n",
      "INFO:tensorflow:3800\n",
      "INFO:tensorflow:model3-adam-mse-lr0.04.index\n",
      "INFO:tensorflow:3800\n",
      "INFO:tensorflow:model3-adam-mse-lr0.04.data-00000-of-00001\n",
      "INFO:tensorflow:3800\n",
      "INFO:tensorflow:model3-adam-mse-lr0.04.index\n",
      "INFO:tensorflow:3800\n",
      "INFO:tensorflow:model3-adam-mse-lr0.04.data-00000-of-00001\n",
      "INFO:tensorflow:3800\n",
      "INFO:tensorflow:model3-adam-mse-lr0.04.index\n",
      "INFO:tensorflow:3800\n",
      "INFO:tensorflow:model3-adam-mse-lr0.04.data-00000-of-00001\n",
      "INFO:tensorflow:3800\n",
      "INFO:tensorflow:model3-adam-mse-lr0.04.index\n",
      "INFO:tensorflow:3800\n",
      "INFO:tensorflow:model3-adam-mse-lr0.04.data-00000-of-00001\n",
      "INFO:tensorflow:3800\n",
      "INFO:tensorflow:model3-adam-mse-lr0.04.index\n",
      "INFO:tensorflow:3800\n",
      "INFO:tensorflow:model3-adam-mse-lr0.04.data-00000-of-00001\n",
      "INFO:tensorflow:3800\n",
      "INFO:tensorflow:model3-adam-mse-lr0.04.index\n",
      "INFO:tensorflow:3800\n",
      "INFO:tensorflow:model3-adam-mse-lr0.04.data-00000-of-00001\n",
      "INFO:tensorflow:3800\n",
      "INFO:tensorflow:model3-adam-mse-lr0.04.index\n",
      "INFO:tensorflow:3800\n",
      "INFO:tensorflow:model3-adam-mse-lr0.04.data-00000-of-00001\n",
      "INFO:tensorflow:3800\n",
      "INFO:tensorflow:model3-adam-mse-lr0.04.index\n",
      "INFO:tensorflow:3800\n",
      "INFO:tensorflow:model3-adam-mse-lr0.04.data-00000-of-00001\n",
      "INFO:tensorflow:3800\n",
      "INFO:tensorflow:model3-adam-mse-lr0.04.index\n",
      "INFO:tensorflow:3800\n",
      "INFO:tensorflow:model3-adam-mse-lr0.04.data-00000-of-00001\n",
      "INFO:tensorflow:3800\n",
      "INFO:tensorflow:model3-adam-mse-lr0.04.index\n",
      "INFO:tensorflow:3800\n",
      "INFO:tensorflow:model3-adam-mse-lr0.04.data-00000-of-00001\n",
      "INFO:tensorflow:3800\n",
      "INFO:tensorflow:model3-adam-mse-lr0.04.index\n",
      "INFO:tensorflow:3800\n",
      "INFO:tensorflow:model3-adam-mse-lr0.04.data-00000-of-00001\n",
      "INFO:tensorflow:3800\n",
      "INFO:tensorflow:model3-adam-mse-lr0.04.index\n",
      "INFO:tensorflow:3800\n",
      "INFO:tensorflow:model3-adam-mse-lr0.04.data-00000-of-00001\n",
      "INFO:tensorflow:3800\n",
      "INFO:tensorflow:model3-adam-mse-lr0.04.index\n",
      "INFO:tensorflow:3800\n",
      "INFO:tensorflow:model3-adam-mse-lr0.04.data-00000-of-00001\n",
      "INFO:tensorflow:3800\n",
      "INFO:tensorflow:model3-adam-mse-lr0.04.index\n",
      "INFO:tensorflow:3800\n",
      "INFO:tensorflow:model3-adam-mse-lr0.04.data-00000-of-00001\n",
      "INFO:tensorflow:3800\n",
      "INFO:tensorflow:model3-adam-mse-lr0.04.index\n",
      "INFO:tensorflow:3800\n",
      "INFO:tensorflow:model3-adam-mse-lr0.04.data-00000-of-00001\n",
      "INFO:tensorflow:3800\n",
      "INFO:tensorflow:model3-adam-mse-lr0.04.index\n",
      "INFO:tensorflow:3800\n",
      "INFO:tensorflow:model3-adam-mse-lr0.04.data-00000-of-00001\n",
      "INFO:tensorflow:3800\n",
      "INFO:tensorflow:model3-adam-mse-lr0.04.index\n",
      "INFO:tensorflow:3800\n",
      "INFO:tensorflow:model3-adam-mse-lr0.04.data-00000-of-00001\n",
      "INFO:tensorflow:3800\n",
      "INFO:tensorflow:model3-adam-mse-lr0.04.index\n",
      "INFO:tensorflow:3800\n",
      "Training model. Current learning rate: 0.05\n"
     ]
    },
    {
     "data": {
      "application/vnd.jupyter.widget-view+json": {
       "model_id": "18a51aea81644235bf891e98d3db6913",
       "version_major": 2,
       "version_minor": 0
      },
      "text/plain": [
       "Epoch progress:   0%|          | 0/50 [00:00<?, ?it/s]"
      ]
     },
     "metadata": {},
     "output_type": "display_data"
    },
    {
     "name": "stdout",
     "output_type": "stream",
     "text": [
      "INFO:tensorflow:model3-adam-mse-lr0.05.data-00000-of-00001\n",
      "INFO:tensorflow:3800\n",
      "INFO:tensorflow:model3-adam-mse-lr0.05.index\n",
      "INFO:tensorflow:3800\n",
      "INFO:tensorflow:model3-adam-mse-lr0.05.data-00000-of-00001\n",
      "INFO:tensorflow:3800\n",
      "INFO:tensorflow:model3-adam-mse-lr0.05.index\n",
      "INFO:tensorflow:3800\n",
      "INFO:tensorflow:model3-adam-mse-lr0.05.data-00000-of-00001\n",
      "INFO:tensorflow:3800\n",
      "INFO:tensorflow:model3-adam-mse-lr0.05.index\n",
      "INFO:tensorflow:3800\n",
      "INFO:tensorflow:model3-adam-mse-lr0.05.data-00000-of-00001\n",
      "INFO:tensorflow:3800\n",
      "INFO:tensorflow:model3-adam-mse-lr0.05.index\n",
      "INFO:tensorflow:3800\n",
      "INFO:tensorflow:model3-adam-mse-lr0.05.data-00000-of-00001\n",
      "INFO:tensorflow:3800\n",
      "INFO:tensorflow:model3-adam-mse-lr0.05.index\n",
      "INFO:tensorflow:3800\n",
      "INFO:tensorflow:model3-adam-mse-lr0.05.data-00000-of-00001\n",
      "INFO:tensorflow:3800\n",
      "INFO:tensorflow:model3-adam-mse-lr0.05.index\n",
      "INFO:tensorflow:3800\n",
      "INFO:tensorflow:model3-adam-mse-lr0.05.data-00000-of-00001\n",
      "INFO:tensorflow:3800\n",
      "INFO:tensorflow:model3-adam-mse-lr0.05.index\n",
      "INFO:tensorflow:3800\n",
      "INFO:tensorflow:model3-adam-mse-lr0.05.data-00000-of-00001\n",
      "INFO:tensorflow:3800\n",
      "INFO:tensorflow:model3-adam-mse-lr0.05.index\n",
      "INFO:tensorflow:3800\n",
      "INFO:tensorflow:model3-adam-mse-lr0.05.data-00000-of-00001\n",
      "INFO:tensorflow:3800\n",
      "INFO:tensorflow:model3-adam-mse-lr0.05.index\n",
      "INFO:tensorflow:3800\n",
      "INFO:tensorflow:model3-adam-mse-lr0.05.data-00000-of-00001\n",
      "INFO:tensorflow:3800\n",
      "INFO:tensorflow:model3-adam-mse-lr0.05.index\n",
      "INFO:tensorflow:3800\n",
      "INFO:tensorflow:model3-adam-mse-lr0.05.data-00000-of-00001\n",
      "INFO:tensorflow:3800\n",
      "INFO:tensorflow:model3-adam-mse-lr0.05.index\n",
      "INFO:tensorflow:3800\n",
      "INFO:tensorflow:model3-adam-mse-lr0.05.data-00000-of-00001\n",
      "INFO:tensorflow:3800\n",
      "INFO:tensorflow:model3-adam-mse-lr0.05.index\n",
      "INFO:tensorflow:3800\n",
      "INFO:tensorflow:model3-adam-mse-lr0.05.data-00000-of-00001\n",
      "INFO:tensorflow:3800\n",
      "INFO:tensorflow:model3-adam-mse-lr0.05.index\n",
      "INFO:tensorflow:3800\n",
      "INFO:tensorflow:model3-adam-mse-lr0.05.data-00000-of-00001\n",
      "INFO:tensorflow:3800\n",
      "INFO:tensorflow:model3-adam-mse-lr0.05.index\n",
      "INFO:tensorflow:3800\n",
      "INFO:tensorflow:model3-adam-mse-lr0.05.data-00000-of-00001\n",
      "INFO:tensorflow:3800\n",
      "INFO:tensorflow:model3-adam-mse-lr0.05.index\n",
      "INFO:tensorflow:3800\n",
      "INFO:tensorflow:model3-adam-mse-lr0.05.data-00000-of-00001\n",
      "INFO:tensorflow:3800\n",
      "INFO:tensorflow:model3-adam-mse-lr0.05.index\n",
      "INFO:tensorflow:3800\n",
      "INFO:tensorflow:model3-adam-mse-lr0.05.data-00000-of-00001\n",
      "INFO:tensorflow:3800\n",
      "INFO:tensorflow:model3-adam-mse-lr0.05.index\n",
      "INFO:tensorflow:3800\n",
      "INFO:tensorflow:model3-adam-mse-lr0.05.data-00000-of-00001\n",
      "INFO:tensorflow:3800\n",
      "INFO:tensorflow:model3-adam-mse-lr0.05.index\n",
      "INFO:tensorflow:3800\n",
      "INFO:tensorflow:model3-adam-mse-lr0.05.data-00000-of-00001\n",
      "INFO:tensorflow:3800\n",
      "INFO:tensorflow:model3-adam-mse-lr0.05.index\n",
      "INFO:tensorflow:3800\n",
      "INFO:tensorflow:model3-adam-mse-lr0.05.data-00000-of-00001\n",
      "INFO:tensorflow:3800\n",
      "INFO:tensorflow:model3-adam-mse-lr0.05.index\n",
      "INFO:tensorflow:3800\n",
      "INFO:tensorflow:model3-adam-mse-lr0.05.data-00000-of-00001\n",
      "INFO:tensorflow:3800\n",
      "INFO:tensorflow:model3-adam-mse-lr0.05.index\n",
      "INFO:tensorflow:3800\n",
      "INFO:tensorflow:model3-adam-mse-lr0.05.data-00000-of-00001\n",
      "INFO:tensorflow:3800\n",
      "INFO:tensorflow:model3-adam-mse-lr0.05.index\n",
      "INFO:tensorflow:3800\n",
      "INFO:tensorflow:model3-adam-mse-lr0.05.data-00000-of-00001\n",
      "INFO:tensorflow:3800\n",
      "INFO:tensorflow:model3-adam-mse-lr0.05.index\n",
      "INFO:tensorflow:3800\n",
      "INFO:tensorflow:model3-adam-mse-lr0.05.data-00000-of-00001\n",
      "INFO:tensorflow:3800\n",
      "INFO:tensorflow:model3-adam-mse-lr0.05.index\n",
      "INFO:tensorflow:3800\n",
      "INFO:tensorflow:model3-adam-mse-lr0.05.data-00000-of-00001\n",
      "INFO:tensorflow:3800\n",
      "INFO:tensorflow:model3-adam-mse-lr0.05.index\n",
      "INFO:tensorflow:3800\n",
      "INFO:tensorflow:model3-adam-mse-lr0.05.data-00000-of-00001\n",
      "INFO:tensorflow:3800\n",
      "INFO:tensorflow:model3-adam-mse-lr0.05.index\n",
      "INFO:tensorflow:3800\n",
      "INFO:tensorflow:model3-adam-mse-lr0.05.data-00000-of-00001\n",
      "INFO:tensorflow:3800\n",
      "INFO:tensorflow:model3-adam-mse-lr0.05.index\n",
      "INFO:tensorflow:3800\n",
      "INFO:tensorflow:model3-adam-mse-lr0.05.data-00000-of-00001\n",
      "INFO:tensorflow:3800\n",
      "INFO:tensorflow:model3-adam-mse-lr0.05.index\n",
      "INFO:tensorflow:3800\n",
      "INFO:tensorflow:model3-adam-mse-lr0.05.data-00000-of-00001\n",
      "INFO:tensorflow:3800\n",
      "INFO:tensorflow:model3-adam-mse-lr0.05.index\n",
      "INFO:tensorflow:3800\n",
      "INFO:tensorflow:model3-adam-mse-lr0.05.data-00000-of-00001\n",
      "INFO:tensorflow:3800\n",
      "INFO:tensorflow:model3-adam-mse-lr0.05.index\n",
      "INFO:tensorflow:3800\n",
      "INFO:tensorflow:model3-adam-mse-lr0.05.data-00000-of-00001\n",
      "INFO:tensorflow:3800\n",
      "INFO:tensorflow:model3-adam-mse-lr0.05.index\n",
      "INFO:tensorflow:3800\n",
      "INFO:tensorflow:model3-adam-mse-lr0.05.data-00000-of-00001\n",
      "INFO:tensorflow:3800\n",
      "INFO:tensorflow:model3-adam-mse-lr0.05.index\n",
      "INFO:tensorflow:3800\n",
      "INFO:tensorflow:model3-adam-mse-lr0.05.data-00000-of-00001\n",
      "INFO:tensorflow:3800\n",
      "INFO:tensorflow:model3-adam-mse-lr0.05.index\n",
      "INFO:tensorflow:3800\n",
      "INFO:tensorflow:model3-adam-mse-lr0.05.data-00000-of-00001\n",
      "INFO:tensorflow:3800\n",
      "INFO:tensorflow:model3-adam-mse-lr0.05.index\n",
      "INFO:tensorflow:3800\n",
      "INFO:tensorflow:model3-adam-mse-lr0.05.data-00000-of-00001\n",
      "INFO:tensorflow:3800\n",
      "INFO:tensorflow:model3-adam-mse-lr0.05.index\n",
      "INFO:tensorflow:3800\n",
      "INFO:tensorflow:model3-adam-mse-lr0.05.data-00000-of-00001\n",
      "INFO:tensorflow:3800\n",
      "INFO:tensorflow:model3-adam-mse-lr0.05.index\n",
      "INFO:tensorflow:3800\n",
      "INFO:tensorflow:model3-adam-mse-lr0.05.data-00000-of-00001\n",
      "INFO:tensorflow:3800\n",
      "INFO:tensorflow:model3-adam-mse-lr0.05.index\n",
      "INFO:tensorflow:3800\n",
      "INFO:tensorflow:model3-adam-mse-lr0.05.data-00000-of-00001\n",
      "INFO:tensorflow:3800\n",
      "INFO:tensorflow:model3-adam-mse-lr0.05.index\n",
      "INFO:tensorflow:3800\n",
      "INFO:tensorflow:model3-adam-mse-lr0.05.data-00000-of-00001\n",
      "INFO:tensorflow:3800\n",
      "INFO:tensorflow:model3-adam-mse-lr0.05.index\n",
      "INFO:tensorflow:3800\n",
      "INFO:tensorflow:model3-adam-mse-lr0.05.data-00000-of-00001\n",
      "INFO:tensorflow:3800\n",
      "INFO:tensorflow:model3-adam-mse-lr0.05.index\n",
      "INFO:tensorflow:3800\n",
      "INFO:tensorflow:model3-adam-mse-lr0.05.data-00000-of-00001\n",
      "INFO:tensorflow:3800\n",
      "INFO:tensorflow:model3-adam-mse-lr0.05.index\n",
      "INFO:tensorflow:3800\n",
      "INFO:tensorflow:model3-adam-mse-lr0.05.data-00000-of-00001\n",
      "INFO:tensorflow:3800\n",
      "INFO:tensorflow:model3-adam-mse-lr0.05.index\n",
      "INFO:tensorflow:3800\n",
      "INFO:tensorflow:model3-adam-mse-lr0.05.data-00000-of-00001\n",
      "INFO:tensorflow:3800\n",
      "INFO:tensorflow:model3-adam-mse-lr0.05.index\n",
      "INFO:tensorflow:3800\n",
      "INFO:tensorflow:model3-adam-mse-lr0.05.data-00000-of-00001\n",
      "INFO:tensorflow:3800\n",
      "INFO:tensorflow:model3-adam-mse-lr0.05.index\n",
      "INFO:tensorflow:3800\n",
      "INFO:tensorflow:model3-adam-mse-lr0.05.data-00000-of-00001\n",
      "INFO:tensorflow:3800\n",
      "INFO:tensorflow:model3-adam-mse-lr0.05.index\n",
      "INFO:tensorflow:3800\n",
      "INFO:tensorflow:model3-adam-mse-lr0.05.data-00000-of-00001\n",
      "INFO:tensorflow:3800\n",
      "INFO:tensorflow:model3-adam-mse-lr0.05.index\n",
      "INFO:tensorflow:3800\n",
      "INFO:tensorflow:model3-adam-mse-lr0.05.data-00000-of-00001\n",
      "INFO:tensorflow:3800\n",
      "INFO:tensorflow:model3-adam-mse-lr0.05.index\n",
      "INFO:tensorflow:3800\n",
      "INFO:tensorflow:model3-adam-mse-lr0.05.data-00000-of-00001\n",
      "INFO:tensorflow:3800\n",
      "INFO:tensorflow:model3-adam-mse-lr0.05.index\n",
      "INFO:tensorflow:3800\n",
      "INFO:tensorflow:model3-adam-mse-lr0.05.data-00000-of-00001\n",
      "INFO:tensorflow:3800\n",
      "INFO:tensorflow:model3-adam-mse-lr0.05.index\n",
      "INFO:tensorflow:3800\n",
      "INFO:tensorflow:model3-adam-mse-lr0.05.data-00000-of-00001\n",
      "INFO:tensorflow:3800\n",
      "INFO:tensorflow:model3-adam-mse-lr0.05.index\n",
      "INFO:tensorflow:3800\n"
     ]
    }
   ],
   "source": [
    "# training model3 with Adam optimizer & MSE cost\n",
    "j = 1\n",
    "\n",
    "acc_summary = tf.summary.scalar('Accuracy_summary_for_model3_with_Adam_optimizer_and_MSE_cost', accuracy3)\n",
    "cost = tf.reduce_mean(tf.square(model3 - Y))\n",
    "loss_summary = tf.summary.scalar('Loss_summary_for_model3_with_Adam_optimizer_and_MSE_cost', cost)\n",
    "merged = tf.summary.merge([acc_summary, loss_summary])\n",
    "\n",
    "for lr in learning_rate_list:\n",
    "    optimizer = tf.compat.v1.train.AdamOptimizer(lr).minimize(cost)    \n",
    "    init = tf.global_variables_initializer()\n",
    "    \n",
    "    print('Training model. Current learning rate: {:.2f}'.format(lr))\n",
    "    \n",
    "    outer_lvl = list(range(epoch))\n",
    "     \n",
    "    with tf.Session() as sess:\n",
    "        \n",
    "        writer1 = tf.summary.FileWriter('tblogs/model3/adam-mse/lr0.01', sess.graph)\n",
    "        writer2 = tf.summary.FileWriter('tblogs/model3/adam-mse/lr0.02', sess.graph)\n",
    "        writer3 = tf.summary.FileWriter('tblogs/model3/adam-mse/lr0.03', sess.graph)\n",
    "        writer4 = tf.summary.FileWriter('tblogs/model3/adam-mse/lr0.04', sess.graph)\n",
    "        writer5 = tf.summary.FileWriter('tblogs/model3/adam-mse/lr0.05', sess.graph)\n",
    "        \n",
    "        sess.run(init)\n",
    "        for k in tqdm(outer_lvl, desc = 'Epoch progress'):\n",
    "            avg_loss = 0.\n",
    "            start = 0; end = batch_size\n",
    "        \n",
    "            for i in range(iteration):\n",
    "                _, loss, summary = sess.run([optimizer, cost, merged], feed_dict={X: X_train[start: end], Y: y_train[start: end]})\n",
    "                start += batch_size; end += batch_size\n",
    "                avg_loss += loss / iteration\n",
    "                            \n",
    "            # save_path  = saver.save(sess, 'model3-adam-mse-lr{}'.format(lr), write_meta_graph = False, write_state = False)                            \n",
    "            cur_val_acc, summary = sess.run([accuracy3, merged], feed_dict = {X: X_valid, Y: y_valid})\n",
    "            \n",
    "            if lr == 0.01:\n",
    "                writer1.add_summary(summary, k)\n",
    "            elif lr == 0.02:\n",
    "                writer2.add_summary(summary, k)\n",
    "            elif lr == 0.03:\n",
    "                writer3.add_summary(summary, k)\n",
    "            elif lr == 0.04:\n",
    "                writer4.add_summary(summary, k)\n",
    "            else:\n",
    "                writer5.add_summary(summary, k)\n",
    "                \n",
    "        training_log31['Fit №' + str(learning_rate_list.index(lr) + 1)] = [cur_val_acc, avg_loss, lr]\n",
    "        j += 1"
   ]
  },
  {
   "cell_type": "code",
   "execution_count": 54,
   "id": "fc404599-adac-4e13-8fed-69d4346c5c89",
   "metadata": {},
   "outputs": [],
   "source": [
    "#results\n",
    "# training_log31"
   ]
  },
  {
   "cell_type": "code",
   "execution_count": 55,
   "id": "74d8873c-f94c-4062-b7da-85b50759c01e",
   "metadata": {},
   "outputs": [
    {
     "name": "stdout",
     "output_type": "stream",
     "text": [
      "INFO:tensorflow:Restoring parameters from model3-adam-mse-lr0.01\n"
     ]
    }
   ],
   "source": [
    "with tf.Session() as sess:\n",
    "    saver.restore(sess, 'model3-adam-mse-lr0.01')\n",
    "    preds = tf.nn.softmax(model3)\n",
    "    preds_val = preds.eval({X: X_valid, Y: y_valid})\n",
    "    for i in range(len(preds_val)):\n",
    "        preds_val[i] = np.where(preds_val[i] < max(preds_val[i]), 0, 1)\n",
    "    scores['model3-adam-mse'] = [f1_score(y_valid, preds_val, average = 'macro'), roc_auc_score(y_valid, preds_val, multi_class = 'ovr', average = 'macro'), accuracy3.eval({X: X_valid, Y: y_valid})]"
   ]
  },
  {
   "cell_type": "code",
   "execution_count": 56,
   "id": "d0615ec4-436f-49d7-8661-eae6a0a7d434",
   "metadata": {},
   "outputs": [
    {
     "name": "stdout",
     "output_type": "stream",
     "text": [
      "Training model. Current learning rate: 0.01\n"
     ]
    },
    {
     "data": {
      "application/vnd.jupyter.widget-view+json": {
       "model_id": "7914907348744345b4c71fbc445781bd",
       "version_major": 2,
       "version_minor": 0
      },
      "text/plain": [
       "Epoch progress:   0%|          | 0/50 [00:00<?, ?it/s]"
      ]
     },
     "metadata": {},
     "output_type": "display_data"
    },
    {
     "name": "stdout",
     "output_type": "stream",
     "text": [
      "Training model. Current learning rate: 0.02\n"
     ]
    },
    {
     "data": {
      "application/vnd.jupyter.widget-view+json": {
       "model_id": "6843f076b93a431a8bba506843ca83f7",
       "version_major": 2,
       "version_minor": 0
      },
      "text/plain": [
       "Epoch progress:   0%|          | 0/50 [00:00<?, ?it/s]"
      ]
     },
     "metadata": {},
     "output_type": "display_data"
    },
    {
     "name": "stdout",
     "output_type": "stream",
     "text": [
      "Training model. Current learning rate: 0.03\n"
     ]
    },
    {
     "data": {
      "application/vnd.jupyter.widget-view+json": {
       "model_id": "2b267a02145b468085758c0cc5fb894b",
       "version_major": 2,
       "version_minor": 0
      },
      "text/plain": [
       "Epoch progress:   0%|          | 0/50 [00:00<?, ?it/s]"
      ]
     },
     "metadata": {},
     "output_type": "display_data"
    },
    {
     "name": "stdout",
     "output_type": "stream",
     "text": [
      "Training model. Current learning rate: 0.04\n"
     ]
    },
    {
     "data": {
      "application/vnd.jupyter.widget-view+json": {
       "model_id": "ec57e82dbda04f4783c89871c5c0a981",
       "version_major": 2,
       "version_minor": 0
      },
      "text/plain": [
       "Epoch progress:   0%|          | 0/50 [00:00<?, ?it/s]"
      ]
     },
     "metadata": {},
     "output_type": "display_data"
    },
    {
     "name": "stdout",
     "output_type": "stream",
     "text": [
      "Training model. Current learning rate: 0.05\n"
     ]
    },
    {
     "data": {
      "application/vnd.jupyter.widget-view+json": {
       "model_id": "a6326fa509b84142b491d519f0d2ef9d",
       "version_major": 2,
       "version_minor": 0
      },
      "text/plain": [
       "Epoch progress:   0%|          | 0/50 [00:00<?, ?it/s]"
      ]
     },
     "metadata": {},
     "output_type": "display_data"
    }
   ],
   "source": [
    "# training model3 with gradient descent optimizer & MSE cost\n",
    "j = 1\n",
    "\n",
    "acc_summary = tf.summary.scalar('Accuracy_summary_for_model3_with_Gradient_Descent_optimizer_and_MSE_cost', accuracy3)\n",
    "cost = tf.reduce_mean(tf.square(model3 - Y))\n",
    "loss_summary = tf.summary.scalar('Loss_summary_for_model3_with_Gradient_Descent_optimizer_and_MSE_cost', cost)\n",
    "merged = tf.summary.merge([acc_summary, loss_summary])\n",
    "\n",
    "for lr in learning_rate_list:\n",
    "    optimizer = tf.compat.v1.train.GradientDescentOptimizer(lr).minimize(cost)    \n",
    "    init = tf.global_variables_initializer()\n",
    "    print('Training model. Current learning rate: {:.2f}'.format(lr))\n",
    "    \n",
    "    outer_lvl = list(range(epoch))\n",
    "    \n",
    "    with tf.Session() as sess:\n",
    "        \n",
    "        writer1 = tf.summary.FileWriter('tblogs/model3/graddesc-mse/lr0.01', sess.graph)\n",
    "        writer2 = tf.summary.FileWriter('tblogs/model3/graddesc-mse/lr0.02', sess.graph)\n",
    "        writer3 = tf.summary.FileWriter('tblogs/model3/graddesc-mse/lr0.03', sess.graph)\n",
    "        writer4 = tf.summary.FileWriter('tblogs/model3/graddesc-mse/lr0.04', sess.graph)\n",
    "        writer5 = tf.summary.FileWriter('tblogs/model3/graddesc-mse/lr0.05', sess.graph)\n",
    "        \n",
    "        sess.run(init)\n",
    "        for k in tqdm(outer_lvl, desc = 'Epoch progress'):\n",
    "            avg_loss = 0.\n",
    "            start = 0; end = batch_size\n",
    "        \n",
    "            for i in range(iteration):\n",
    "                _, loss, summary = sess.run([optimizer, cost, merged], feed_dict={X: X_train[start: end], Y: y_train[start: end]})\n",
    "                start += batch_size; end += batch_size\n",
    "                avg_loss += loss / iteration\n",
    "                            \n",
    "            # save_path  = saver.save(sess, 'model3-graddesc-mse-lr{}'.format(lr), write_meta_graph = False, write_state = False)                            \n",
    "            cur_val_acc, summary = sess.run([accuracy3, merged], feed_dict = {X: X_valid, Y: y_valid})\n",
    "            \n",
    "            if lr == 0.01:\n",
    "                writer1.add_summary(summary, k)\n",
    "            elif lr == 0.02:\n",
    "                writer2.add_summary(summary, k)\n",
    "            elif lr == 0.03:\n",
    "                writer3.add_summary(summary, k)\n",
    "            elif lr == 0.04:\n",
    "                writer4.add_summary(summary, k)\n",
    "            else:\n",
    "                writer5.add_summary(summary, k)\n",
    "                \n",
    "        training_log32['Fit №' + str(learning_rate_list.index(lr) + 1)] = [cur_val_acc, avg_loss, lr]\n",
    "        j += 1"
   ]
  },
  {
   "cell_type": "code",
   "execution_count": 57,
   "id": "549d91fd-26db-46df-a8d0-8efe0ae50bb8",
   "metadata": {},
   "outputs": [],
   "source": [
    "#results\n",
    "# training_log32"
   ]
  },
  {
   "cell_type": "code",
   "execution_count": 58,
   "id": "8c94e35d-226d-4860-b7be-8876885741c0",
   "metadata": {},
   "outputs": [
    {
     "name": "stdout",
     "output_type": "stream",
     "text": [
      "INFO:tensorflow:Restoring parameters from model3-graddesc-mse-lr0.05\n"
     ]
    }
   ],
   "source": [
    "with tf.Session() as sess:\n",
    "    saver.restore(sess, 'model3-graddesc-mse-lr0.05')\n",
    "    preds = tf.nn.softmax(model3)\n",
    "    preds_val = preds.eval({X: X_valid, Y: y_valid})\n",
    "    for i in range(len(preds_val)):\n",
    "        preds_val[i] = np.where(preds_val[i] < max(preds_val[i]), 0, 1)\n",
    "    scores['model3-graddesc-mse'] = [f1_score(y_valid, preds_val, average = 'macro'), roc_auc_score(y_valid, preds_val, multi_class = 'ovr', average = 'macro'), accuracy3.eval({X: X_valid, Y: y_valid})]"
   ]
  },
  {
   "cell_type": "code",
   "execution_count": 59,
   "id": "c4ee4749-8ee1-4a10-95b9-5c95e2388c1c",
   "metadata": {},
   "outputs": [
    {
     "name": "stdout",
     "output_type": "stream",
     "text": [
      "Training model. Current learning rate: 0.01\n"
     ]
    },
    {
     "data": {
      "application/vnd.jupyter.widget-view+json": {
       "model_id": "d038ed44fa754e419e8830e5a1ffb585",
       "version_major": 2,
       "version_minor": 0
      },
      "text/plain": [
       "Epoch progress:   0%|          | 0/50 [00:00<?, ?it/s]"
      ]
     },
     "metadata": {},
     "output_type": "display_data"
    },
    {
     "name": "stdout",
     "output_type": "stream",
     "text": [
      "Training model. Current learning rate: 0.02\n"
     ]
    },
    {
     "data": {
      "application/vnd.jupyter.widget-view+json": {
       "model_id": "9a43840900bb4a618948d9e614d884e1",
       "version_major": 2,
       "version_minor": 0
      },
      "text/plain": [
       "Epoch progress:   0%|          | 0/50 [00:00<?, ?it/s]"
      ]
     },
     "metadata": {},
     "output_type": "display_data"
    },
    {
     "name": "stdout",
     "output_type": "stream",
     "text": [
      "Training model. Current learning rate: 0.03\n"
     ]
    },
    {
     "data": {
      "application/vnd.jupyter.widget-view+json": {
       "model_id": "7c2c661282e24531a885cdd5ab9c1c88",
       "version_major": 2,
       "version_minor": 0
      },
      "text/plain": [
       "Epoch progress:   0%|          | 0/50 [00:00<?, ?it/s]"
      ]
     },
     "metadata": {},
     "output_type": "display_data"
    },
    {
     "name": "stdout",
     "output_type": "stream",
     "text": [
      "Training model. Current learning rate: 0.04\n"
     ]
    },
    {
     "data": {
      "application/vnd.jupyter.widget-view+json": {
       "model_id": "b345495acb01409b85dc8775f17541a5",
       "version_major": 2,
       "version_minor": 0
      },
      "text/plain": [
       "Epoch progress:   0%|          | 0/50 [00:00<?, ?it/s]"
      ]
     },
     "metadata": {},
     "output_type": "display_data"
    },
    {
     "name": "stdout",
     "output_type": "stream",
     "text": [
      "Training model. Current learning rate: 0.05\n"
     ]
    },
    {
     "data": {
      "application/vnd.jupyter.widget-view+json": {
       "model_id": "6c2c0f7d6ea34ae9b6fa3866d2878bcd",
       "version_major": 2,
       "version_minor": 0
      },
      "text/plain": [
       "Epoch progress:   0%|          | 0/50 [00:00<?, ?it/s]"
      ]
     },
     "metadata": {},
     "output_type": "display_data"
    }
   ],
   "source": [
    "# training model3 with gradient descent optimizer & cross entropy cost\n",
    "j = 1\n",
    "\n",
    "acc_summary = tf.summary.scalar('Accuracy_summary_for_model3_with_Gradient_Descent_optimizer_and_Cross_entropy_cost', accuracy3)\n",
    "cost = tf.reduce_mean(tf.nn.softmax_cross_entropy_with_logits_v2(logits = model3, labels = Y))\n",
    "loss_summary = tf.summary.scalar('Loss_summary_for_model3_with_Gradient_Descent_optimizer_and_Cross_entropy_cost', cost)\n",
    "merged = tf.summary.merge([acc_summary, loss_summary])\n",
    "\n",
    "for lr in learning_rate_list:\n",
    "    optimizer = tf.compat.v1.train.GradientDescentOptimizer(lr).minimize(cost)    \n",
    "    init = tf.global_variables_initializer()\n",
    "    \n",
    "    print('Training model. Current learning rate: {:.2f}'.format(lr))\n",
    "    \n",
    "    outer_lvl = list(range(epoch))\n",
    "    \n",
    "    with tf.Session() as sess:\n",
    "        \n",
    "        writer1 = tf.summary.FileWriter('tblogs/model3/graddesc-crossentr/lr0.01', sess.graph)\n",
    "        writer2 = tf.summary.FileWriter('tblogs/model3/graddesc-crossentr/lr0.02', sess.graph)\n",
    "        writer3 = tf.summary.FileWriter('tblogs/model3/graddesc-crossentr/lr0.03', sess.graph)\n",
    "        writer4 = tf.summary.FileWriter('tblogs/model3/graddesc-crossentr/lr0.04', sess.graph)\n",
    "        writer5 = tf.summary.FileWriter('tblogs/model3/graddesc-crossentr/lr0.05', sess.graph)\n",
    "        \n",
    "        sess.run(init)\n",
    "        for k in tqdm(outer_lvl, desc = 'Epoch progress'):\n",
    "            avg_loss = 0.\n",
    "            start = 0; end = batch_size\n",
    "        \n",
    "            for i in range(iteration):\n",
    "                _, loss, summary = sess.run([optimizer, cost, merged], feed_dict={X: X_train[start: end], Y: y_train[start: end]})\n",
    "                start += batch_size; end += batch_size\n",
    "                avg_loss += loss / iteration\n",
    "                \n",
    "            # save_path  = saver.save(sess, 'model3-graddesc-crossentr-lr{}'.format(lr), write_meta_graph = False, write_state = False)                            \n",
    "            cur_val_acc, summary = sess.run([accuracy3, merged], feed_dict = {X: X_valid, Y: y_valid})\n",
    "            \n",
    "            if lr == 0.01:\n",
    "                writer1.add_summary(summary, k)\n",
    "            elif lr == 0.02:\n",
    "                writer2.add_summary(summary, k)\n",
    "            elif lr == 0.03:\n",
    "                writer3.add_summary(summary, k)\n",
    "            elif lr == 0.04:\n",
    "                writer4.add_summary(summary, k)\n",
    "            else:\n",
    "                writer5.add_summary(summary, k)\n",
    "                \n",
    "        training_log33['Fit №' + str(learning_rate_list.index(lr) + 1)] = [cur_val_acc, avg_loss, lr]\n",
    "        j += 1"
   ]
  },
  {
   "cell_type": "code",
   "execution_count": 60,
   "id": "66fdb568-e4aa-4e85-82f4-fbeb854308d1",
   "metadata": {},
   "outputs": [],
   "source": [
    "#results\n",
    "# training_log33"
   ]
  },
  {
   "cell_type": "code",
   "execution_count": 61,
   "id": "3149b47a-57a3-440c-9496-fa81eed10106",
   "metadata": {},
   "outputs": [
    {
     "name": "stdout",
     "output_type": "stream",
     "text": [
      "INFO:tensorflow:Restoring parameters from model3-graddesc-crossentr-lr0.05\n"
     ]
    }
   ],
   "source": [
    "with tf.Session() as sess:\n",
    "    saver.restore(sess, 'model3-graddesc-crossentr-lr0.05')\n",
    "    preds = tf.nn.softmax(model3)\n",
    "    preds_val = preds.eval({X: X_valid, Y: y_valid})\n",
    "    for i in range(len(preds_val)):\n",
    "        preds_val[i] = np.where(preds_val[i] < max(preds_val[i]), 0, 1)\n",
    "    scores['model3-graddesc-crossentr'] = [f1_score(y_valid, preds_val, average = 'macro'), roc_auc_score(y_valid, preds_val, multi_class = 'ovr', average = 'macro'), accuracy3.eval({X: X_valid, Y: y_valid})]"
   ]
  },
  {
   "cell_type": "code",
   "execution_count": 62,
   "id": "5949e0f7-bde9-42d6-8c7c-df2fde318880",
   "metadata": {},
   "outputs": [
    {
     "name": "stdout",
     "output_type": "stream",
     "text": [
      "Training model. Current learning rate: 0.01\n"
     ]
    },
    {
     "data": {
      "application/vnd.jupyter.widget-view+json": {
       "model_id": "faa9a51d1cf3425b8ae6f68c9c8ab900",
       "version_major": 2,
       "version_minor": 0
      },
      "text/plain": [
       "Epoch progress:   0%|          | 0/50 [00:00<?, ?it/s]"
      ]
     },
     "metadata": {},
     "output_type": "display_data"
    },
    {
     "name": "stdout",
     "output_type": "stream",
     "text": [
      "Training model. Current learning rate: 0.02\n"
     ]
    },
    {
     "data": {
      "application/vnd.jupyter.widget-view+json": {
       "model_id": "ac7c211be2b34994bf46a78bf5a41a20",
       "version_major": 2,
       "version_minor": 0
      },
      "text/plain": [
       "Epoch progress:   0%|          | 0/50 [00:00<?, ?it/s]"
      ]
     },
     "metadata": {},
     "output_type": "display_data"
    },
    {
     "name": "stdout",
     "output_type": "stream",
     "text": [
      "Training model. Current learning rate: 0.03\n"
     ]
    },
    {
     "data": {
      "application/vnd.jupyter.widget-view+json": {
       "model_id": "e604298a3e074900818e0606de74345d",
       "version_major": 2,
       "version_minor": 0
      },
      "text/plain": [
       "Epoch progress:   0%|          | 0/50 [00:00<?, ?it/s]"
      ]
     },
     "metadata": {},
     "output_type": "display_data"
    },
    {
     "name": "stdout",
     "output_type": "stream",
     "text": [
      "Training model. Current learning rate: 0.04\n"
     ]
    },
    {
     "data": {
      "application/vnd.jupyter.widget-view+json": {
       "model_id": "699cb3eea92f47e2999f1783ed18c850",
       "version_major": 2,
       "version_minor": 0
      },
      "text/plain": [
       "Epoch progress:   0%|          | 0/50 [00:00<?, ?it/s]"
      ]
     },
     "metadata": {},
     "output_type": "display_data"
    },
    {
     "name": "stdout",
     "output_type": "stream",
     "text": [
      "Training model. Current learning rate: 0.05\n"
     ]
    },
    {
     "data": {
      "application/vnd.jupyter.widget-view+json": {
       "model_id": "a6b45b9259854ea19abbf182e9c78852",
       "version_major": 2,
       "version_minor": 0
      },
      "text/plain": [
       "Epoch progress:   0%|          | 0/50 [00:00<?, ?it/s]"
      ]
     },
     "metadata": {},
     "output_type": "display_data"
    }
   ],
   "source": [
    "# training model3 with Adam optimizer & cross entopy cost\n",
    "j = 1\n",
    "\n",
    "acc_summary = tf.summary.scalar('Accuracy_summary_for_model3_with_Adam_optimizer_and_Cross_entropy_cost', accuracy3)\n",
    "cost = tf.reduce_mean(tf.nn.softmax_cross_entropy_with_logits_v2(logits = model3, labels = Y))\n",
    "loss_summary = tf.summary.scalar('Loss_summary_for_model3_with_Adam_optimizer_and_Cross_entropy_cost', cost)\n",
    "merged = tf.summary.merge([acc_summary, loss_summary])\n",
    "\n",
    "for lr in learning_rate_list:\n",
    "    optimizer = tf.compat.v1.train.AdamOptimizer(lr).minimize(cost)    \n",
    "    init = tf.global_variables_initializer()\n",
    "    \n",
    "    print('Training model. Current learning rate: {:.2f}'.format(lr))\n",
    "    \n",
    "    outer_lvl = list(range(epoch))\n",
    "    \n",
    "    with tf.Session() as sess:\n",
    "        \n",
    "        writer1 = tf.summary.FileWriter('tblogs/model3/adam-crossentr/lr0.01', sess.graph)\n",
    "        writer2 = tf.summary.FileWriter('tblogs/model3/adam-crossentr/lr0.02', sess.graph)\n",
    "        writer3 = tf.summary.FileWriter('tblogs/model3/adam-crossentr/lr0.03', sess.graph)\n",
    "        writer4 = tf.summary.FileWriter('tblogs/model3/adam-crossentr/lr0.04', sess.graph)\n",
    "        writer5 = tf.summary.FileWriter('tblogs/model3/adam-crossentr/lr0.05', sess.graph)\n",
    "        \n",
    "        sess.run(init)\n",
    "        for k in tqdm(outer_lvl, desc = 'Epoch progress'):\n",
    "            avg_loss = 0.\n",
    "            start = 0; end = batch_size\n",
    "        \n",
    "            for i in range(iteration):\n",
    "                _, loss, summary = sess.run([optimizer, cost, merged], feed_dict={X: X_train[start: end], Y: y_train[start: end]})\n",
    "                start += batch_size; end += batch_size\n",
    "                avg_loss += loss / iteration\n",
    "                \n",
    "            # save_path  = saver.save(sess, 'model3-adam-crossentr-lr{}'.format(lr), write_meta_graph = False, write_state = False)                            \n",
    "            cur_val_acc, summary = sess.run([accuracy3, merged], feed_dict = {X: X_valid, Y: y_valid})\n",
    "            \n",
    "            if lr == 0.01:\n",
    "                writer1.add_summary(summary, k)\n",
    "            elif lr == 0.02:\n",
    "                writer2.add_summary(summary, k)\n",
    "            elif lr == 0.03:\n",
    "                writer3.add_summary(summary, k)\n",
    "            elif lr == 0.04:\n",
    "                writer4.add_summary(summary, k)\n",
    "            else:\n",
    "                writer5.add_summary(summary, k)\n",
    "                \n",
    "        training_log34['Fit №' + str(learning_rate_list.index(lr) + 1)] = [cur_val_acc, avg_loss, lr]\n",
    "        j += 1"
   ]
  },
  {
   "cell_type": "code",
   "execution_count": 63,
   "id": "6b82c107-24eb-4368-b42f-1518e08d5d84",
   "metadata": {},
   "outputs": [],
   "source": [
    "#results\n",
    "# training_log34"
   ]
  },
  {
   "cell_type": "code",
   "execution_count": 64,
   "id": "a58d8ec2-c206-49e5-8f72-1d04b56a5f82",
   "metadata": {},
   "outputs": [
    {
     "name": "stdout",
     "output_type": "stream",
     "text": [
      "INFO:tensorflow:Restoring parameters from model3-adam-crossentr-lr0.01\n"
     ]
    }
   ],
   "source": [
    "with tf.Session() as sess:\n",
    "    saver.restore(sess, 'model3-adam-crossentr-lr0.01')\n",
    "    preds = tf.nn.softmax(model3)\n",
    "    preds_val = preds.eval({X: X_valid, Y: y_valid})\n",
    "    for i in range(len(preds_val)):\n",
    "        preds_val[i] = np.where(preds_val[i] < max(preds_val[i]), 0, 1)\n",
    "    scores['model3-adam-crossentr'] = [f1_score(y_valid, preds_val, average = 'macro'), roc_auc_score(y_valid, preds_val, multi_class = 'ovr', average = 'macro'), accuracy3.eval({X: X_valid, Y: y_valid})]"
   ]
  },
  {
   "cell_type": "code",
   "execution_count": 65,
   "id": "41880997-4f5c-4871-8d17-62d5aa5f0368",
   "metadata": {
    "tags": []
   },
   "outputs": [
    {
     "name": "stdout",
     "output_type": "stream",
     "text": [
      "Training model. Current learning rate: 0.01\n"
     ]
    },
    {
     "data": {
      "application/vnd.jupyter.widget-view+json": {
       "model_id": "84bca6223525453b9c928bc73bcdd7c9",
       "version_major": 2,
       "version_minor": 0
      },
      "text/plain": [
       "Epoch progress:   0%|          | 0/50 [00:00<?, ?it/s]"
      ]
     },
     "metadata": {},
     "output_type": "display_data"
    },
    {
     "name": "stdout",
     "output_type": "stream",
     "text": [
      "Training model. Current learning rate: 0.02\n"
     ]
    },
    {
     "data": {
      "application/vnd.jupyter.widget-view+json": {
       "model_id": "e25dcef3cd8546a6a0f7eb117b8fa54b",
       "version_major": 2,
       "version_minor": 0
      },
      "text/plain": [
       "Epoch progress:   0%|          | 0/50 [00:00<?, ?it/s]"
      ]
     },
     "metadata": {},
     "output_type": "display_data"
    },
    {
     "name": "stdout",
     "output_type": "stream",
     "text": [
      "Training model. Current learning rate: 0.03\n"
     ]
    },
    {
     "data": {
      "application/vnd.jupyter.widget-view+json": {
       "model_id": "18bcab7534764dd5913401bdd0978328",
       "version_major": 2,
       "version_minor": 0
      },
      "text/plain": [
       "Epoch progress:   0%|          | 0/50 [00:00<?, ?it/s]"
      ]
     },
     "metadata": {},
     "output_type": "display_data"
    },
    {
     "name": "stdout",
     "output_type": "stream",
     "text": [
      "Training model. Current learning rate: 0.04\n"
     ]
    },
    {
     "data": {
      "application/vnd.jupyter.widget-view+json": {
       "model_id": "8bf3ef8d76f944caa1aee3feb34a398f",
       "version_major": 2,
       "version_minor": 0
      },
      "text/plain": [
       "Epoch progress:   0%|          | 0/50 [00:00<?, ?it/s]"
      ]
     },
     "metadata": {},
     "output_type": "display_data"
    },
    {
     "name": "stdout",
     "output_type": "stream",
     "text": [
      "Training model. Current learning rate: 0.05\n"
     ]
    },
    {
     "data": {
      "application/vnd.jupyter.widget-view+json": {
       "model_id": "fa9197746dd442238ecca692c5052384",
       "version_major": 2,
       "version_minor": 0
      },
      "text/plain": [
       "Epoch progress:   0%|          | 0/50 [00:00<?, ?it/s]"
      ]
     },
     "metadata": {},
     "output_type": "display_data"
    }
   ],
   "source": [
    "# training model4 with Adam optimizer & MSE cost\n",
    "j = 1\n",
    "\n",
    "acc_summary = tf.summary.scalar('Accuracy_summary_for_model4_with_Adam_optimizer_and_MSE_cost', accuracy4)\n",
    "cost = tf.reduce_mean(tf.square(model4 - Y))\n",
    "loss_summary = tf.summary.scalar('Loss_summary_for_model4_with_Adam_optimizer_and_MSE_cost', cost)\n",
    "merged = tf.summary.merge([acc_summary, loss_summary])\n",
    "\n",
    "for lr in learning_rate_list:\n",
    "    optimizer = tf.compat.v1.train.AdamOptimizer(lr).minimize(cost)    \n",
    "    init = tf.global_variables_initializer()\n",
    "    \n",
    "    print('Training model. Current learning rate: {:.2f}'.format(lr))\n",
    "    \n",
    "    outer_lvl = list(range(epoch))\n",
    "     \n",
    "    with tf.Session() as sess:\n",
    "        \n",
    "        writer1 = tf.summary.FileWriter('tblogs/model4/adam-mse/lr0.01', sess.graph)\n",
    "        writer2 = tf.summary.FileWriter('tblogs/model4/adam-mse/lr0.02', sess.graph)\n",
    "        writer3 = tf.summary.FileWriter('tblogs/model4/adam-mse/lr0.03', sess.graph)\n",
    "        writer4 = tf.summary.FileWriter('tblogs/model4/adam-mse/lr0.04', sess.graph)\n",
    "        writer5 = tf.summary.FileWriter('tblogs/model4/adam-mse/lr0.05', sess.graph)\n",
    "        \n",
    "        sess.run(init)\n",
    "        for k in tqdm(outer_lvl, desc = 'Epoch progress'):\n",
    "            avg_loss = 0.\n",
    "            start = 0; end = batch_size\n",
    "        \n",
    "            for i in range(iteration):\n",
    "                _, loss, summary = sess.run([optimizer, cost, merged], feed_dict={X: X_train[start: end], Y: y_train[start: end]})\n",
    "                start += batch_size; end += batch_size\n",
    "                avg_loss += loss / iteration\n",
    "                            \n",
    "            # save_path  = saver.save(sess, 'model4-adam-mse-lr{}'.format(lr), write_meta_graph = False, write_state = False)                            \n",
    "            cur_val_acc, summary = sess.run([accuracy4, merged], feed_dict = {X: X_valid, Y: y_valid})\n",
    "            \n",
    "            if lr == 0.01:\n",
    "                writer1.add_summary(summary, k)\n",
    "            elif lr == 0.02:\n",
    "                writer2.add_summary(summary, k)\n",
    "            elif lr == 0.03:\n",
    "                writer3.add_summary(summary, k)\n",
    "            elif lr == 0.04:\n",
    "                writer4.add_summary(summary, k)\n",
    "            else:\n",
    "                writer5.add_summary(summary, k)\n",
    "            \n",
    "        training_log41['Fit №' + str(learning_rate_list.index(lr) + 1)] = [cur_val_acc, avg_loss, lr]\n",
    "        \n",
    "        j += 1"
   ]
  },
  {
   "cell_type": "code",
   "execution_count": 66,
   "id": "9050ae61-258a-43d5-a1c5-72fcf0b7279e",
   "metadata": {},
   "outputs": [],
   "source": [
    "#results\n",
    "# training_log41"
   ]
  },
  {
   "cell_type": "code",
   "execution_count": 67,
   "id": "5c0f72d2-8b49-47e7-8100-1a04d2fd81fe",
   "metadata": {},
   "outputs": [
    {
     "name": "stdout",
     "output_type": "stream",
     "text": [
      "INFO:tensorflow:Restoring parameters from model1-adam-mse-lr0.01\n",
      "Test Accuracy : 0.0926\n"
     ]
    }
   ],
   "source": [
    "with tf.Session() as sess:\n",
    "    saver.restore(sess, 'model1-adam-mse-lr0.01')\n",
    "    print(\"Test Accuracy :\", accuracy4.eval({X: X_test, Y: y_test}))"
   ]
  },
  {
   "cell_type": "code",
   "execution_count": 68,
   "id": "7950aa2b-0da7-47ff-88ae-389611211b45",
   "metadata": {},
   "outputs": [
    {
     "name": "stdout",
     "output_type": "stream",
     "text": [
      "Training model. Current learning rate: 0.01\n"
     ]
    },
    {
     "data": {
      "application/vnd.jupyter.widget-view+json": {
       "model_id": "4c62387410ff43de86c236c2440608eb",
       "version_major": 2,
       "version_minor": 0
      },
      "text/plain": [
       "Epoch progress:   0%|          | 0/50 [00:00<?, ?it/s]"
      ]
     },
     "metadata": {},
     "output_type": "display_data"
    },
    {
     "name": "stdout",
     "output_type": "stream",
     "text": [
      "Training model. Current learning rate: 0.02\n"
     ]
    },
    {
     "data": {
      "application/vnd.jupyter.widget-view+json": {
       "model_id": "041bdbbe3fc242f5bf6d53ba3dc4c9ec",
       "version_major": 2,
       "version_minor": 0
      },
      "text/plain": [
       "Epoch progress:   0%|          | 0/50 [00:00<?, ?it/s]"
      ]
     },
     "metadata": {},
     "output_type": "display_data"
    },
    {
     "name": "stdout",
     "output_type": "stream",
     "text": [
      "Training model. Current learning rate: 0.03\n"
     ]
    },
    {
     "data": {
      "application/vnd.jupyter.widget-view+json": {
       "model_id": "70dbac22c8ea4c43b4e6747bcaf5de36",
       "version_major": 2,
       "version_minor": 0
      },
      "text/plain": [
       "Epoch progress:   0%|          | 0/50 [00:00<?, ?it/s]"
      ]
     },
     "metadata": {},
     "output_type": "display_data"
    },
    {
     "name": "stdout",
     "output_type": "stream",
     "text": [
      "Training model. Current learning rate: 0.04\n"
     ]
    },
    {
     "data": {
      "application/vnd.jupyter.widget-view+json": {
       "model_id": "10d9a977eca04699870cc8282803be03",
       "version_major": 2,
       "version_minor": 0
      },
      "text/plain": [
       "Epoch progress:   0%|          | 0/50 [00:00<?, ?it/s]"
      ]
     },
     "metadata": {},
     "output_type": "display_data"
    },
    {
     "name": "stdout",
     "output_type": "stream",
     "text": [
      "Training model. Current learning rate: 0.05\n"
     ]
    },
    {
     "data": {
      "application/vnd.jupyter.widget-view+json": {
       "model_id": "f7bc2eb5b532475e91628e3ba7ab70ac",
       "version_major": 2,
       "version_minor": 0
      },
      "text/plain": [
       "Epoch progress:   0%|          | 0/50 [00:00<?, ?it/s]"
      ]
     },
     "metadata": {},
     "output_type": "display_data"
    }
   ],
   "source": [
    "# training model4 with gradient descent optimizer & MSE cost\n",
    "j = 1\n",
    "\n",
    "acc_summary = tf.summary.scalar('Accuracy_summary_for_model4_with_Gradient_Descent_optimizer_and_MSE_cost', accuracy4)\n",
    "cost = tf.reduce_mean(tf.square(model4 - Y))\n",
    "loss_summary = tf.summary.scalar('Loss_summary_for_model4_with_Gradient_Descent_optimizer_and_MSE_cost', cost)\n",
    "merged = tf.summary.merge([acc_summary, loss_summary])\n",
    "\n",
    "for lr in learning_rate_list:\n",
    "    optimizer = tf.compat.v1.train.GradientDescentOptimizer(lr).minimize(cost)    \n",
    "    init = tf.global_variables_initializer()\n",
    "    print('Training model. Current learning rate: {:.2f}'.format(lr))\n",
    "    \n",
    "    outer_lvl = list(range(epoch))\n",
    "    \n",
    "    with tf.Session() as sess:\n",
    "        \n",
    "        writer1 = tf.summary.FileWriter('tblogs/model4/graddesc-mse/lr0.01', sess.graph)\n",
    "        writer2 = tf.summary.FileWriter('tblogs/model4/graddesc-mse/lr0.02', sess.graph)\n",
    "        writer3 = tf.summary.FileWriter('tblogs/model4/graddesc-mse/lr0.03', sess.graph)\n",
    "        writer4 = tf.summary.FileWriter('tblogs/model4/graddesc-mse/lr0.04', sess.graph)\n",
    "        writer5 = tf.summary.FileWriter('tblogs/model4/graddesc-mse/lr0.05', sess.graph)\n",
    "        \n",
    "        sess.run(init)\n",
    "        for k in tqdm(outer_lvl, desc = 'Epoch progress'):\n",
    "            avg_loss = 0.\n",
    "            start = 0; end = batch_size\n",
    "        \n",
    "            for i in range(iteration):\n",
    "                _, loss, summary = sess.run([optimizer, cost, merged], feed_dict={X: X_train[start: end], Y: y_train[start: end]})\n",
    "                start += batch_size; end += batch_size\n",
    "                avg_loss += loss / iteration\n",
    "            \n",
    "            # save_path  = saver.save(sess, 'model4-graddesc-mse-lr{}'.format(lr), write_meta_graph = False, write_state = False)                            \n",
    "            cur_val_acc, summary = sess.run([accuracy4, merged], feed_dict = {X: X_valid, Y: y_valid})\n",
    "            \n",
    "            if lr == 0.01:\n",
    "                writer1.add_summary(summary, k)\n",
    "            elif lr == 0.02:\n",
    "                writer2.add_summary(summary, k)\n",
    "            elif lr == 0.03:\n",
    "                writer3.add_summary(summary, k)\n",
    "            elif lr == 0.04:\n",
    "                writer4.add_summary(summary, k)\n",
    "            else:\n",
    "                writer5.add_summary(summary, k)\n",
    "                \n",
    "        training_log42['Fit №' + str(learning_rate_list.index(lr) + 1)] = [cur_val_acc, avg_loss, lr]\n",
    "\n",
    "        j += 1"
   ]
  },
  {
   "cell_type": "code",
   "execution_count": 69,
   "id": "dca98f64-dc87-43e6-816d-be7ad850de05",
   "metadata": {},
   "outputs": [],
   "source": [
    "#results\n",
    "# training_log42"
   ]
  },
  {
   "cell_type": "code",
   "execution_count": 70,
   "id": "39cf5369-9aa1-4685-8bf4-fcaf9593bdd9",
   "metadata": {},
   "outputs": [
    {
     "name": "stdout",
     "output_type": "stream",
     "text": [
      "INFO:tensorflow:Restoring parameters from model4-graddesc-mse-lr0.05\n"
     ]
    }
   ],
   "source": [
    "with tf.Session() as sess:\n",
    "    saver.restore(sess, 'model4-graddesc-mse-lr0.05')\n",
    "    preds = tf.nn.softmax(model4)\n",
    "    preds_val = preds.eval({X: X_valid, Y: y_valid})\n",
    "    for i in range(len(preds_val)):\n",
    "        preds_val[i] = np.where(preds_val[i] < max(preds_val[i]), 0, 1)\n",
    "    scores['model4-graddesc-mse'] = [f1_score(y_valid, preds_val, average = 'macro'), roc_auc_score(y_valid, preds_val, multi_class = 'ovr', average = 'macro'), accuracy4.eval({X: X_valid, Y: y_valid})]"
   ]
  },
  {
   "cell_type": "code",
   "execution_count": 71,
   "id": "074d1f8a-a59e-4653-b9aa-784182f83a8b",
   "metadata": {},
   "outputs": [
    {
     "name": "stdout",
     "output_type": "stream",
     "text": [
      "Training model. Current learning rate: 0.01\n"
     ]
    },
    {
     "data": {
      "application/vnd.jupyter.widget-view+json": {
       "model_id": "ea9dd3225ad54ecdb77997dfbc9d44e8",
       "version_major": 2,
       "version_minor": 0
      },
      "text/plain": [
       "Epoch progress:   0%|          | 0/50 [00:00<?, ?it/s]"
      ]
     },
     "metadata": {},
     "output_type": "display_data"
    },
    {
     "name": "stdout",
     "output_type": "stream",
     "text": [
      "Training model. Current learning rate: 0.02\n"
     ]
    },
    {
     "data": {
      "application/vnd.jupyter.widget-view+json": {
       "model_id": "39ebc9a86b5a441d85a002d5796505d0",
       "version_major": 2,
       "version_minor": 0
      },
      "text/plain": [
       "Epoch progress:   0%|          | 0/50 [00:00<?, ?it/s]"
      ]
     },
     "metadata": {},
     "output_type": "display_data"
    },
    {
     "name": "stdout",
     "output_type": "stream",
     "text": [
      "Training model. Current learning rate: 0.03\n"
     ]
    },
    {
     "data": {
      "application/vnd.jupyter.widget-view+json": {
       "model_id": "ac445776a52f454f85d9651a9a0d1fac",
       "version_major": 2,
       "version_minor": 0
      },
      "text/plain": [
       "Epoch progress:   0%|          | 0/50 [00:00<?, ?it/s]"
      ]
     },
     "metadata": {},
     "output_type": "display_data"
    },
    {
     "name": "stdout",
     "output_type": "stream",
     "text": [
      "Training model. Current learning rate: 0.04\n"
     ]
    },
    {
     "data": {
      "application/vnd.jupyter.widget-view+json": {
       "model_id": "f8bc3e05ada64ac99b51567d6e10afe8",
       "version_major": 2,
       "version_minor": 0
      },
      "text/plain": [
       "Epoch progress:   0%|          | 0/50 [00:00<?, ?it/s]"
      ]
     },
     "metadata": {},
     "output_type": "display_data"
    },
    {
     "name": "stdout",
     "output_type": "stream",
     "text": [
      "Training model. Current learning rate: 0.05\n"
     ]
    },
    {
     "data": {
      "application/vnd.jupyter.widget-view+json": {
       "model_id": "e7ddfa97afc04f52864a8890f87845c0",
       "version_major": 2,
       "version_minor": 0
      },
      "text/plain": [
       "Epoch progress:   0%|          | 0/50 [00:00<?, ?it/s]"
      ]
     },
     "metadata": {},
     "output_type": "display_data"
    }
   ],
   "source": [
    "# training model4 with gradient descent optimizer & cross entropy cost\n",
    "j = 1\n",
    "\n",
    "acc_summary = tf.summary.scalar('Accuracy_summary_for_model4_with_Gradient_Descent_optimizer_and_Cross_entropy_cost', accuracy4)\n",
    "cost = tf.reduce_mean(tf.nn.softmax_cross_entropy_with_logits_v2(logits = model4, labels = Y))\n",
    "loss_summary = tf.summary.scalar('Loss_summary_for_model4_with_Gradient_Descent_optimizer_and_Cross_entropy_cost', cost)\n",
    "merged = tf.summary.merge([acc_summary, loss_summary])\n",
    "\n",
    "for lr in learning_rate_list:\n",
    "    optimizer = tf.compat.v1.train.GradientDescentOptimizer(lr).minimize(cost)    \n",
    "    init = tf.global_variables_initializer()\n",
    "    \n",
    "    print('Training model. Current learning rate: {:.2f}'.format(lr))\n",
    "    \n",
    "    outer_lvl = list(range(epoch))\n",
    "    \n",
    "    with tf.Session() as sess:\n",
    "        \n",
    "        writer1 = tf.summary.FileWriter('tblogs/model4/graddesc-crossentr/lr0.01', sess.graph)\n",
    "        writer2 = tf.summary.FileWriter('tblogs/model4/graddesc-crossentr/lr0.02', sess.graph)\n",
    "        writer3 = tf.summary.FileWriter('tblogs/model4/graddesc-crossentr/lr0.03', sess.graph)\n",
    "        writer4 = tf.summary.FileWriter('tblogs/model4/graddesc-crossentr/lr0.04', sess.graph)\n",
    "        writer5 = tf.summary.FileWriter('tblogs/model4/graddesc-crossentr/lr0.05', sess.graph)\n",
    "        \n",
    "        sess.run(init)\n",
    "        for k in tqdm(outer_lvl, desc = 'Epoch progress'):\n",
    "            avg_loss = 0.\n",
    "            start = 0; end = batch_size\n",
    "        \n",
    "            for i in range(iteration):\n",
    "                _, loss, summary = sess.run([optimizer, cost, merged], feed_dict={X: X_train[start: end], Y: y_train[start: end]})\n",
    "                start += batch_size; end += batch_size\n",
    "                avg_loss += loss / iteration\n",
    "            \n",
    "            # save_path  = saver.save(sess, 'model4-graddesc-crossentr-lr{}'.format(lr), write_meta_graph = False, write_state = False)                            \n",
    "            cur_val_acc, summary = sess.run([accuracy4, merged], feed_dict = {X: X_valid, Y: y_valid})\n",
    "            \n",
    "            if lr == 0.01:\n",
    "                writer1.add_summary(summary, k)\n",
    "            elif lr == 0.02:\n",
    "                writer2.add_summary(summary, k)\n",
    "            elif lr == 0.03:\n",
    "                writer3.add_summary(summary, k)\n",
    "            elif lr == 0.04:\n",
    "                writer4.add_summary(summary, k)\n",
    "            else:\n",
    "                writer5.add_summary(summary, k)\n",
    "        \n",
    "        training_log43['Fit №' + str(learning_rate_list.index(lr) + 1)] = [cur_val_acc, avg_loss, lr]\n",
    "        j += 1"
   ]
  },
  {
   "cell_type": "code",
   "execution_count": 72,
   "id": "74b4cf58-592e-4031-9aac-7209129cb3a5",
   "metadata": {},
   "outputs": [],
   "source": [
    "#results\n",
    "# training_log43"
   ]
  },
  {
   "cell_type": "code",
   "execution_count": 73,
   "id": "fb08f475-d4ca-4def-a5f7-a9c17a7d2708",
   "metadata": {},
   "outputs": [
    {
     "name": "stdout",
     "output_type": "stream",
     "text": [
      "INFO:tensorflow:Restoring parameters from model4-graddesc-crossentr-lr0.05\n"
     ]
    }
   ],
   "source": [
    "with tf.Session() as sess:\n",
    "    saver.restore(sess, 'model4-graddesc-crossentr-lr0.05')\n",
    "    preds = tf.nn.softmax(model4)\n",
    "    preds_val = preds.eval({X: X_valid, Y: y_valid})\n",
    "    for i in range(len(preds_val)):\n",
    "        preds_val[i] = np.where(preds_val[i] < max(preds_val[i]), 0, 1)\n",
    "    scores['model4-graddesc-crossentr'] = [f1_score(y_valid, preds_val, average = 'macro'), roc_auc_score(y_valid, preds_val, multi_class = 'ovr', average = 'macro'), accuracy4.eval({X: X_valid, Y: y_valid})]"
   ]
  },
  {
   "cell_type": "code",
   "execution_count": 74,
   "id": "62b7b5dc-7d39-4fc7-973b-c0202948f85e",
   "metadata": {},
   "outputs": [
    {
     "name": "stdout",
     "output_type": "stream",
     "text": [
      "Training model. Current learning rate: 0.01\n"
     ]
    },
    {
     "data": {
      "application/vnd.jupyter.widget-view+json": {
       "model_id": "f8928e15108042cf938e52148538fccd",
       "version_major": 2,
       "version_minor": 0
      },
      "text/plain": [
       "Epoch progress:   0%|          | 0/50 [00:00<?, ?it/s]"
      ]
     },
     "metadata": {},
     "output_type": "display_data"
    },
    {
     "name": "stdout",
     "output_type": "stream",
     "text": [
      "Training model. Current learning rate: 0.02\n"
     ]
    },
    {
     "data": {
      "application/vnd.jupyter.widget-view+json": {
       "model_id": "423c65511cbd4498ba272c4e4f87cd20",
       "version_major": 2,
       "version_minor": 0
      },
      "text/plain": [
       "Epoch progress:   0%|          | 0/50 [00:00<?, ?it/s]"
      ]
     },
     "metadata": {},
     "output_type": "display_data"
    },
    {
     "name": "stdout",
     "output_type": "stream",
     "text": [
      "Training model. Current learning rate: 0.03\n"
     ]
    },
    {
     "data": {
      "application/vnd.jupyter.widget-view+json": {
       "model_id": "dc25884feee7464b804c3635c17ecbb8",
       "version_major": 2,
       "version_minor": 0
      },
      "text/plain": [
       "Epoch progress:   0%|          | 0/50 [00:00<?, ?it/s]"
      ]
     },
     "metadata": {},
     "output_type": "display_data"
    },
    {
     "name": "stdout",
     "output_type": "stream",
     "text": [
      "Training model. Current learning rate: 0.04\n"
     ]
    },
    {
     "data": {
      "application/vnd.jupyter.widget-view+json": {
       "model_id": "6ae7f6605375461486eee169c9a39dc7",
       "version_major": 2,
       "version_minor": 0
      },
      "text/plain": [
       "Epoch progress:   0%|          | 0/50 [00:00<?, ?it/s]"
      ]
     },
     "metadata": {},
     "output_type": "display_data"
    },
    {
     "name": "stdout",
     "output_type": "stream",
     "text": [
      "Training model. Current learning rate: 0.05\n"
     ]
    },
    {
     "data": {
      "application/vnd.jupyter.widget-view+json": {
       "model_id": "f2dbfbd1db86483f90b7de74e170002a",
       "version_major": 2,
       "version_minor": 0
      },
      "text/plain": [
       "Epoch progress:   0%|          | 0/50 [00:00<?, ?it/s]"
      ]
     },
     "metadata": {},
     "output_type": "display_data"
    }
   ],
   "source": [
    "# training model4 with Adam optimizer & cross entropy cost\n",
    "j = 1\n",
    "\n",
    "acc_summary = tf.summary.scalar('Accuracy_summary_for_model4_with_Adam_optimizer_and_Cross_entropy_cost', accuracy4)\n",
    "cost = tf.reduce_mean(tf.nn.softmax_cross_entropy_with_logits_v2(logits = model4, labels = Y))\n",
    "loss_summary = tf.summary.scalar('Loss_summary_for_model4_with_Adam_optimizer_and_Cross_entropy_cost', cost)\n",
    "merged = tf.summary.merge([acc_summary, loss_summary])\n",
    "\n",
    "for lr in learning_rate_list:\n",
    "    optimizer = tf.compat.v1.train.AdamOptimizer(lr).minimize(cost)    \n",
    "    init = tf.global_variables_initializer()\n",
    "    \n",
    "    print('Training model. Current learning rate: {:.2f}'.format(lr))\n",
    "    \n",
    "    outer_lvl = list(range(epoch))\n",
    "    \n",
    "    with tf.Session() as sess:\n",
    "        \n",
    "        writer1 = tf.summary.FileWriter('tblogs/model4/adam-crossentr/lr0.01', sess.graph)\n",
    "        writer2 = tf.summary.FileWriter('tblogs/model4/adam-crossentr/lr0.02', sess.graph)\n",
    "        writer3 = tf.summary.FileWriter('tblogs/model4/adam-crossentr/lr0.03', sess.graph)\n",
    "        writer4 = tf.summary.FileWriter('tblogs/model4/adam-crossentr/lr0.04', sess.graph)\n",
    "        writer5 = tf.summary.FileWriter('tblogs/model4/adam-crossentr/lr0.05', sess.graph)\n",
    "        \n",
    "        sess.run(init)\n",
    "        for k in tqdm(outer_lvl, desc = 'Epoch progress'):\n",
    "            avg_loss = 0.\n",
    "            start = 0; end = batch_size\n",
    "        \n",
    "            for i in range(iteration):\n",
    "                _, loss, summary = sess.run([optimizer, cost, merged], feed_dict={X: X_train[start: end], Y: y_train[start: end]})\n",
    "                start += batch_size; end += batch_size\n",
    "                avg_loss += loss / iteration\n",
    "                \n",
    "            # save_path  = saver.save(sess, 'model4-adam-crossentr-lr{}'.format(lr), write_meta_graph = False, write_state = False)                            \n",
    "            cur_val_acc, summary = sess.run([accuracy4, merged], feed_dict = {X: X_valid, Y: y_valid})\n",
    "            \n",
    "            if lr == 0.01:\n",
    "                writer1.add_summary(summary, k)\n",
    "            elif lr == 0.02:\n",
    "                writer2.add_summary(summary, k)\n",
    "            elif lr == 0.03:\n",
    "                writer3.add_summary(summary, k)\n",
    "            elif lr == 0.04:\n",
    "                writer4.add_summary(summary, k)\n",
    "            else:\n",
    "                writer5.add_summary(summary, k)\n",
    "                \n",
    "        training_log44['Fit №' + str(learning_rate_list.index(lr) + 1)] = [cur_val_acc, avg_loss, lr]\n",
    "        j += 1"
   ]
  },
  {
   "cell_type": "code",
   "execution_count": 75,
   "id": "8e13cae7-6491-4b2b-ac2d-8458c4f92985",
   "metadata": {},
   "outputs": [],
   "source": [
    "#results\n",
    "# training_log44"
   ]
  },
  {
   "cell_type": "code",
   "execution_count": 76,
   "id": "1f0d5a8f-a73e-41c7-80e6-ca031380723c",
   "metadata": {},
   "outputs": [
    {
     "name": "stdout",
     "output_type": "stream",
     "text": [
      "INFO:tensorflow:Restoring parameters from model4-adam-crossentr-lr0.01\n"
     ]
    }
   ],
   "source": [
    "with tf.Session() as sess:\n",
    "    saver.restore(sess, 'model4-adam-crossentr-lr0.01')\n",
    "    preds = tf.nn.softmax(model4)\n",
    "    preds_val = preds.eval({X: X_valid, Y: y_valid})\n",
    "    for i in range(len(preds_val)):\n",
    "        preds_val[i] = np.where(preds_val[i] < max(preds_val[i]), 0, 1)\n",
    "    scores['model4-adam-crossentr'] = [f1_score(y_valid, preds_val, average = 'macro'), roc_auc_score(y_valid, preds_val, multi_class = 'ovr', average = 'macro'), accuracy4.eval({X: X_valid, Y: y_valid})]"
   ]
  },
  {
   "cell_type": "code",
   "execution_count": 77,
   "id": "1118ebe8-35e2-4ad4-9f49-68cf5b7f5ac9",
   "metadata": {
    "tags": []
   },
   "outputs": [
    {
     "name": "stdout",
     "output_type": "stream",
     "text": [
      "Training model. Current learning rate: 0.01\n"
     ]
    },
    {
     "data": {
      "application/vnd.jupyter.widget-view+json": {
       "model_id": "c1bede7b5c0448fe9094e66eeb44534c",
       "version_major": 2,
       "version_minor": 0
      },
      "text/plain": [
       "Epoch progress:   0%|          | 0/50 [00:00<?, ?it/s]"
      ]
     },
     "metadata": {},
     "output_type": "display_data"
    },
    {
     "name": "stdout",
     "output_type": "stream",
     "text": [
      "Training model. Current learning rate: 0.02\n"
     ]
    },
    {
     "data": {
      "application/vnd.jupyter.widget-view+json": {
       "model_id": "96030eaadd2c4a3fa5aae1eb6e162f2a",
       "version_major": 2,
       "version_minor": 0
      },
      "text/plain": [
       "Epoch progress:   0%|          | 0/50 [00:00<?, ?it/s]"
      ]
     },
     "metadata": {},
     "output_type": "display_data"
    },
    {
     "name": "stdout",
     "output_type": "stream",
     "text": [
      "Training model. Current learning rate: 0.03\n"
     ]
    },
    {
     "data": {
      "application/vnd.jupyter.widget-view+json": {
       "model_id": "eaae601fbd8e464988e6faa8072fe296",
       "version_major": 2,
       "version_minor": 0
      },
      "text/plain": [
       "Epoch progress:   0%|          | 0/50 [00:00<?, ?it/s]"
      ]
     },
     "metadata": {},
     "output_type": "display_data"
    },
    {
     "name": "stdout",
     "output_type": "stream",
     "text": [
      "Training model. Current learning rate: 0.04\n"
     ]
    },
    {
     "data": {
      "application/vnd.jupyter.widget-view+json": {
       "model_id": "02f6d30f38e642318e837157ea716ac6",
       "version_major": 2,
       "version_minor": 0
      },
      "text/plain": [
       "Epoch progress:   0%|          | 0/50 [00:00<?, ?it/s]"
      ]
     },
     "metadata": {},
     "output_type": "display_data"
    },
    {
     "name": "stdout",
     "output_type": "stream",
     "text": [
      "Training model. Current learning rate: 0.05\n"
     ]
    },
    {
     "data": {
      "application/vnd.jupyter.widget-view+json": {
       "model_id": "c231226ef3be4e989c72b473a1c69001",
       "version_major": 2,
       "version_minor": 0
      },
      "text/plain": [
       "Epoch progress:   0%|          | 0/50 [00:00<?, ?it/s]"
      ]
     },
     "metadata": {},
     "output_type": "display_data"
    }
   ],
   "source": [
    "# training model5 with Adam optimizer & MSE cost\n",
    "j = 1\n",
    "\n",
    "acc_summary = tf.summary.scalar('Accuracy_summary_for_model5_with_Adam_optimizer_and_MSE_cost', accuracy5)\n",
    "cost = tf.reduce_mean(tf.square(model5 - Y))\n",
    "loss_summary = tf.summary.scalar('Loss_summary_for_model5_with_Adam_optimizer_and_MSE_cost', cost)\n",
    "merged = tf.summary.merge([acc_summary, loss_summary])\n",
    "\n",
    "for lr in learning_rate_list:\n",
    "    optimizer = tf.compat.v1.train.AdamOptimizer(lr).minimize(cost)    \n",
    "    init = tf.global_variables_initializer()\n",
    "    \n",
    "    print('Training model. Current learning rate: {:.2f}'.format(lr))\n",
    "    \n",
    "    outer_lvl = list(range(epoch))\n",
    "     \n",
    "    with tf.Session() as sess:\n",
    "        \n",
    "        writer1 = tf.summary.FileWriter('tblogs/model5/adam-mse/lr0.01', sess.graph)\n",
    "        writer2 = tf.summary.FileWriter('tblogs/model5/adam-mse/lr0.02', sess.graph)\n",
    "        writer3 = tf.summary.FileWriter('tblogs/model5/adam-mse/lr0.03', sess.graph)\n",
    "        writer4 = tf.summary.FileWriter('tblogs/model5/adam-mse/lr0.04', sess.graph)\n",
    "        writer5 = tf.summary.FileWriter('tblogs/model5/adam-mse/lr0.05', sess.graph)\n",
    "        \n",
    "        sess.run(init)\n",
    "        for k in tqdm(outer_lvl, desc = 'Epoch progress'):\n",
    "            avg_loss = 0.\n",
    "            start = 0; end = batch_size\n",
    "        \n",
    "            for i in range(iteration):\n",
    "                _, loss, summary = sess.run([optimizer, cost, merged], feed_dict={X: X_train[start: end], Y: y_train[start: end]})\n",
    "                start += batch_size; end += batch_size\n",
    "                avg_loss += loss / iteration\n",
    "                            \n",
    "            # save_path  = saver.save(sess, 'model5-adam-mse-lr{}'.format(lr), write_meta_graph = False, write_state = False)                            \n",
    "            cur_val_acc, summary = sess.run([accuracy5, merged], feed_dict = {X: X_valid, Y: y_valid})\n",
    "            \n",
    "            if lr == 0.01:\n",
    "                writer1.add_summary(summary, k)\n",
    "            elif lr == 0.02:\n",
    "                writer2.add_summary(summary, k)\n",
    "            elif lr == 0.03:\n",
    "                writer3.add_summary(summary, k)\n",
    "            elif lr == 0.04:\n",
    "                writer4.add_summary(summary, k)\n",
    "            else:\n",
    "                writer5.add_summary(summary, k)\n",
    "            \n",
    "        training_log51['Fit №' + str(learning_rate_list.index(lr) + 1)] = [cur_val_acc, avg_loss, lr]\n",
    "        \n",
    "        j += 1"
   ]
  },
  {
   "cell_type": "code",
   "execution_count": 78,
   "id": "6453bd93-3000-48b0-add7-c17102fc6558",
   "metadata": {},
   "outputs": [],
   "source": [
    "#results\n",
    "# training_log51"
   ]
  },
  {
   "cell_type": "code",
   "execution_count": 79,
   "id": "afb7d019-1337-42dd-8fc1-3cd7c51ec700",
   "metadata": {},
   "outputs": [
    {
     "name": "stdout",
     "output_type": "stream",
     "text": [
      "INFO:tensorflow:Restoring parameters from model5-adam-mse-lr0.01\n"
     ]
    }
   ],
   "source": [
    "with tf.Session() as sess:\n",
    "    saver.restore(sess, 'model5-adam-mse-lr0.01')\n",
    "    preds = tf.nn.softmax(model5)\n",
    "    preds_val = preds.eval({X: X_valid, Y: y_valid})\n",
    "    for i in range(len(preds_val)):\n",
    "        preds_val[i] = np.where(preds_val[i] < max(preds_val[i]), 0, 1)\n",
    "    scores['model5-adam-mse'] = [f1_score(y_valid, preds_val, average = 'macro'), roc_auc_score(y_valid, preds_val, multi_class = 'ovr', average = 'macro'), accuracy5.eval({X: X_valid, Y: y_valid})]"
   ]
  },
  {
   "cell_type": "code",
   "execution_count": 80,
   "id": "70037c5e-8672-435e-843c-799b0e44d0ae",
   "metadata": {},
   "outputs": [
    {
     "name": "stdout",
     "output_type": "stream",
     "text": [
      "Training model. Current learning rate: 0.01\n"
     ]
    },
    {
     "data": {
      "application/vnd.jupyter.widget-view+json": {
       "model_id": "0bda816c25b5408f850958a23c3cc956",
       "version_major": 2,
       "version_minor": 0
      },
      "text/plain": [
       "Epoch progress:   0%|          | 0/50 [00:00<?, ?it/s]"
      ]
     },
     "metadata": {},
     "output_type": "display_data"
    },
    {
     "name": "stdout",
     "output_type": "stream",
     "text": [
      "Training model. Current learning rate: 0.02\n"
     ]
    },
    {
     "data": {
      "application/vnd.jupyter.widget-view+json": {
       "model_id": "f225206ccd3647598c33c84f84932dde",
       "version_major": 2,
       "version_minor": 0
      },
      "text/plain": [
       "Epoch progress:   0%|          | 0/50 [00:00<?, ?it/s]"
      ]
     },
     "metadata": {},
     "output_type": "display_data"
    },
    {
     "name": "stdout",
     "output_type": "stream",
     "text": [
      "Training model. Current learning rate: 0.03\n"
     ]
    },
    {
     "data": {
      "application/vnd.jupyter.widget-view+json": {
       "model_id": "2a43363f54a14fd0aff14942a90ae5dd",
       "version_major": 2,
       "version_minor": 0
      },
      "text/plain": [
       "Epoch progress:   0%|          | 0/50 [00:00<?, ?it/s]"
      ]
     },
     "metadata": {},
     "output_type": "display_data"
    },
    {
     "name": "stdout",
     "output_type": "stream",
     "text": [
      "Training model. Current learning rate: 0.04\n"
     ]
    },
    {
     "data": {
      "application/vnd.jupyter.widget-view+json": {
       "model_id": "a0f115ba46a84f94b1b57d04240301f0",
       "version_major": 2,
       "version_minor": 0
      },
      "text/plain": [
       "Epoch progress:   0%|          | 0/50 [00:00<?, ?it/s]"
      ]
     },
     "metadata": {},
     "output_type": "display_data"
    },
    {
     "name": "stdout",
     "output_type": "stream",
     "text": [
      "Training model. Current learning rate: 0.05\n"
     ]
    },
    {
     "data": {
      "application/vnd.jupyter.widget-view+json": {
       "model_id": "d63312138b67416e9c4592372c4a18e7",
       "version_major": 2,
       "version_minor": 0
      },
      "text/plain": [
       "Epoch progress:   0%|          | 0/50 [00:00<?, ?it/s]"
      ]
     },
     "metadata": {},
     "output_type": "display_data"
    }
   ],
   "source": [
    "# training model5 with gradient descent optimizer & MSE cost\n",
    "j = 1\n",
    "\n",
    "acc_summary = tf.summary.scalar('Accuracy_summary_for_model5_with_Gradient_Descent_optimizer_and_MSE_cost', accuracy5)\n",
    "cost = tf.reduce_mean(tf.square(model5 - Y))\n",
    "loss_summary = tf.summary.scalar('Loss_summary_for_model5_with_Gradient_Descent_optimizer_and_MSE_cost', cost)\n",
    "merged = tf.summary.merge([acc_summary, loss_summary])\n",
    "\n",
    "for lr in learning_rate_list:\n",
    "    optimizer = tf.compat.v1.train.GradientDescentOptimizer(lr).minimize(cost)    \n",
    "    init = tf.global_variables_initializer()\n",
    "    print('Training model. Current learning rate: {:.2f}'.format(lr))\n",
    "    \n",
    "    outer_lvl = list(range(epoch))\n",
    "    \n",
    "    with tf.Session() as sess:\n",
    "        \n",
    "        writer1 = tf.summary.FileWriter('tblogs/model5/graddesc-mse/lr0.01', sess.graph)\n",
    "        writer2 = tf.summary.FileWriter('tblogs/model5/graddesc-mse/lr0.02', sess.graph)\n",
    "        writer3 = tf.summary.FileWriter('tblogs/model5/graddesc-mse/lr0.03', sess.graph)\n",
    "        writer4 = tf.summary.FileWriter('tblogs/model5/graddesc-mse/lr0.04', sess.graph)\n",
    "        writer5 = tf.summary.FileWriter('tblogs/model5/graddesc-mse/lr0.05', sess.graph)\n",
    "        \n",
    "        sess.run(init)\n",
    "        for k in tqdm(outer_lvl, desc = 'Epoch progress'):\n",
    "            avg_loss = 0.\n",
    "            start = 0; end = batch_size\n",
    "        \n",
    "            for i in range(iteration):\n",
    "                _, loss, summary = sess.run([optimizer, cost, merged], feed_dict={X: X_train[start: end], Y: y_train[start: end]})\n",
    "                start += batch_size; end += batch_size\n",
    "                avg_loss += loss / iteration\n",
    "                            \n",
    "            # save_path  = saver.save(sess, 'model5-graddesc-mse-lr{}'.format(lr), write_meta_graph = False, write_state = False)                            \n",
    "            cur_val_acc, summary = sess.run([accuracy5, merged], feed_dict = {X: X_valid, Y: y_valid})\n",
    "            \n",
    "            if lr == 0.01:\n",
    "                writer1.add_summary(summary, k)\n",
    "            elif lr == 0.02:\n",
    "                writer2.add_summary(summary, k)\n",
    "            elif lr == 0.03:\n",
    "                writer3.add_summary(summary, k)\n",
    "            elif lr == 0.04:\n",
    "                writer4.add_summary(summary, k)\n",
    "            else:\n",
    "                writer5.add_summary(summary, k)\n",
    "                \n",
    "        training_log52['Fit №' + str(learning_rate_list.index(lr) + 1)] = [cur_val_acc, avg_loss, lr]\n",
    "\n",
    "        j += 1"
   ]
  },
  {
   "cell_type": "code",
   "execution_count": 81,
   "id": "49c46336-e84d-458e-ad17-5468508049d2",
   "metadata": {},
   "outputs": [],
   "source": [
    "#results\n",
    "# training_log52"
   ]
  },
  {
   "cell_type": "code",
   "execution_count": 82,
   "id": "276e3c64-6581-41f7-9eee-4f0177e8b445",
   "metadata": {},
   "outputs": [
    {
     "name": "stdout",
     "output_type": "stream",
     "text": [
      "INFO:tensorflow:Restoring parameters from model5-graddesc-mse-lr0.05\n"
     ]
    }
   ],
   "source": [
    "with tf.Session() as sess:\n",
    "    saver.restore(sess, 'model5-graddesc-mse-lr0.05')\n",
    "    preds = tf.nn.softmax(model5)\n",
    "    preds_val = preds.eval({X: X_valid, Y: y_valid})\n",
    "    for i in range(len(preds_val)):\n",
    "        preds_val[i] = np.where(preds_val[i] < max(preds_val[i]), 0, 1)\n",
    "    scores['model5-graddesc-mse'] = [f1_score(y_valid, preds_val, average = 'macro'), roc_auc_score(y_valid, preds_val, multi_class = 'ovr', average = 'macro'), accuracy5.eval({X: X_valid, Y: y_valid})]"
   ]
  },
  {
   "cell_type": "code",
   "execution_count": 83,
   "id": "418fce16-dcd6-42ef-b112-bb0cc3e9bea9",
   "metadata": {},
   "outputs": [
    {
     "name": "stdout",
     "output_type": "stream",
     "text": [
      "Training model. Current learning rate: 0.01\n"
     ]
    },
    {
     "data": {
      "application/vnd.jupyter.widget-view+json": {
       "model_id": "c8e9bd7580d0487fbf828b17bce1a067",
       "version_major": 2,
       "version_minor": 0
      },
      "text/plain": [
       "Epoch progress:   0%|          | 0/50 [00:00<?, ?it/s]"
      ]
     },
     "metadata": {},
     "output_type": "display_data"
    },
    {
     "name": "stdout",
     "output_type": "stream",
     "text": [
      "Training model. Current learning rate: 0.02\n"
     ]
    },
    {
     "data": {
      "application/vnd.jupyter.widget-view+json": {
       "model_id": "c3ffbc0338ea401280f3ddb7d5325d45",
       "version_major": 2,
       "version_minor": 0
      },
      "text/plain": [
       "Epoch progress:   0%|          | 0/50 [00:00<?, ?it/s]"
      ]
     },
     "metadata": {},
     "output_type": "display_data"
    },
    {
     "name": "stdout",
     "output_type": "stream",
     "text": [
      "Training model. Current learning rate: 0.03\n"
     ]
    },
    {
     "data": {
      "application/vnd.jupyter.widget-view+json": {
       "model_id": "4e1539e96a9d4ba7895861a684da08f6",
       "version_major": 2,
       "version_minor": 0
      },
      "text/plain": [
       "Epoch progress:   0%|          | 0/50 [00:00<?, ?it/s]"
      ]
     },
     "metadata": {},
     "output_type": "display_data"
    },
    {
     "name": "stdout",
     "output_type": "stream",
     "text": [
      "Training model. Current learning rate: 0.04\n"
     ]
    },
    {
     "data": {
      "application/vnd.jupyter.widget-view+json": {
       "model_id": "28db5901239c44c1b5d8007460cf9520",
       "version_major": 2,
       "version_minor": 0
      },
      "text/plain": [
       "Epoch progress:   0%|          | 0/50 [00:00<?, ?it/s]"
      ]
     },
     "metadata": {},
     "output_type": "display_data"
    },
    {
     "name": "stdout",
     "output_type": "stream",
     "text": [
      "Training model. Current learning rate: 0.05\n"
     ]
    },
    {
     "data": {
      "application/vnd.jupyter.widget-view+json": {
       "model_id": "61431e92bf4d4486b5cd65ab252f16e4",
       "version_major": 2,
       "version_minor": 0
      },
      "text/plain": [
       "Epoch progress:   0%|          | 0/50 [00:00<?, ?it/s]"
      ]
     },
     "metadata": {},
     "output_type": "display_data"
    }
   ],
   "source": [
    "# training model5 with gradient descent optimizer & cross entropy cost\n",
    "j = 1\n",
    "\n",
    "acc_summary = tf.summary.scalar('Accuracy_summary_for_model5_with_Gradient_Descent_optimizer_and_Cross_entropy_cost', accuracy5)\n",
    "cost = tf.reduce_mean(tf.nn.softmax_cross_entropy_with_logits_v2(logits = model5, labels = Y))\n",
    "loss_summary = tf.summary.scalar('Loss_summary_for_model5_with_Gradient_Descent_optimizer_and_Cross_entropy_cost', cost)\n",
    "merged = tf.summary.merge([acc_summary, loss_summary])\n",
    "\n",
    "for lr in learning_rate_list:\n",
    "    optimizer = tf.compat.v1.train.GradientDescentOptimizer(lr).minimize(cost)    \n",
    "    init = tf.global_variables_initializer()\n",
    "    \n",
    "    print('Training model. Current learning rate: {:.2f}'.format(lr))\n",
    "    \n",
    "    outer_lvl = list(range(epoch))\n",
    "    \n",
    "    with tf.Session() as sess:\n",
    "        \n",
    "        writer1 = tf.summary.FileWriter('tblogs/model5/graddesc-crossentr/lr0.01', sess.graph)\n",
    "        writer2 = tf.summary.FileWriter('tblogs/model5/graddesc-crossentr/lr0.02', sess.graph)\n",
    "        writer3 = tf.summary.FileWriter('tblogs/model5/graddesc-crossentr/lr0.03', sess.graph)\n",
    "        writer4 = tf.summary.FileWriter('tblogs/model5/graddesc-crossentr/lr0.04', sess.graph)\n",
    "        writer5 = tf.summary.FileWriter('tblogs/model5/graddesc-crossentr/lr0.05', sess.graph)\n",
    "        \n",
    "        sess.run(init)\n",
    "        for k in tqdm(outer_lvl, desc = 'Epoch progress'):\n",
    "            avg_loss = 0.\n",
    "            start = 0; end = batch_size\n",
    "        \n",
    "            for i in range(iteration):\n",
    "                _, loss, summary = sess.run([optimizer, cost, merged], feed_dict={X: X_train[start: end], Y: y_train[start: end]})\n",
    "                start += batch_size; end += batch_size\n",
    "                avg_loss += loss / iteration\n",
    "            \n",
    "            # save_path  = saver.save(sess, 'model5-graddesc-crossentr-lr{}'.format(lr), write_meta_graph = False, write_state = False)                            \n",
    "            cur_val_acc, summary = sess.run([accuracy5, merged], feed_dict = {X: X_valid, Y: y_valid})\n",
    "            \n",
    "            if lr == 0.01:\n",
    "                writer1.add_summary(summary, k)\n",
    "            elif lr == 0.02:\n",
    "                writer2.add_summary(summary, k)\n",
    "            elif lr == 0.03:\n",
    "                writer3.add_summary(summary, k)\n",
    "            elif lr == 0.04:\n",
    "                writer4.add_summary(summary, k)\n",
    "            else:\n",
    "                writer5.add_summary(summary, k)\n",
    "        \n",
    "        training_log53['Fit №' + str(learning_rate_list.index(lr) + 1)] = [cur_val_acc, avg_loss, lr]\n",
    "        j += 1"
   ]
  },
  {
   "cell_type": "code",
   "execution_count": 84,
   "id": "b9408b55-f0fe-4ec8-902d-66cc980202ce",
   "metadata": {},
   "outputs": [],
   "source": [
    "#results\n",
    "# training_log53"
   ]
  },
  {
   "cell_type": "code",
   "execution_count": 85,
   "id": "714721fd-08dd-436d-9263-3893deb90bef",
   "metadata": {},
   "outputs": [
    {
     "name": "stdout",
     "output_type": "stream",
     "text": [
      "INFO:tensorflow:Restoring parameters from model5-graddesc-crossentr-lr0.05\n"
     ]
    }
   ],
   "source": [
    "with tf.Session() as sess:\n",
    "    saver.restore(sess, 'model5-graddesc-crossentr-lr0.05')\n",
    "    preds = tf.nn.softmax(model5)\n",
    "    preds_val = preds.eval({X: X_valid, Y: y_valid})\n",
    "    for i in range(len(preds_val)):\n",
    "        preds_val[i] = np.where(preds_val[i] < max(preds_val[i]), 0, 1)\n",
    "    scores['model5-graddesc-crossentr'] = [f1_score(y_valid, preds_val, average = 'macro'), roc_auc_score(y_valid, preds_val, multi_class = 'ovr', average = 'macro'), accuracy5.eval({X: X_valid, Y: y_valid})]"
   ]
  },
  {
   "cell_type": "code",
   "execution_count": 86,
   "id": "0a8e4ede-21c5-47a4-8f7c-cb4e4ed8ade3",
   "metadata": {
    "tags": []
   },
   "outputs": [
    {
     "name": "stdout",
     "output_type": "stream",
     "text": [
      "Training model. Current learning rate: 0.01\n"
     ]
    },
    {
     "data": {
      "application/vnd.jupyter.widget-view+json": {
       "model_id": "cfa3c5486f354c289bd9caf7fd4b607d",
       "version_major": 2,
       "version_minor": 0
      },
      "text/plain": [
       "Epoch progress:   0%|          | 0/50 [00:00<?, ?it/s]"
      ]
     },
     "metadata": {},
     "output_type": "display_data"
    },
    {
     "name": "stdout",
     "output_type": "stream",
     "text": [
      "Training model. Current learning rate: 0.02\n"
     ]
    },
    {
     "data": {
      "application/vnd.jupyter.widget-view+json": {
       "model_id": "3a7d38a82f084a59b8c69dc42b44398b",
       "version_major": 2,
       "version_minor": 0
      },
      "text/plain": [
       "Epoch progress:   0%|          | 0/50 [00:00<?, ?it/s]"
      ]
     },
     "metadata": {},
     "output_type": "display_data"
    },
    {
     "name": "stdout",
     "output_type": "stream",
     "text": [
      "Training model. Current learning rate: 0.03\n"
     ]
    },
    {
     "data": {
      "application/vnd.jupyter.widget-view+json": {
       "model_id": "3d0d7912405f45758706fd03533e1c88",
       "version_major": 2,
       "version_minor": 0
      },
      "text/plain": [
       "Epoch progress:   0%|          | 0/50 [00:00<?, ?it/s]"
      ]
     },
     "metadata": {},
     "output_type": "display_data"
    },
    {
     "name": "stdout",
     "output_type": "stream",
     "text": [
      "Training model. Current learning rate: 0.04\n"
     ]
    },
    {
     "data": {
      "application/vnd.jupyter.widget-view+json": {
       "model_id": "bc4527c0e6c84573932fb64851aae6f1",
       "version_major": 2,
       "version_minor": 0
      },
      "text/plain": [
       "Epoch progress:   0%|          | 0/50 [00:00<?, ?it/s]"
      ]
     },
     "metadata": {},
     "output_type": "display_data"
    },
    {
     "name": "stdout",
     "output_type": "stream",
     "text": [
      "Training model. Current learning rate: 0.05\n"
     ]
    },
    {
     "data": {
      "application/vnd.jupyter.widget-view+json": {
       "model_id": "bd296c52b44a4462b5339f74ec69cf90",
       "version_major": 2,
       "version_minor": 0
      },
      "text/plain": [
       "Epoch progress:   0%|          | 0/50 [00:00<?, ?it/s]"
      ]
     },
     "metadata": {},
     "output_type": "display_data"
    }
   ],
   "source": [
    "# training model5 with Adam optimizer & cross entropy cost\n",
    "j = 1\n",
    "\n",
    "acc_summary = tf.summary.scalar('Accuracy_summary_for_model5_with_Adam_optimizer_and_Cross_entropy_cost', accuracy5)\n",
    "cost = tf.reduce_mean(tf.nn.softmax_cross_entropy_with_logits_v2(logits = model5, labels = Y))\n",
    "loss_summary = tf.summary.scalar('Loss_summary_for_model5_with_Adam_optimizer_and_Cross_entropy_cost', cost)\n",
    "merged = tf.summary.merge([acc_summary, loss_summary])\n",
    "\n",
    "for lr in learning_rate_list:\n",
    "    optimizer = tf.compat.v1.train.AdamOptimizer(lr).minimize(cost)    \n",
    "    init = tf.global_variables_initializer()\n",
    "    \n",
    "    print('Training model. Current learning rate: {:.2f}'.format(lr))\n",
    "    \n",
    "    outer_lvl = list(range(epoch))\n",
    "    \n",
    "    with tf.Session() as sess:\n",
    "        \n",
    "        writer1 = tf.summary.FileWriter('tblogs/model5/adam-crossentr/lr0.01', sess.graph)\n",
    "        writer2 = tf.summary.FileWriter('tblogs/model5/adam-crossentr/lr0.02', sess.graph)\n",
    "        writer3 = tf.summary.FileWriter('tblogs/model5/adam-crossentr/lr0.03', sess.graph)\n",
    "        writer4 = tf.summary.FileWriter('tblogs/model5/adam-crossentr/lr0.04', sess.graph)\n",
    "        writer5 = tf.summary.FileWriter('tblogs/model5/adam-crossentr/lr0.05', sess.graph)\n",
    "        \n",
    "        sess.run(init)\n",
    "        for k in tqdm(outer_lvl, desc = 'Epoch progress'):\n",
    "            avg_loss = 0.\n",
    "            start = 0; end = batch_size\n",
    "        \n",
    "            for i in range(iteration):\n",
    "                _, loss, summary = sess.run([optimizer, cost, merged], feed_dict={X: X_train[start: end], Y: y_train[start: end]})\n",
    "                start += batch_size; end += batch_size\n",
    "                avg_loss += loss / iteration\n",
    "            \n",
    "            # save_path = saver.save(sess, 'model5-adam-crossentr-lr{}'.format(lr), write_meta_graph = False, write_state = False)                            \n",
    "            cur_val_acc, summary = sess.run([accuracy5, merged], feed_dict = {X: X_valid, Y: y_valid})\n",
    "            \n",
    "            if lr == 0.01:\n",
    "                writer1.add_summary(summary, k)\n",
    "            elif lr == 0.02:\n",
    "                writer2.add_summary(summary, k)\n",
    "            elif lr == 0.03:\n",
    "                writer3.add_summary(summary, k)\n",
    "            elif lr == 0.04:\n",
    "                writer4.add_summary(summary, k)\n",
    "            else:\n",
    "                writer5.add_summary(summary, k)\n",
    "                \n",
    "        training_log54['Fit №' + str(learning_rate_list.index(lr) + 1)] = [cur_val_acc, avg_loss, lr]\n",
    "        j += 1"
   ]
  },
  {
   "cell_type": "code",
   "execution_count": 87,
   "id": "0c8c4b34-0db0-4e41-a34d-1a3e586050c5",
   "metadata": {},
   "outputs": [],
   "source": [
    "#results\n",
    "# training_log54"
   ]
  },
  {
   "cell_type": "code",
   "execution_count": 88,
   "id": "474f9a0c-1053-4376-899a-844052eedd57",
   "metadata": {},
   "outputs": [
    {
     "name": "stdout",
     "output_type": "stream",
     "text": [
      "INFO:tensorflow:Restoring parameters from model5-adam-crossentr-lr0.01\n"
     ]
    }
   ],
   "source": [
    "with tf.Session() as sess:\n",
    "    saver.restore(sess, 'model5-adam-crossentr-lr0.01')\n",
    "    preds = tf.nn.softmax(model5)\n",
    "    preds_val = preds.eval({X: X_valid, Y: y_valid})\n",
    "    for i in range(len(preds_val)):\n",
    "        preds_val[i] = np.where(preds_val[i] < max(preds_val[i]), 0, 1)\n",
    "    scores['model5-adam-crossentr'] = [f1_score(y_valid, preds_val, average = 'macro'), roc_auc_score(y_valid, preds_val, multi_class = 'ovr', average = 'macro'), accuracy5.eval({X: X_valid, Y: y_valid})]"
   ]
  },
  {
   "cell_type": "code",
   "execution_count": 89,
   "id": "1143a544-7c01-49bd-bea3-5c885015f5c5",
   "metadata": {},
   "outputs": [
    {
     "data": {
      "text/html": [
       "\n",
       "      <iframe id=\"tensorboard-frame-b490551074fe99c5\" width=\"100%\" height=\"800\" frameborder=\"0\">\n",
       "      </iframe>\n",
       "      <script>\n",
       "        (function() {\n",
       "          const frame = document.getElementById(\"tensorboard-frame-b490551074fe99c5\");\n",
       "          const url = new URL(\"/\", window.location);\n",
       "          const port = 6006;\n",
       "          if (port) {\n",
       "            url.port = port;\n",
       "          }\n",
       "          frame.src = url;\n",
       "        })();\n",
       "      </script>\n",
       "    "
      ],
      "text/plain": [
       "<IPython.core.display.HTML object>"
      ]
     },
     "metadata": {},
     "output_type": "display_data"
    }
   ],
   "source": [
    "%tensorboard --logdir './tblogs' #--host localhost"
   ]
  },
  {
   "cell_type": "code",
   "execution_count": 90,
   "id": "fb614862-1dda-46bc-815c-a2cefb2c44ce",
   "metadata": {},
   "outputs": [
    {
     "data": {
      "text/html": [
       "<div>\n",
       "<style scoped>\n",
       "    .dataframe tbody tr th:only-of-type {\n",
       "        vertical-align: middle;\n",
       "    }\n",
       "\n",
       "    .dataframe tbody tr th {\n",
       "        vertical-align: top;\n",
       "    }\n",
       "\n",
       "    .dataframe thead th {\n",
       "        text-align: right;\n",
       "    }\n",
       "</style>\n",
       "<table border=\"1\" class=\"dataframe\">\n",
       "  <thead>\n",
       "    <tr style=\"text-align: right;\">\n",
       "      <th></th>\n",
       "      <th>model1-adam-mse</th>\n",
       "      <th>model1-graddesc-mse</th>\n",
       "      <th>model1-graddesc-crossentr</th>\n",
       "      <th>model1-adam-crossentr</th>\n",
       "      <th>model2-adam-mse</th>\n",
       "      <th>model2-graddesc-mse</th>\n",
       "      <th>model2-graddesc-crossentr</th>\n",
       "      <th>model2-adam-crossentr</th>\n",
       "      <th>model3-adam-mse</th>\n",
       "      <th>model3-graddesc-mse</th>\n",
       "      <th>model3-graddesc-crossentr</th>\n",
       "      <th>model3-adam-crossentr</th>\n",
       "      <th>model4-graddesc-mse</th>\n",
       "      <th>model4-graddesc-crossentr</th>\n",
       "      <th>model4-adam-crossentr</th>\n",
       "      <th>model5-adam-mse</th>\n",
       "      <th>model5-graddesc-mse</th>\n",
       "      <th>model5-graddesc-crossentr</th>\n",
       "      <th>model5-adam-crossentr</th>\n",
       "    </tr>\n",
       "  </thead>\n",
       "  <tbody>\n",
       "    <tr>\n",
       "      <th>F1</th>\n",
       "      <td>0.791969</td>\n",
       "      <td>0.177356</td>\n",
       "      <td>0.803749</td>\n",
       "      <td>0.926214</td>\n",
       "      <td>0.956630</td>\n",
       "      <td>0.902663</td>\n",
       "      <td>0.962943</td>\n",
       "      <td>0.991626</td>\n",
       "      <td>0.963471</td>\n",
       "      <td>0.893046</td>\n",
       "      <td>0.945995</td>\n",
       "      <td>0.995396</td>\n",
       "      <td>0.906089</td>\n",
       "      <td>0.956969</td>\n",
       "      <td>0.989828</td>\n",
       "      <td>0.983477</td>\n",
       "      <td>0.892981</td>\n",
       "      <td>0.959426</td>\n",
       "      <td>0.995131</td>\n",
       "    </tr>\n",
       "    <tr>\n",
       "      <th>AUC</th>\n",
       "      <td>0.881876</td>\n",
       "      <td>0.543662</td>\n",
       "      <td>0.891245</td>\n",
       "      <td>0.958711</td>\n",
       "      <td>0.975770</td>\n",
       "      <td>0.945993</td>\n",
       "      <td>0.979406</td>\n",
       "      <td>0.995446</td>\n",
       "      <td>0.979787</td>\n",
       "      <td>0.940574</td>\n",
       "      <td>0.969978</td>\n",
       "      <td>0.997452</td>\n",
       "      <td>0.947892</td>\n",
       "      <td>0.976100</td>\n",
       "      <td>0.994412</td>\n",
       "      <td>0.990786</td>\n",
       "      <td>0.940573</td>\n",
       "      <td>0.977448</td>\n",
       "      <td>0.997297</td>\n",
       "    </tr>\n",
       "    <tr>\n",
       "      <th>Validation accuracy</th>\n",
       "      <td>0.791333</td>\n",
       "      <td>0.180750</td>\n",
       "      <td>0.806667</td>\n",
       "      <td>0.927083</td>\n",
       "      <td>0.956583</td>\n",
       "      <td>0.904250</td>\n",
       "      <td>0.963250</td>\n",
       "      <td>0.991667</td>\n",
       "      <td>0.963750</td>\n",
       "      <td>0.894417</td>\n",
       "      <td>0.946583</td>\n",
       "      <td>0.995417</td>\n",
       "      <td>0.907333</td>\n",
       "      <td>0.957417</td>\n",
       "      <td>0.989833</td>\n",
       "      <td>0.983583</td>\n",
       "      <td>0.894250</td>\n",
       "      <td>0.959833</td>\n",
       "      <td>0.995167</td>\n",
       "    </tr>\n",
       "  </tbody>\n",
       "</table>\n",
       "</div>"
      ],
      "text/plain": [
       "                     model1-adam-mse  model1-graddesc-mse  \\\n",
       "F1                          0.791969             0.177356   \n",
       "AUC                         0.881876             0.543662   \n",
       "Validation accuracy         0.791333             0.180750   \n",
       "\n",
       "                     model1-graddesc-crossentr  model1-adam-crossentr  \\\n",
       "F1                                    0.803749               0.926214   \n",
       "AUC                                   0.891245               0.958711   \n",
       "Validation accuracy                   0.806667               0.927083   \n",
       "\n",
       "                     model2-adam-mse  model2-graddesc-mse  \\\n",
       "F1                          0.956630             0.902663   \n",
       "AUC                         0.975770             0.945993   \n",
       "Validation accuracy         0.956583             0.904250   \n",
       "\n",
       "                     model2-graddesc-crossentr  model2-adam-crossentr  \\\n",
       "F1                                    0.962943               0.991626   \n",
       "AUC                                   0.979406               0.995446   \n",
       "Validation accuracy                   0.963250               0.991667   \n",
       "\n",
       "                     model3-adam-mse  model3-graddesc-mse  \\\n",
       "F1                          0.963471             0.893046   \n",
       "AUC                         0.979787             0.940574   \n",
       "Validation accuracy         0.963750             0.894417   \n",
       "\n",
       "                     model3-graddesc-crossentr  model3-adam-crossentr  \\\n",
       "F1                                    0.945995               0.995396   \n",
       "AUC                                   0.969978               0.997452   \n",
       "Validation accuracy                   0.946583               0.995417   \n",
       "\n",
       "                     model4-graddesc-mse  model4-graddesc-crossentr  \\\n",
       "F1                              0.906089                   0.956969   \n",
       "AUC                             0.947892                   0.976100   \n",
       "Validation accuracy             0.907333                   0.957417   \n",
       "\n",
       "                     model4-adam-crossentr  model5-adam-mse  \\\n",
       "F1                                0.989828         0.983477   \n",
       "AUC                               0.994412         0.990786   \n",
       "Validation accuracy               0.989833         0.983583   \n",
       "\n",
       "                     model5-graddesc-mse  model5-graddesc-crossentr  \\\n",
       "F1                              0.892981                   0.959426   \n",
       "AUC                             0.940573                   0.977448   \n",
       "Validation accuracy             0.894250                   0.959833   \n",
       "\n",
       "                     model5-adam-crossentr  \n",
       "F1                                0.995131  \n",
       "AUC                               0.997297  \n",
       "Validation accuracy               0.995167  "
      ]
     },
     "execution_count": 90,
     "metadata": {},
     "output_type": "execute_result"
    }
   ],
   "source": [
    "#all models scores\n",
    "scores"
   ]
  },
  {
   "cell_type": "code",
   "execution_count": 91,
   "id": "11da3890-e2dc-4e9a-b042-70321a3b794d",
   "metadata": {},
   "outputs": [
    {
     "name": "stdout",
     "output_type": "stream",
     "text": [
      "F1                     0.995396\n",
      "AUC                    0.997452\n",
      "Validation accuracy    0.995417\n",
      "Name: model3-adam-crossentr, dtype: float64\n"
     ]
    }
   ],
   "source": [
    "#defining best model\n",
    "for col in scores.columns:\n",
    "    if scores[col].loc['F1'] == scores.loc['F1'].values.max():\n",
    "        best_model = scores[col]\n",
    "        \n",
    "print(best_model)"
   ]
  },
  {
   "cell_type": "code",
   "execution_count": 92,
   "id": "b473a0c2-e2b3-48d0-9434-f51a6f4055b5",
   "metadata": {},
   "outputs": [
    {
     "name": "stdout",
     "output_type": "stream",
     "text": [
      "INFO:tensorflow:Restoring parameters from model5-adam-crossentr-lr0.01\n",
      "For 9810 handwritten digit we have correct prediction from model. Gratz.\n"
     ]
    }
   ],
   "source": [
    "#restoring best model and predicting random image\n",
    "with tf.Session() as sess:\n",
    "    saver.restore(sess, 'model5-adam-crossentr-lr0.01')\n",
    "    preds = tf.nn.softmax(model5)\n",
    "    preds_val = preds.eval({X: X_test, Y: y_test})\n",
    "    for i in range(len(preds_val)):\n",
    "        preds_val[i] = np.where(preds_val[i] < max(preds_val[i]), 0, 1)\n",
    "\n",
    "num = random.randint(0, len(y_test))\n",
    "if np.array_equal(preds_val[num], y_test[num]):\n",
    "    print('For {} handwritten digit we have correct prediction from model. Gratz.'.format(num))\n",
    "else:\n",
    "    print('Looks like model made mistake on {} handwritten digit. Mistakes happens, accuracy is not 100%.'.format(num))"
   ]
  },
  {
   "cell_type": "code",
   "execution_count": 93,
   "id": "f9f5d9cf-9571-4223-b18a-bcdf5aa0abe8",
   "metadata": {},
   "outputs": [
    {
     "data": {
      "text/plain": [
       "array([0., 1., 0., 0., 0., 0., 0., 0., 0., 0.], dtype=float32)"
      ]
     },
     "execution_count": 93,
     "metadata": {},
     "output_type": "execute_result"
    }
   ],
   "source": [
    "#double-check\n",
    "preds_val[num]"
   ]
  },
  {
   "cell_type": "code",
   "execution_count": 94,
   "id": "431c61b7-2225-431f-91e6-d96fc4107941",
   "metadata": {},
   "outputs": [
    {
     "data": {
      "text/plain": [
       "array([0., 1., 0., 0., 0., 0., 0., 0., 0., 0.], dtype=float32)"
      ]
     },
     "execution_count": 94,
     "metadata": {},
     "output_type": "execute_result"
    }
   ],
   "source": [
    "#double-check\n",
    "y_test[num]"
   ]
  }
 ],
 "metadata": {
  "kernelspec": {
   "display_name": "Python 3 (ipykernel)",
   "language": "python",
   "name": "python3"
  },
  "language_info": {
   "codemirror_mode": {
    "name": "ipython",
    "version": 3
   },
   "file_extension": ".py",
   "mimetype": "text/x-python",
   "name": "python",
   "nbconvert_exporter": "python",
   "pygments_lexer": "ipython3",
   "version": "3.10.4"
  }
 },
 "nbformat": 4,
 "nbformat_minor": 5
}
